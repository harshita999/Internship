{
 "cells": [
  {
   "cell_type": "markdown",
   "id": "63168870",
   "metadata": {},
   "source": [
    "# Web Scrapping using Selenium"
   ]
  },
  {
   "cell_type": "markdown",
   "id": "f0ac0143",
   "metadata": {},
   "source": [
    "Write a python program to scrape data for “Data Analyst” Job position in “Bangalore” location. You\n",
    "have to scrape the job-title, job-location, company_name, experience_required. You have to scrape first 10\n",
    "jobs data.\n",
    "This task will be done in following steps:\n",
    "1. First get the webpage https://www.naukri.com/\n",
    "2. Enter “Data Analyst” in “Skill, Designations, Companies” field and enter “Bangalore” in “enter the\n",
    "location” field.\n",
    "3. Then click the search button.\n",
    "4. Then scrape the data for the first 10 jobs results you get.\n",
    "5. Finally create a dataframe of the scraped data."
   ]
  },
  {
   "cell_type": "markdown",
   "id": "ab0f3c28",
   "metadata": {},
   "source": [
    "#installing selenium library\n",
    "!pip install selenium"
   ]
  },
  {
   "cell_type": "code",
   "execution_count": 1,
   "id": "eb8422f4",
   "metadata": {},
   "outputs": [],
   "source": [
    "#importing libraries\n",
    "import pandas as pd\n",
    "import selenium\n",
    "from selenium import webdriver\n",
    "import warnings\n",
    "warnings.filterwarnings('ignore')"
   ]
  },
  {
   "cell_type": "code",
   "execution_count": 2,
   "id": "50d1cd6c",
   "metadata": {},
   "outputs": [],
   "source": [
    "driver= webdriver.Chrome(r'C:/Users/Harshita/Downloads/chromedriver_win32/chromedriver')"
   ]
  },
  {
   "cell_type": "code",
   "execution_count": 3,
   "id": "821c7b8a",
   "metadata": {},
   "outputs": [],
   "source": [
    "url= 'https://www.naukri.com/'\n",
    "driver.get(url)"
   ]
  },
  {
   "cell_type": "code",
   "execution_count": 4,
   "id": "3d5c172c",
   "metadata": {},
   "outputs": [
    {
     "data": {
      "text/plain": [
       "<selenium.webdriver.remote.webelement.WebElement (session=\"3ddcf9586568dd8f463016d867a16e45\", element=\"afb0d825-4dfa-4741-8d62-f6f3661d76ed\")>"
      ]
     },
     "execution_count": 4,
     "metadata": {},
     "output_type": "execute_result"
    }
   ],
   "source": [
    "#finding web element for search job bar using url\n",
    "search_job= driver.find_element_by_class_name('suggestor-input')\n",
    "search_job"
   ]
  },
  {
   "cell_type": "code",
   "execution_count": 5,
   "id": "5b1de4a0",
   "metadata": {},
   "outputs": [],
   "source": [
    "#write on search bar\n",
    "search_job.send_keys('Data Analyst')"
   ]
  },
  {
   "cell_type": "code",
   "execution_count": 6,
   "id": "1f7834d6",
   "metadata": {},
   "outputs": [
    {
     "data": {
      "text/plain": [
       "<selenium.webdriver.remote.webelement.WebElement (session=\"3ddcf9586568dd8f463016d867a16e45\", element=\"34e28d42-177b-4645-9c4e-9ee71949312b\")>"
      ]
     },
     "execution_count": 6,
     "metadata": {},
     "output_type": "execute_result"
    }
   ],
   "source": [
    "#finding web element for search location using absolute xpath\n",
    "search_location= driver.find_element_by_xpath('/html/body/div/div[2]/div[3]/div/div/div[3]/div/div/div/input')\n",
    "search_location"
   ]
  },
  {
   "cell_type": "code",
   "execution_count": 7,
   "id": "c34fb16d",
   "metadata": {},
   "outputs": [],
   "source": [
    "#finding web element for job location\n",
    "search_location.send_keys('Bangalore')"
   ]
  },
  {
   "cell_type": "code",
   "execution_count": 8,
   "id": "74ed2b1a",
   "metadata": {},
   "outputs": [
    {
     "data": {
      "text/plain": [
       "<selenium.webdriver.remote.webelement.WebElement (session=\"3ddcf9586568dd8f463016d867a16e45\", element=\"34e28d42-177b-4645-9c4e-9ee71949312b\")>"
      ]
     },
     "execution_count": 8,
     "metadata": {},
     "output_type": "execute_result"
    }
   ],
   "source": [
    "search_button= driver.find_element_by_xpath('/html/body/div/div[2]/div[3]/div/div/div[6]')\n",
    "search_location"
   ]
  },
  {
   "cell_type": "code",
   "execution_count": 9,
   "id": "fa8702bc",
   "metadata": {},
   "outputs": [],
   "source": [
    "search_button.click()"
   ]
  },
  {
   "cell_type": "code",
   "execution_count": 10,
   "id": "79bb6981",
   "metadata": {},
   "outputs": [
    {
     "data": {
      "text/plain": [
       "<selenium.webdriver.remote.webelement.WebElement (session=\"3ddcf9586568dd8f463016d867a16e45\", element=\"27febff0-90f2-493d-8024-9132d776d684\")>"
      ]
     },
     "execution_count": 10,
     "metadata": {},
     "output_type": "execute_result"
    }
   ],
   "source": [
    "salary_check= driver.find_element_by_xpath('/html/body/div[1]/div[3]/div[2]/section[1]/div[2]/div[4]/div[2]/div[1]/label/i')\n",
    "salary_check"
   ]
  },
  {
   "cell_type": "code",
   "execution_count": 11,
   "id": "97146003",
   "metadata": {},
   "outputs": [],
   "source": [
    "salary_check.click()"
   ]
  },
  {
   "cell_type": "code",
   "execution_count": 12,
   "id": "716e19df",
   "metadata": {},
   "outputs": [
    {
     "data": {
      "text/plain": [
       "[<selenium.webdriver.remote.webelement.WebElement (session=\"3ddcf9586568dd8f463016d867a16e45\", element=\"de4f8336-3ca9-45d5-ad0b-9b34907b091e\")>,\n",
       " <selenium.webdriver.remote.webelement.WebElement (session=\"3ddcf9586568dd8f463016d867a16e45\", element=\"e4ba6ab2-3889-4ea4-80fb-2a1fb69a8d77\")>]"
      ]
     },
     "execution_count": 12,
     "metadata": {},
     "output_type": "execute_result"
    }
   ],
   "source": [
    "title_tags= driver.find_elements_by_xpath('//a[@class=\"title fw500 ellipsis\"]')\n",
    "len(title_tags)\n",
    "title_tags[0:2]"
   ]
  },
  {
   "cell_type": "code",
   "execution_count": 13,
   "id": "f10b48ae",
   "metadata": {},
   "outputs": [
    {
     "data": {
      "text/plain": [
       "['Job openings For Data Analyst - AOA',\n",
       " 'Hiring Data Analyst-Coimbatore/Bangalore']"
      ]
     },
     "execution_count": 13,
     "metadata": {},
     "output_type": "execute_result"
    }
   ],
   "source": [
    "#to scrape the job title using for loop\n",
    "job_titles=[]\n",
    "for i in title_tags:\n",
    "    job_titles.append(i.text)\n",
    "len(job_titles)\n",
    "job_titles[0:2]"
   ]
  },
  {
   "cell_type": "code",
   "execution_count": 14,
   "id": "d6b56caf",
   "metadata": {},
   "outputs": [
    {
     "data": {
      "text/plain": [
       "[<selenium.webdriver.remote.webelement.WebElement (session=\"3ddcf9586568dd8f463016d867a16e45\", element=\"491d829e-2457-4df4-a77f-07f824025114\")>,\n",
       " <selenium.webdriver.remote.webelement.WebElement (session=\"3ddcf9586568dd8f463016d867a16e45\", element=\"60485992-d6d8-446c-adad-8e41d8bc7aab\")>]"
      ]
     },
     "execution_count": 14,
     "metadata": {},
     "output_type": "execute_result"
    }
   ],
   "source": [
    "#extracting company tags\n",
    "company_tags= driver.find_elements_by_xpath('//a[@class=\"subTitle ellipsis fleft\"]')\n",
    "company_tags[0:2]"
   ]
  },
  {
   "cell_type": "code",
   "execution_count": 15,
   "id": "e45be70c",
   "metadata": {},
   "outputs": [
    {
     "data": {
      "text/plain": [
       "['izmo ltd', 'KGISL BSS- Division of KG Information System Priva te Limited']"
      ]
     },
     "execution_count": 15,
     "metadata": {},
     "output_type": "execute_result"
    }
   ],
   "source": [
    "#extracting company names using for loop\n",
    "company_names=[]\n",
    "for i in company_tags:\n",
    "    company_names.append(i.text)\n",
    "len(company_names)\n",
    "company_names[0:2]"
   ]
  },
  {
   "cell_type": "code",
   "execution_count": 16,
   "id": "919db64a",
   "metadata": {},
   "outputs": [
    {
     "data": {
      "text/plain": [
       "[<selenium.webdriver.remote.webelement.WebElement (session=\"3ddcf9586568dd8f463016d867a16e45\", element=\"5e555d7c-f64b-4721-94e2-4e9952443ed3\")>,\n",
       " <selenium.webdriver.remote.webelement.WebElement (session=\"3ddcf9586568dd8f463016d867a16e45\", element=\"d39c07db-5149-4a7e-ae0e-af5ee6d98806\")>]"
      ]
     },
     "execution_count": 16,
     "metadata": {},
     "output_type": "execute_result"
    }
   ],
   "source": [
    "#extracting location tags\n",
    "location_tags= driver.find_elements_by_xpath('//li[@class=\"fleft grey-text br2 placeHolderLi location\"]')\n",
    "len(location_tags)\n",
    "location_tags[0:2]"
   ]
  },
  {
   "cell_type": "code",
   "execution_count": 17,
   "id": "17cf692f",
   "metadata": {},
   "outputs": [
    {
     "data": {
      "text/plain": [
       "['Bangalore/Bengaluru(4th Phase JP Nagar)', 'Coimbatore, Bangalore/Bengaluru']"
      ]
     },
     "execution_count": 17,
     "metadata": {},
     "output_type": "execute_result"
    }
   ],
   "source": [
    "#extracting location names\n",
    "location_names= []\n",
    "for i in location_tags:\n",
    "    location_names.append(i.text)\n",
    "len(location_names)\n",
    "location_names[0:2]"
   ]
  },
  {
   "cell_type": "code",
   "execution_count": 18,
   "id": "bdd7f46a",
   "metadata": {},
   "outputs": [
    {
     "data": {
      "text/plain": [
       "[<selenium.webdriver.remote.webelement.WebElement (session=\"3ddcf9586568dd8f463016d867a16e45\", element=\"31a8d7ec-125b-42f6-a07f-8390b293e275\")>,\n",
       " <selenium.webdriver.remote.webelement.WebElement (session=\"3ddcf9586568dd8f463016d867a16e45\", element=\"893e07dd-2c3e-4b32-b603-449fa971019e\")>]"
      ]
     },
     "execution_count": 18,
     "metadata": {},
     "output_type": "execute_result"
    }
   ],
   "source": [
    "#extracting experience tags required for the job\n",
    "experience_tags= driver.find_elements_by_xpath('//li[@class=\"fleft grey-text br2 placeHolderLi experience\"]')\n",
    "experience_tags[0:2]"
   ]
  },
  {
   "cell_type": "code",
   "execution_count": 19,
   "id": "cea1e199",
   "metadata": {},
   "outputs": [
    {
     "data": {
      "text/plain": [
       "['2-3 Yrs', '5-10 Yrs']"
      ]
     },
     "execution_count": 19,
     "metadata": {},
     "output_type": "execute_result"
    }
   ],
   "source": [
    "experience_years=[]\n",
    "for i in experience_tags:\n",
    "    experience_years.append(i.text)\n",
    "len(experience_years)\n",
    "experience_years[0:2]"
   ]
  },
  {
   "cell_type": "code",
   "execution_count": 20,
   "id": "062f68bd",
   "metadata": {},
   "outputs": [
    {
     "data": {
      "text/plain": [
       "(20, 20, 20, 18)"
      ]
     },
     "execution_count": 20,
     "metadata": {},
     "output_type": "execute_result"
    }
   ],
   "source": [
    "len(job_titles), len(company_names), len(location_names),len(experience_years)"
   ]
  },
  {
   "cell_type": "code",
   "execution_count": 21,
   "id": "93fdec0b",
   "metadata": {},
   "outputs": [
    {
     "data": {
      "text/html": [
       "<div>\n",
       "<style scoped>\n",
       "    .dataframe tbody tr th:only-of-type {\n",
       "        vertical-align: middle;\n",
       "    }\n",
       "\n",
       "    .dataframe tbody tr th {\n",
       "        vertical-align: top;\n",
       "    }\n",
       "\n",
       "    .dataframe thead th {\n",
       "        text-align: right;\n",
       "    }\n",
       "</style>\n",
       "<table border=\"1\" class=\"dataframe\">\n",
       "  <thead>\n",
       "    <tr style=\"text-align: right;\">\n",
       "      <th></th>\n",
       "      <th>Job Title</th>\n",
       "      <th>Company</th>\n",
       "      <th>Location</th>\n",
       "      <th>Years of Experience</th>\n",
       "    </tr>\n",
       "  </thead>\n",
       "  <tbody>\n",
       "    <tr>\n",
       "      <th>0</th>\n",
       "      <td>Job openings For Data Analyst - AOA</td>\n",
       "      <td>izmo ltd</td>\n",
       "      <td>Bangalore/Bengaluru(4th Phase JP Nagar)</td>\n",
       "      <td>2-3 Yrs</td>\n",
       "    </tr>\n",
       "    <tr>\n",
       "      <th>1</th>\n",
       "      <td>Hiring Data Analyst-Coimbatore/Bangalore</td>\n",
       "      <td>KGISL BSS- Division of KG Information System P...</td>\n",
       "      <td>Coimbatore, Bangalore/Bengaluru</td>\n",
       "      <td>5-10 Yrs</td>\n",
       "    </tr>\n",
       "    <tr>\n",
       "      <th>2</th>\n",
       "      <td>software developer &amp; Testing / Business Analys...</td>\n",
       "      <td>SECRET TECHNOLOGIES INDIA VMS GROUP</td>\n",
       "      <td>Pune, Bangalore/Bengaluru(Shivaji Nagar), Mumb...</td>\n",
       "      <td>0-4 Yrs</td>\n",
       "    </tr>\n",
       "    <tr>\n",
       "      <th>3</th>\n",
       "      <td>Data Coordinator | Data Analyst | MS Excel | T...</td>\n",
       "      <td>Inspiration Manpower Consultancy Pvt. Ltd.</td>\n",
       "      <td>Bangalore/Bengaluru(Sadashiva Nagar)</td>\n",
       "      <td>0-2 Yrs</td>\n",
       "    </tr>\n",
       "    <tr>\n",
       "      <th>4</th>\n",
       "      <td>Looking For Data Analyst</td>\n",
       "      <td>Trellance</td>\n",
       "      <td>Ahmedabad, Bangalore/Bengaluru</td>\n",
       "      <td>1-3 Yrs</td>\n",
       "    </tr>\n",
       "    <tr>\n",
       "      <th>5</th>\n",
       "      <td>Data Analyst || Advance Excel || D Limit || Co...</td>\n",
       "      <td>Inspiration Manpower Consultancy Pvt. Ltd.</td>\n",
       "      <td>Bangalore/Bengaluru</td>\n",
       "      <td>0-5 Yrs</td>\n",
       "    </tr>\n",
       "    <tr>\n",
       "      <th>6</th>\n",
       "      <td>Data Analyst</td>\n",
       "      <td>Capillary Technologies</td>\n",
       "      <td>Bangalore/Bengaluru</td>\n",
       "      <td>1-2 Yrs</td>\n",
       "    </tr>\n",
       "    <tr>\n",
       "      <th>7</th>\n",
       "      <td>Data Analyst Work FROM Home</td>\n",
       "      <td>Fine Homes and Interior</td>\n",
       "      <td>Bangalore/Bengaluru\\n(WFH during Covid)</td>\n",
       "      <td>1-5 Yrs</td>\n",
       "    </tr>\n",
       "    <tr>\n",
       "      <th>8</th>\n",
       "      <td>MIS Executive and Analyst | Data Analyst | Dat...</td>\n",
       "      <td>D2 Retro</td>\n",
       "      <td>Bangalore/Bengaluru, Mumbai (All Areas)</td>\n",
       "      <td>2-3 Yrs</td>\n",
       "    </tr>\n",
       "    <tr>\n",
       "      <th>9</th>\n",
       "      <td>Hiring For Data Analyst from 1 yr of exp in Ba...</td>\n",
       "      <td>PROMANTUS INDIA PRIVATE LIMITED</td>\n",
       "      <td>Chennai, Bangalore/Bengaluru</td>\n",
       "      <td>0-4 Yrs</td>\n",
       "    </tr>\n",
       "  </tbody>\n",
       "</table>\n",
       "</div>"
      ],
      "text/plain": [
       "                                           Job Title  \\\n",
       "0                Job openings For Data Analyst - AOA   \n",
       "1           Hiring Data Analyst-Coimbatore/Bangalore   \n",
       "2  software developer & Testing / Business Analys...   \n",
       "3  Data Coordinator | Data Analyst | MS Excel | T...   \n",
       "4                           Looking For Data Analyst   \n",
       "5  Data Analyst || Advance Excel || D Limit || Co...   \n",
       "6                                       Data Analyst   \n",
       "7                        Data Analyst Work FROM Home   \n",
       "8  MIS Executive and Analyst | Data Analyst | Dat...   \n",
       "9  Hiring For Data Analyst from 1 yr of exp in Ba...   \n",
       "\n",
       "                                             Company  \\\n",
       "0                                           izmo ltd   \n",
       "1  KGISL BSS- Division of KG Information System P...   \n",
       "2                SECRET TECHNOLOGIES INDIA VMS GROUP   \n",
       "3         Inspiration Manpower Consultancy Pvt. Ltd.   \n",
       "4                                          Trellance   \n",
       "5         Inspiration Manpower Consultancy Pvt. Ltd.   \n",
       "6                             Capillary Technologies   \n",
       "7                            Fine Homes and Interior   \n",
       "8                                           D2 Retro   \n",
       "9                    PROMANTUS INDIA PRIVATE LIMITED   \n",
       "\n",
       "                                            Location Years of Experience  \n",
       "0            Bangalore/Bengaluru(4th Phase JP Nagar)             2-3 Yrs  \n",
       "1                    Coimbatore, Bangalore/Bengaluru            5-10 Yrs  \n",
       "2  Pune, Bangalore/Bengaluru(Shivaji Nagar), Mumb...             0-4 Yrs  \n",
       "3               Bangalore/Bengaluru(Sadashiva Nagar)             0-2 Yrs  \n",
       "4                     Ahmedabad, Bangalore/Bengaluru             1-3 Yrs  \n",
       "5                                Bangalore/Bengaluru             0-5 Yrs  \n",
       "6                                Bangalore/Bengaluru             1-2 Yrs  \n",
       "7            Bangalore/Bengaluru\\n(WFH during Covid)             1-5 Yrs  \n",
       "8            Bangalore/Bengaluru, Mumbai (All Areas)             2-3 Yrs  \n",
       "9                       Chennai, Bangalore/Bengaluru             0-4 Yrs  "
      ]
     },
     "execution_count": 21,
     "metadata": {},
     "output_type": "execute_result"
    }
   ],
   "source": [
    "jobs= pd.DataFrame()\n",
    "jobs['Job Title']= job_titles[:10]\n",
    "jobs['Company']=company_names[:10]\n",
    "jobs['Location']=location_names[:10]\n",
    "jobs['Years of Experience']= experience_years[:10]\n",
    "jobs"
   ]
  },
  {
   "cell_type": "markdown",
   "id": "01c931a9",
   "metadata": {},
   "source": [
    "Write a python program to scrape data for “Data Scientist” Job position in “Bangalore” location. You\n",
    "have to scrape the job-title, job-location, company_name. You have to scrape first 10 jobs data.\n",
    "This task will be done in following steps:\n",
    "1. First get the webpage https://www.naukri.com/\n",
    "2. Enter “Data Scientist” in “Skill, Designations, Companies” field and enter “Bangalore” in “enter the\n",
    "location” field.\n",
    "3. Then click the search button.\n",
    "4. Then scrape the data for the first 10 jobs results you get.\n",
    "5. Finally create a dataframe of the scraped data.Write a python program to scrape data for “Data Scientist” Job position in “Bangalore” location. You\n",
    "have to scrape the job-title, job-location, company_name. You have to scrape first 10 jobs data.\n",
    "This task will be done in following steps:\n",
    "1. First get the webpage https://www.naukri.com/\n",
    "2. Enter “Data Scientist” in “Skill, Designations, Companies” field and enter “Bangalore” in “enter the\n",
    "location” field.\n",
    "3. Then click the search button.\n",
    "4. Then scrape the data for the first 10 jobs results you get.\n",
    "5. Finally create a dataframe of the scraped data."
   ]
  },
  {
   "cell_type": "code",
   "execution_count": 22,
   "id": "fe803be8",
   "metadata": {},
   "outputs": [],
   "source": [
    "driver= webdriver.Chrome(r'C:/Users/Harshita/Downloads/chromedriver_win32/chromedriver')"
   ]
  },
  {
   "cell_type": "code",
   "execution_count": 23,
   "id": "79a8bf34",
   "metadata": {},
   "outputs": [],
   "source": [
    "url= 'https://www.naukri.com/'\n",
    "driver.get(url)"
   ]
  },
  {
   "cell_type": "code",
   "execution_count": 24,
   "id": "3b80eb46",
   "metadata": {},
   "outputs": [
    {
     "data": {
      "text/plain": [
       "<selenium.webdriver.remote.webelement.WebElement (session=\"d89e672a96ae59952a429812053cc1ee\", element=\"8d76168f-325f-4c4f-af10-19bf8c3dbb22\")>"
      ]
     },
     "execution_count": 24,
     "metadata": {},
     "output_type": "execute_result"
    }
   ],
   "source": [
    "#finding web element for search job bar using url\n",
    "search_job= driver.find_element_by_class_name('suggestor-input')\n",
    "search_job"
   ]
  },
  {
   "cell_type": "code",
   "execution_count": 25,
   "id": "d46d42fe",
   "metadata": {},
   "outputs": [],
   "source": [
    "#write on search bar\n",
    "search_job.send_keys('Data Scientist')"
   ]
  },
  {
   "cell_type": "code",
   "execution_count": 26,
   "id": "b8f068f2",
   "metadata": {},
   "outputs": [
    {
     "data": {
      "text/plain": [
       "<selenium.webdriver.remote.webelement.WebElement (session=\"d89e672a96ae59952a429812053cc1ee\", element=\"b5a10923-c172-4ed2-b8ae-06f0bee1a9d4\")>"
      ]
     },
     "execution_count": 26,
     "metadata": {},
     "output_type": "execute_result"
    }
   ],
   "source": [
    "#finding web element for search location using absolute xpath\n",
    "search_location= driver.find_element_by_xpath('/html/body/div/div[2]/div[3]/div/div/div[3]/div/div/div/input')\n",
    "search_location"
   ]
  },
  {
   "cell_type": "code",
   "execution_count": 27,
   "id": "4542c7c3",
   "metadata": {},
   "outputs": [],
   "source": [
    "#finding web element for job location\n",
    "search_location.send_keys('Bangalore')"
   ]
  },
  {
   "cell_type": "code",
   "execution_count": 28,
   "id": "0db3c2e4",
   "metadata": {},
   "outputs": [
    {
     "data": {
      "text/plain": [
       "<selenium.webdriver.remote.webelement.WebElement (session=\"d89e672a96ae59952a429812053cc1ee\", element=\"b5a10923-c172-4ed2-b8ae-06f0bee1a9d4\")>"
      ]
     },
     "execution_count": 28,
     "metadata": {},
     "output_type": "execute_result"
    }
   ],
   "source": [
    "search_button= driver.find_element_by_xpath('/html/body/div/div[2]/div[3]/div/div/div[6]')\n",
    "search_location"
   ]
  },
  {
   "cell_type": "code",
   "execution_count": 29,
   "id": "ecc5d2b0",
   "metadata": {},
   "outputs": [],
   "source": [
    "search_button.click()"
   ]
  },
  {
   "cell_type": "code",
   "execution_count": 30,
   "id": "ff229b68",
   "metadata": {},
   "outputs": [
    {
     "data": {
      "text/plain": [
       "[<selenium.webdriver.remote.webelement.WebElement (session=\"d89e672a96ae59952a429812053cc1ee\", element=\"7ff7f0ba-25cb-4bc2-ab17-00fdde76d4ff\")>,\n",
       " <selenium.webdriver.remote.webelement.WebElement (session=\"d89e672a96ae59952a429812053cc1ee\", element=\"d751b19a-761f-468a-a76e-2991d0a680b2\")>]"
      ]
     },
     "execution_count": 30,
     "metadata": {},
     "output_type": "execute_result"
    }
   ],
   "source": [
    "title_tags= driver.find_elements_by_xpath('//a[@class=\"title fw500 ellipsis\"]')\n",
    "len(title_tags)\n",
    "title_tags[0:2]"
   ]
  },
  {
   "cell_type": "code",
   "execution_count": 31,
   "id": "d1c929c7",
   "metadata": {},
   "outputs": [
    {
     "data": {
      "text/plain": [
       "['Sr Data Scientist', 'HCL Tech Opening - Lead Data Scientist']"
      ]
     },
     "execution_count": 31,
     "metadata": {},
     "output_type": "execute_result"
    }
   ],
   "source": [
    "#to scrape the job title using for loop\n",
    "job_titles=[]\n",
    "for i in title_tags:\n",
    "    job_titles.append(i.text)\n",
    "len(job_titles)\n",
    "job_titles[0:2]"
   ]
  },
  {
   "cell_type": "code",
   "execution_count": 32,
   "id": "9104f015",
   "metadata": {},
   "outputs": [
    {
     "data": {
      "text/plain": [
       "[<selenium.webdriver.remote.webelement.WebElement (session=\"d89e672a96ae59952a429812053cc1ee\", element=\"092280b1-7799-437a-b60e-a37bb967fe49\")>,\n",
       " <selenium.webdriver.remote.webelement.WebElement (session=\"d89e672a96ae59952a429812053cc1ee\", element=\"7f2a2eef-9f8e-4209-af6d-fef3968f58f4\")>]"
      ]
     },
     "execution_count": 32,
     "metadata": {},
     "output_type": "execute_result"
    }
   ],
   "source": [
    "#extracting location tags\n",
    "location_tags= driver.find_elements_by_xpath('//li[@class=\"fleft grey-text br2 placeHolderLi location\"]')\n",
    "len(location_tags)\n",
    "location_tags[0:2]"
   ]
  },
  {
   "cell_type": "code",
   "execution_count": 33,
   "id": "2742532d",
   "metadata": {},
   "outputs": [
    {
     "data": {
      "text/plain": [
       "['Bangalore/Bengaluru',\n",
       " 'Kolkata, Hyderabad/Secunderabad, Pune, Chennai, Bangalore/Bengaluru, Delhi / NCR']"
      ]
     },
     "execution_count": 33,
     "metadata": {},
     "output_type": "execute_result"
    }
   ],
   "source": [
    "#extracting location names\n",
    "location_names= []\n",
    "for i in location_tags:\n",
    "    location_names.append(i.text)\n",
    "len(location_names)\n",
    "location_names[0:2]"
   ]
  },
  {
   "cell_type": "code",
   "execution_count": 34,
   "id": "a6a3e0b7",
   "metadata": {},
   "outputs": [
    {
     "data": {
      "text/plain": [
       "[<selenium.webdriver.remote.webelement.WebElement (session=\"d89e672a96ae59952a429812053cc1ee\", element=\"007057c1-ab9a-4b5d-b5de-c921473dee44\")>,\n",
       " <selenium.webdriver.remote.webelement.WebElement (session=\"d89e672a96ae59952a429812053cc1ee\", element=\"1d115088-d2c3-457a-986a-638b26b7904b\")>]"
      ]
     },
     "execution_count": 34,
     "metadata": {},
     "output_type": "execute_result"
    }
   ],
   "source": [
    "#extracting company tags\n",
    "company_tags= driver.find_elements_by_xpath('//a[@class=\"subTitle ellipsis fleft\"]')\n",
    "company_tags[0:2]"
   ]
  },
  {
   "cell_type": "code",
   "execution_count": 35,
   "id": "e4614500",
   "metadata": {},
   "outputs": [
    {
     "data": {
      "text/plain": [
       "['Uber', 'HCL']"
      ]
     },
     "execution_count": 35,
     "metadata": {},
     "output_type": "execute_result"
    }
   ],
   "source": [
    "#extracting company names using for loop\n",
    "company_names=[]\n",
    "for i in company_tags:\n",
    "    company_names.append(i.text)\n",
    "len(company_names)\n",
    "company_names[0:2]"
   ]
  },
  {
   "cell_type": "code",
   "execution_count": 36,
   "id": "735bd58a",
   "metadata": {},
   "outputs": [
    {
     "data": {
      "text/html": [
       "<div>\n",
       "<style scoped>\n",
       "    .dataframe tbody tr th:only-of-type {\n",
       "        vertical-align: middle;\n",
       "    }\n",
       "\n",
       "    .dataframe tbody tr th {\n",
       "        vertical-align: top;\n",
       "    }\n",
       "\n",
       "    .dataframe thead th {\n",
       "        text-align: right;\n",
       "    }\n",
       "</style>\n",
       "<table border=\"1\" class=\"dataframe\">\n",
       "  <thead>\n",
       "    <tr style=\"text-align: right;\">\n",
       "      <th></th>\n",
       "      <th>Job Title</th>\n",
       "      <th>Company</th>\n",
       "      <th>Location</th>\n",
       "    </tr>\n",
       "  </thead>\n",
       "  <tbody>\n",
       "    <tr>\n",
       "      <th>0</th>\n",
       "      <td>Sr Data Scientist</td>\n",
       "      <td>Uber</td>\n",
       "      <td>Bangalore/Bengaluru</td>\n",
       "    </tr>\n",
       "    <tr>\n",
       "      <th>1</th>\n",
       "      <td>HCL Tech Opening - Lead Data Scientist</td>\n",
       "      <td>HCL</td>\n",
       "      <td>Kolkata, Hyderabad/Secunderabad, Pune, Chennai...</td>\n",
       "    </tr>\n",
       "    <tr>\n",
       "      <th>2</th>\n",
       "      <td>Senior Data Scientist Payments</td>\n",
       "      <td>AirSeva</td>\n",
       "      <td>Bangalore/Bengaluru</td>\n",
       "    </tr>\n",
       "    <tr>\n",
       "      <th>3</th>\n",
       "      <td>Senior Data Scientist (R Programming)</td>\n",
       "      <td>Ignitho</td>\n",
       "      <td>Remote</td>\n",
       "    </tr>\n",
       "    <tr>\n",
       "      <th>4</th>\n",
       "      <td>Data Scientist/Senior Data Scientist - Python</td>\n",
       "      <td>ApicalGo Consultancy</td>\n",
       "      <td>Bangalore/Bengaluru</td>\n",
       "    </tr>\n",
       "    <tr>\n",
       "      <th>5</th>\n",
       "      <td>Senior Data Scientist - Python/Machine Learnin...</td>\n",
       "      <td>Altimax Business Solutions</td>\n",
       "      <td>Mumbai, Hyderabad/Secunderabad, Pune, Bangalor...</td>\n",
       "    </tr>\n",
       "    <tr>\n",
       "      <th>6</th>\n",
       "      <td>Sr . Data Scientist</td>\n",
       "      <td>Visa</td>\n",
       "      <td>Bangalore/Bengaluru</td>\n",
       "    </tr>\n",
       "    <tr>\n",
       "      <th>7</th>\n",
       "      <td>Need Data scientists and data engineers - WFH-...</td>\n",
       "      <td>Covalense Technologies Private Limited</td>\n",
       "      <td>Hyderabad/Secunderabad, Bangalore/Bengaluru, M...</td>\n",
       "    </tr>\n",
       "    <tr>\n",
       "      <th>8</th>\n",
       "      <td>Data Scientist</td>\n",
       "      <td>AirSeva</td>\n",
       "      <td>Bangalore/Bengaluru</td>\n",
       "    </tr>\n",
       "    <tr>\n",
       "      <th>9</th>\n",
       "      <td>Data Scientist</td>\n",
       "      <td>Korea Trade Center</td>\n",
       "      <td>New Delhi, Gurgaon/Gurugram, Bangalore/Bengalu...</td>\n",
       "    </tr>\n",
       "  </tbody>\n",
       "</table>\n",
       "</div>"
      ],
      "text/plain": [
       "                                           Job Title  \\\n",
       "0                                  Sr Data Scientist   \n",
       "1             HCL Tech Opening - Lead Data Scientist   \n",
       "2                     Senior Data Scientist Payments   \n",
       "3              Senior Data Scientist (R Programming)   \n",
       "4      Data Scientist/Senior Data Scientist - Python   \n",
       "5  Senior Data Scientist - Python/Machine Learnin...   \n",
       "6                                Sr . Data Scientist   \n",
       "7  Need Data scientists and data engineers - WFH-...   \n",
       "8                                     Data Scientist   \n",
       "9                                     Data Scientist   \n",
       "\n",
       "                                  Company  \\\n",
       "0                                    Uber   \n",
       "1                                     HCL   \n",
       "2                                 AirSeva   \n",
       "3                                 Ignitho   \n",
       "4                    ApicalGo Consultancy   \n",
       "5              Altimax Business Solutions   \n",
       "6                                    Visa   \n",
       "7  Covalense Technologies Private Limited   \n",
       "8                                 AirSeva   \n",
       "9                      Korea Trade Center   \n",
       "\n",
       "                                            Location  \n",
       "0                                Bangalore/Bengaluru  \n",
       "1  Kolkata, Hyderabad/Secunderabad, Pune, Chennai...  \n",
       "2                                Bangalore/Bengaluru  \n",
       "3                                             Remote  \n",
       "4                                Bangalore/Bengaluru  \n",
       "5  Mumbai, Hyderabad/Secunderabad, Pune, Bangalor...  \n",
       "6                                Bangalore/Bengaluru  \n",
       "7  Hyderabad/Secunderabad, Bangalore/Bengaluru, M...  \n",
       "8                                Bangalore/Bengaluru  \n",
       "9  New Delhi, Gurgaon/Gurugram, Bangalore/Bengalu...  "
      ]
     },
     "execution_count": 36,
     "metadata": {},
     "output_type": "execute_result"
    }
   ],
   "source": [
    "jobs= pd.DataFrame()\n",
    "jobs['Job Title']= job_titles[:10]\n",
    "jobs['Company']=company_names[:10]\n",
    "jobs['Location']=location_names[:10]\n",
    "jobs"
   ]
  },
  {
   "cell_type": "markdown",
   "id": "a28d1610",
   "metadata": {},
   "source": [
    "Q3: In this question you have to scrape data using the filters available on the webpage as shown below:\n",
    "    You have to use the location and salary filter.\n",
    "You have to scrape data for “Data Scientist” designation for first 10 job results.\n",
    "You have to scrape the job-title, job-location, company name, experience required.\n",
    "The location filter to be used is “Delhi/NCR”. The salary filter to be used is “3-6” lakhs\n",
    "The task will be done as shown in the below steps:\n",
    "1. first get the webpage https://www.naukri.com/\n",
    "2. Enter “Data Scientist” in “Skill, Designations, and Companies” field.\n",
    "3. Then click the search button.\n",
    "4. Then apply the location filter and salary filter by checking the respective boxes\n",
    "5. Then scrape the data for the first 10 jobs results you get.\n",
    "6. Finally create a dataframe of the scraped data."
   ]
  },
  {
   "cell_type": "code",
   "execution_count": 37,
   "id": "18c4e791",
   "metadata": {},
   "outputs": [],
   "source": [
    "driver= webdriver.Chrome(r'C:/Users/Harshita/Downloads/chromedriver_win32/chromedriver')"
   ]
  },
  {
   "cell_type": "code",
   "execution_count": 38,
   "id": "96027d9f",
   "metadata": {},
   "outputs": [],
   "source": [
    "url= 'https://www.naukri.com/'\n",
    "driver.get(url)"
   ]
  },
  {
   "cell_type": "code",
   "execution_count": 39,
   "id": "e5d1c525",
   "metadata": {},
   "outputs": [
    {
     "data": {
      "text/plain": [
       "<selenium.webdriver.remote.webelement.WebElement (session=\"f81207bb08bd16802d829c17e3573c91\", element=\"c4ebad2d-fb43-4c9f-9464-2785a55aa810\")>"
      ]
     },
     "execution_count": 39,
     "metadata": {},
     "output_type": "execute_result"
    }
   ],
   "source": [
    "#finding web element for search job bar using url\n",
    "search_job= driver.find_element_by_class_name('suggestor-input')\n",
    "search_job"
   ]
  },
  {
   "cell_type": "code",
   "execution_count": 40,
   "id": "271293e5",
   "metadata": {},
   "outputs": [],
   "source": [
    "#write on search bar\n",
    "search_job.send_keys('Data Scientist')"
   ]
  },
  {
   "cell_type": "code",
   "execution_count": 41,
   "id": "55af6c80",
   "metadata": {},
   "outputs": [
    {
     "data": {
      "text/plain": [
       "<selenium.webdriver.remote.webelement.WebElement (session=\"f81207bb08bd16802d829c17e3573c91\", element=\"ba1c9be8-6862-470f-bd6a-91a73296b6f6\")>"
      ]
     },
     "execution_count": 41,
     "metadata": {},
     "output_type": "execute_result"
    }
   ],
   "source": [
    "#finding web element for search location using absolute xpath\n",
    "search_location= driver.find_element_by_xpath('/html/body/div/div[2]/div[3]/div/div/div[3]/div/div/div/input')\n",
    "search_location"
   ]
  },
  {
   "cell_type": "code",
   "execution_count": 42,
   "id": "771305d0",
   "metadata": {},
   "outputs": [],
   "source": [
    "#finding web element for job location\n",
    "search_location.send_keys('Delhi/NCR')"
   ]
  },
  {
   "cell_type": "code",
   "execution_count": 43,
   "id": "ef9c74cf",
   "metadata": {},
   "outputs": [
    {
     "data": {
      "text/plain": [
       "<selenium.webdriver.remote.webelement.WebElement (session=\"f81207bb08bd16802d829c17e3573c91\", element=\"ba1c9be8-6862-470f-bd6a-91a73296b6f6\")>"
      ]
     },
     "execution_count": 43,
     "metadata": {},
     "output_type": "execute_result"
    }
   ],
   "source": [
    "search_button= driver.find_element_by_xpath('/html/body/div/div[2]/div[3]/div/div/div[6]')\n",
    "search_location"
   ]
  },
  {
   "cell_type": "markdown",
   "id": "abbd8f2e",
   "metadata": {},
   "source": [
    "search_button.click()"
   ]
  },
  {
   "cell_type": "code",
   "execution_count": 47,
   "id": "9e16e89e",
   "metadata": {},
   "outputs": [
    {
     "data": {
      "text/plain": [
       "<selenium.webdriver.remote.webelement.WebElement (session=\"f81207bb08bd16802d829c17e3573c91\", element=\"1eb8d55c-e4ee-439b-83a0-2751ae3318bd\")>"
      ]
     },
     "execution_count": 47,
     "metadata": {},
     "output_type": "execute_result"
    }
   ],
   "source": [
    "salary_check= driver.find_element_by_xpath('/html/body/div[1]/div[3]/div[2]/section[1]/div[2]/div[4]/div[2]/div[2]/label/i')\n",
    "salary_check"
   ]
  },
  {
   "cell_type": "code",
   "execution_count": 48,
   "id": "ba9b9a41",
   "metadata": {},
   "outputs": [],
   "source": [
    "salary_check.click()"
   ]
  },
  {
   "cell_type": "code",
   "execution_count": 51,
   "id": "046d8ea6",
   "metadata": {},
   "outputs": [
    {
     "data": {
      "text/plain": [
       "[<selenium.webdriver.remote.webelement.WebElement (session=\"f81207bb08bd16802d829c17e3573c91\", element=\"5a2b59b3-3ed9-4998-80eb-3c086007ae2b\")>,\n",
       " <selenium.webdriver.remote.webelement.WebElement (session=\"f81207bb08bd16802d829c17e3573c91\", element=\"3bb8e6a1-d84e-4440-8801-f40ef387080e\")>]"
      ]
     },
     "execution_count": 51,
     "metadata": {},
     "output_type": "execute_result"
    }
   ],
   "source": [
    "title_tags= driver.find_elements_by_xpath('//a[@class=\"title fw500 ellipsis\"]')\n",
    "len(title_tags)\n",
    "title_tags[0:2]"
   ]
  },
  {
   "cell_type": "code",
   "execution_count": 54,
   "id": "2cb5f450",
   "metadata": {},
   "outputs": [
    {
     "data": {
      "text/plain": [
       "['Hiring For Senior Data Scientist-Noida',\n",
       " 'Excellent Opportunity For Freshers For AI/ML, Data Scientist, BI, QA']"
      ]
     },
     "execution_count": 54,
     "metadata": {},
     "output_type": "execute_result"
    }
   ],
   "source": [
    "#to scrape the job title using for loop\n",
    "job_titles=[]\n",
    "for i in title_tags:\n",
    "    job_titles.append(i.text)\n",
    "len(job_titles)\n",
    "job_titles[0:2]"
   ]
  },
  {
   "cell_type": "code",
   "execution_count": 55,
   "id": "53211784",
   "metadata": {},
   "outputs": [
    {
     "data": {
      "text/plain": [
       "[<selenium.webdriver.remote.webelement.WebElement (session=\"f81207bb08bd16802d829c17e3573c91\", element=\"0e0d8355-78cd-4c9a-b212-a771876d15ec\")>,\n",
       " <selenium.webdriver.remote.webelement.WebElement (session=\"f81207bb08bd16802d829c17e3573c91\", element=\"7e7a53e8-e1af-42f8-b1ad-4b35e80f5ddd\")>]"
      ]
     },
     "execution_count": 55,
     "metadata": {},
     "output_type": "execute_result"
    }
   ],
   "source": [
    "#extracting company tags\n",
    "company_tags= driver.find_elements_by_xpath('//a[@class=\"subTitle ellipsis fleft\"]')\n",
    "company_tags[0:2]"
   ]
  },
  {
   "cell_type": "code",
   "execution_count": 56,
   "id": "8686ebab",
   "metadata": {},
   "outputs": [
    {
     "data": {
      "text/plain": [
       "['Lumiq.ai', 'NTT Data']"
      ]
     },
     "execution_count": 56,
     "metadata": {},
     "output_type": "execute_result"
    }
   ],
   "source": [
    "#extracting company names using for loop\n",
    "company_names=[]\n",
    "for i in company_tags:\n",
    "    company_names.append(i.text)\n",
    "len(company_names)\n",
    "company_names[0:2]"
   ]
  },
  {
   "cell_type": "code",
   "execution_count": 57,
   "id": "c86853a5",
   "metadata": {},
   "outputs": [
    {
     "data": {
      "text/plain": [
       "[<selenium.webdriver.remote.webelement.WebElement (session=\"f81207bb08bd16802d829c17e3573c91\", element=\"7f357197-deb5-418f-b9b7-cb5a0be13a43\")>,\n",
       " <selenium.webdriver.remote.webelement.WebElement (session=\"f81207bb08bd16802d829c17e3573c91\", element=\"60186779-5197-4a72-a8bb-ea256fac685d\")>]"
      ]
     },
     "execution_count": 57,
     "metadata": {},
     "output_type": "execute_result"
    }
   ],
   "source": [
    "#extracting location tags\n",
    "location_tags= driver.find_elements_by_xpath('//li[@class=\"fleft grey-text br2 placeHolderLi location\"]')\n",
    "len(location_tags)\n",
    "location_tags[0:2]"
   ]
  },
  {
   "cell_type": "code",
   "execution_count": 58,
   "id": "84eea013",
   "metadata": {},
   "outputs": [
    {
     "data": {
      "text/plain": [
       "['Noida, New Delhi, Greater Noida',\n",
       " 'Noida, Kolkata, Hyderabad/Secunderabad, Pune, Chennai, Bangalore/Bengaluru, Delhi / NCR, Mumbai (All Areas)\\n(WFH during Covid)']"
      ]
     },
     "execution_count": 58,
     "metadata": {},
     "output_type": "execute_result"
    }
   ],
   "source": [
    "#extracting location names\n",
    "location_names= []\n",
    "for i in location_tags:\n",
    "    location_names.append(i.text)\n",
    "len(location_names)\n",
    "location_names[0:2]"
   ]
  },
  {
   "cell_type": "code",
   "execution_count": 59,
   "id": "0df5fb55",
   "metadata": {},
   "outputs": [
    {
     "data": {
      "text/plain": [
       "[<selenium.webdriver.remote.webelement.WebElement (session=\"f81207bb08bd16802d829c17e3573c91\", element=\"11039be3-7e5c-41af-9bbc-bdfaecc16c5b\")>,\n",
       " <selenium.webdriver.remote.webelement.WebElement (session=\"f81207bb08bd16802d829c17e3573c91\", element=\"b7f23767-28de-4671-9e71-1b890cfe8a04\")>]"
      ]
     },
     "execution_count": 59,
     "metadata": {},
     "output_type": "execute_result"
    }
   ],
   "source": [
    "#extracting experience tags required for the job\n",
    "experience_tags= driver.find_elements_by_xpath('//li[@class=\"fleft grey-text br2 placeHolderLi experience\"]')\n",
    "experience_tags[0:2]"
   ]
  },
  {
   "cell_type": "code",
   "execution_count": 60,
   "id": "c37408f7",
   "metadata": {},
   "outputs": [
    {
     "data": {
      "text/plain": [
       "['2-6 Yrs', '0-0 Yrs']"
      ]
     },
     "execution_count": 60,
     "metadata": {},
     "output_type": "execute_result"
    }
   ],
   "source": [
    "experience_years=[]\n",
    "for i in experience_tags:\n",
    "    experience_years.append(i.text)\n",
    "len(experience_years)\n",
    "experience_years[0:2]"
   ]
  },
  {
   "cell_type": "code",
   "execution_count": 61,
   "id": "615d4433",
   "metadata": {},
   "outputs": [
    {
     "data": {
      "text/html": [
       "<div>\n",
       "<style scoped>\n",
       "    .dataframe tbody tr th:only-of-type {\n",
       "        vertical-align: middle;\n",
       "    }\n",
       "\n",
       "    .dataframe tbody tr th {\n",
       "        vertical-align: top;\n",
       "    }\n",
       "\n",
       "    .dataframe thead th {\n",
       "        text-align: right;\n",
       "    }\n",
       "</style>\n",
       "<table border=\"1\" class=\"dataframe\">\n",
       "  <thead>\n",
       "    <tr style=\"text-align: right;\">\n",
       "      <th></th>\n",
       "      <th>Job Title</th>\n",
       "      <th>Company</th>\n",
       "      <th>Location</th>\n",
       "      <th>Years of Experience Required</th>\n",
       "    </tr>\n",
       "  </thead>\n",
       "  <tbody>\n",
       "    <tr>\n",
       "      <th>0</th>\n",
       "      <td>Hiring For Senior Data Scientist-Noida</td>\n",
       "      <td>Lumiq.ai</td>\n",
       "      <td>Noida, New Delhi, Greater Noida</td>\n",
       "      <td>2-6 Yrs</td>\n",
       "    </tr>\n",
       "    <tr>\n",
       "      <th>1</th>\n",
       "      <td>Excellent Opportunity For Freshers For AI/ML, ...</td>\n",
       "      <td>NTT Data</td>\n",
       "      <td>Noida, Kolkata, Hyderabad/Secunderabad, Pune, ...</td>\n",
       "      <td>0-0 Yrs</td>\n",
       "    </tr>\n",
       "    <tr>\n",
       "      <th>2</th>\n",
       "      <td>Data Analyst / Data Scientist / Business Analy...</td>\n",
       "      <td>GABA Consultancy services</td>\n",
       "      <td>Noida, New Delhi, Delhi / NCR</td>\n",
       "      <td>0-0 Yrs</td>\n",
       "    </tr>\n",
       "    <tr>\n",
       "      <th>3</th>\n",
       "      <td>Data Scientist</td>\n",
       "      <td>Mount Talent Consulting Private Limited</td>\n",
       "      <td>Hyderabad/Secunderabad, Pune, Gurgaon/Gurugram...</td>\n",
       "      <td>1-4 Yrs</td>\n",
       "    </tr>\n",
       "    <tr>\n",
       "      <th>4</th>\n",
       "      <td>Data scientist- Python</td>\n",
       "      <td>TeamPlus Staffing Solution Pvt Ltd</td>\n",
       "      <td>Gurgaon/Gurugram</td>\n",
       "      <td>3-6 Yrs</td>\n",
       "    </tr>\n",
       "    <tr>\n",
       "      <th>5</th>\n",
       "      <td>Data Scientist _NLP</td>\n",
       "      <td>EXL</td>\n",
       "      <td>Bangalore/Bengaluru, Delhi / NCR\\n(WFH during ...</td>\n",
       "      <td>3-8 Yrs</td>\n",
       "    </tr>\n",
       "    <tr>\n",
       "      <th>6</th>\n",
       "      <td>Data Scientist (freelance)</td>\n",
       "      <td>2Coms</td>\n",
       "      <td>New Delhi, Delhi</td>\n",
       "      <td>2-7 Yrs</td>\n",
       "    </tr>\n",
       "    <tr>\n",
       "      <th>7</th>\n",
       "      <td>Data Scientist - MIND Infotech</td>\n",
       "      <td>MOTHERSONSUMI INFOTECH &amp; DESIGNS LIMITED</td>\n",
       "      <td>Noida</td>\n",
       "      <td>4-8 Yrs</td>\n",
       "    </tr>\n",
       "    <tr>\n",
       "      <th>8</th>\n",
       "      <td>Lead Data Scientist</td>\n",
       "      <td>Indihire HR Consultants Private Limited</td>\n",
       "      <td>Delhi / NCR\\n(WFH during Covid)</td>\n",
       "      <td>2-4 Yrs</td>\n",
       "    </tr>\n",
       "    <tr>\n",
       "      <th>9</th>\n",
       "      <td>Only Fresher / Python Data Scientist / Trainee...</td>\n",
       "      <td>GABA Consultancy services</td>\n",
       "      <td>Noida, New Delhi, Gurgaon/Gurugram</td>\n",
       "      <td>0-0 Yrs</td>\n",
       "    </tr>\n",
       "  </tbody>\n",
       "</table>\n",
       "</div>"
      ],
      "text/plain": [
       "                                           Job Title  \\\n",
       "0             Hiring For Senior Data Scientist-Noida   \n",
       "1  Excellent Opportunity For Freshers For AI/ML, ...   \n",
       "2  Data Analyst / Data Scientist / Business Analy...   \n",
       "3                                     Data Scientist   \n",
       "4                             Data scientist- Python   \n",
       "5                                Data Scientist _NLP   \n",
       "6                         Data Scientist (freelance)   \n",
       "7                     Data Scientist - MIND Infotech   \n",
       "8                                Lead Data Scientist   \n",
       "9  Only Fresher / Python Data Scientist / Trainee...   \n",
       "\n",
       "                                    Company  \\\n",
       "0                                  Lumiq.ai   \n",
       "1                                  NTT Data   \n",
       "2                 GABA Consultancy services   \n",
       "3   Mount Talent Consulting Private Limited   \n",
       "4        TeamPlus Staffing Solution Pvt Ltd   \n",
       "5                                       EXL   \n",
       "6                                     2Coms   \n",
       "7  MOTHERSONSUMI INFOTECH & DESIGNS LIMITED   \n",
       "8   Indihire HR Consultants Private Limited   \n",
       "9                 GABA Consultancy services   \n",
       "\n",
       "                                            Location  \\\n",
       "0                    Noida, New Delhi, Greater Noida   \n",
       "1  Noida, Kolkata, Hyderabad/Secunderabad, Pune, ...   \n",
       "2                      Noida, New Delhi, Delhi / NCR   \n",
       "3  Hyderabad/Secunderabad, Pune, Gurgaon/Gurugram...   \n",
       "4                                   Gurgaon/Gurugram   \n",
       "5  Bangalore/Bengaluru, Delhi / NCR\\n(WFH during ...   \n",
       "6                                   New Delhi, Delhi   \n",
       "7                                              Noida   \n",
       "8                    Delhi / NCR\\n(WFH during Covid)   \n",
       "9                 Noida, New Delhi, Gurgaon/Gurugram   \n",
       "\n",
       "  Years of Experience Required  \n",
       "0                      2-6 Yrs  \n",
       "1                      0-0 Yrs  \n",
       "2                      0-0 Yrs  \n",
       "3                      1-4 Yrs  \n",
       "4                      3-6 Yrs  \n",
       "5                      3-8 Yrs  \n",
       "6                      2-7 Yrs  \n",
       "7                      4-8 Yrs  \n",
       "8                      2-4 Yrs  \n",
       "9                      0-0 Yrs  "
      ]
     },
     "execution_count": 61,
     "metadata": {},
     "output_type": "execute_result"
    }
   ],
   "source": [
    "jobs= pd.DataFrame()\n",
    "jobs['Job Title']= job_titles[:10]\n",
    "jobs['Company']=company_names[:10]\n",
    "jobs['Location']=location_names[:10]\n",
    "jobs['Years of Experience Required']= experience_years[:10]\n",
    "jobs"
   ]
  },
  {
   "cell_type": "markdown",
   "id": "39b37b3d",
   "metadata": {},
   "source": [
    "Scrape data of first 100 sunglasses listings on flipkart.com. You have to scrape four attributes:\n",
    "1. Brand\n",
    "2. Product Description\n",
    "3. Price\n",
    "To scrape the data you have to go through following steps:\n",
    "1. Go to Flipkart webpage by url : https://www.flipkart.com/\n",
    "2. Enter “sunglasses” in the search field where “search for products, brands andmore” is written and\n",
    "click the search icon\n",
    "3. After that you will reach to the page having a lot of sunglasses. From this pageyou can scrap the\n",
    "required data as usual.\n",
    "4. After scraping data from the first page, go to the “Next” Button at the bottom ofthe page , then\n",
    "click on it.\n",
    "5. Now scrape data from this page as usual\n",
    "6. Repeat this until you get data for 100 sunglasses."
   ]
  },
  {
   "cell_type": "code",
   "execution_count": 149,
   "id": "90dfc5f1",
   "metadata": {},
   "outputs": [],
   "source": [
    "driver= webdriver.Chrome(r'C:/Users/Harshita/Downloads/chromedriver_win32/chromedriver')"
   ]
  },
  {
   "cell_type": "code",
   "execution_count": 150,
   "id": "147b8111",
   "metadata": {},
   "outputs": [],
   "source": [
    "url= 'https://www.flipkart.com/'\n",
    "driver.get(url)"
   ]
  },
  {
   "cell_type": "code",
   "execution_count": 151,
   "id": "842d8cf8",
   "metadata": {},
   "outputs": [
    {
     "data": {
      "text/plain": [
       "<selenium.webdriver.remote.webelement.WebElement (session=\"b4d02279bf99adcd06521ad7a236fdc3\", element=\"7ba5c2af-c608-494b-a3e1-1644c5b5d3fb\")>"
      ]
     },
     "execution_count": 151,
     "metadata": {},
     "output_type": "execute_result"
    }
   ],
   "source": [
    "#finding web element for search job bar using url\n",
    "search= driver.find_element_by_class_name('_3704LK')\n",
    "search"
   ]
  },
  {
   "cell_type": "code",
   "execution_count": 152,
   "id": "c1eb0c5e",
   "metadata": {},
   "outputs": [],
   "source": [
    "#write on search bar\n",
    "search.send_keys('Sunglasses')"
   ]
  },
  {
   "cell_type": "code",
   "execution_count": 153,
   "id": "1963aeba",
   "metadata": {},
   "outputs": [],
   "source": [
    "search.click()"
   ]
  },
  {
   "cell_type": "code",
   "execution_count": 154,
   "id": "e7f38115",
   "metadata": {},
   "outputs": [
    {
     "data": {
      "text/plain": [
       "[<selenium.webdriver.remote.webelement.WebElement (session=\"b4d02279bf99adcd06521ad7a236fdc3\", element=\"ae70f1d8-978a-4bfe-b42c-b0cd36872380\")>,\n",
       " <selenium.webdriver.remote.webelement.WebElement (session=\"b4d02279bf99adcd06521ad7a236fdc3\", element=\"3a68d3b3-c01b-428e-8748-bb74dffc0616\")>]"
      ]
     },
     "execution_count": 154,
     "metadata": {},
     "output_type": "execute_result"
    }
   ],
   "source": [
    "#we will first scrape name tags of the products\n",
    "name_tags= driver.find_elements_by_xpath('//div[@class=\"_2WkVRV\"]')\n",
    "len(name_tags)\n",
    "name_tags[0:2]"
   ]
  },
  {
   "cell_type": "code",
   "execution_count": 155,
   "id": "b94e328f",
   "metadata": {},
   "outputs": [
    {
     "data": {
      "text/plain": [
       "['PIRASO', 'PIRASO']"
      ]
     },
     "execution_count": 155,
     "metadata": {},
     "output_type": "execute_result"
    }
   ],
   "source": [
    "#to scrape the product name using for loop\n",
    "product_name=[]\n",
    "for i in name_tags:\n",
    "    product_name.append(i.text)\n",
    "len(product_name)\n",
    "product_name[0:2]"
   ]
  },
  {
   "cell_type": "code",
   "execution_count": 156,
   "id": "ee077b67",
   "metadata": {},
   "outputs": [
    {
     "data": {
      "text/plain": [
       "[<selenium.webdriver.remote.webelement.WebElement (session=\"b4d02279bf99adcd06521ad7a236fdc3\", element=\"feb8f8fe-f0b3-4b12-985b-0a01e1481103\")>,\n",
       " <selenium.webdriver.remote.webelement.WebElement (session=\"b4d02279bf99adcd06521ad7a236fdc3\", element=\"2c413cea-f2d0-431b-bec1-4b23d49e9dfd\")>]"
      ]
     },
     "execution_count": 156,
     "metadata": {},
     "output_type": "execute_result"
    }
   ],
   "source": [
    "#to scrape description tags of the products\n",
    "description_tags= driver.find_elements_by_xpath('//a[@class=\"IRpwTa\"]')\n",
    "len(description_tags)\n",
    "description_tags[0:2]"
   ]
  },
  {
   "cell_type": "code",
   "execution_count": 157,
   "id": "2c71d3c6",
   "metadata": {},
   "outputs": [
    {
     "data": {
      "text/plain": [
       "['UV Protection Rectangular Sunglasses (Free Size)',\n",
       " 'UV Protection Rectangular Sunglasses (52)']"
      ]
     },
     "execution_count": 157,
     "metadata": {},
     "output_type": "execute_result"
    }
   ],
   "source": [
    "#to scrape the product description using for loop\n",
    "product_description=[]\n",
    "for i in description_tags:\n",
    "    product_description.append(i.text)\n",
    "len(product_description)\n",
    "product_description[0:2]"
   ]
  },
  {
   "cell_type": "code",
   "execution_count": 158,
   "id": "47cd5431",
   "metadata": {},
   "outputs": [
    {
     "data": {
      "text/plain": [
       "[<selenium.webdriver.remote.webelement.WebElement (session=\"b4d02279bf99adcd06521ad7a236fdc3\", element=\"c064c3a5-54b3-4ff5-aa84-0f94a646d8f7\")>,\n",
       " <selenium.webdriver.remote.webelement.WebElement (session=\"b4d02279bf99adcd06521ad7a236fdc3\", element=\"c4947537-5e4c-4f13-8b84-1558fdd8e9db\")>]"
      ]
     },
     "execution_count": 158,
     "metadata": {},
     "output_type": "execute_result"
    }
   ],
   "source": [
    "#to scrape price tags of the products\n",
    "price_tags= driver.find_elements_by_xpath('//div[@class=\"_25b18c\"]')\n",
    "len(price_tags)\n",
    "price_tags[0:2]"
   ]
  },
  {
   "cell_type": "code",
   "execution_count": 159,
   "id": "6dd5467a",
   "metadata": {},
   "outputs": [
    {
     "data": {
      "text/plain": [
       "['₹228₹2,59991% off', '₹263₹2,59989% off']"
      ]
     },
     "execution_count": 159,
     "metadata": {},
     "output_type": "execute_result"
    }
   ],
   "source": [
    "#to scrape the product price using for loop\n",
    "product_price=[]\n",
    "for i in price_tags:\n",
    "    product_price.append(i.text)\n",
    "len(product_price)\n",
    "product_price[0:2]"
   ]
  },
  {
   "cell_type": "code",
   "execution_count": 160,
   "id": "7cbd5543",
   "metadata": {},
   "outputs": [
    {
     "data": {
      "text/plain": [
       "[<selenium.webdriver.remote.webelement.WebElement (session=\"b4d02279bf99adcd06521ad7a236fdc3\", element=\"ae70f1d8-978a-4bfe-b42c-b0cd36872380\")>,\n",
       " <selenium.webdriver.remote.webelement.WebElement (session=\"b4d02279bf99adcd06521ad7a236fdc3\", element=\"3a68d3b3-c01b-428e-8748-bb74dffc0616\")>]"
      ]
     },
     "execution_count": 160,
     "metadata": {},
     "output_type": "execute_result"
    }
   ],
   "source": [
    "#we will first scrape name tags of the products\n",
    "name1_tags= driver.find_elements_by_xpath('//div[@class=\"_2WkVRV\"]')\n",
    "len(name_tags)\n",
    "name_tags[0:2]"
   ]
  },
  {
   "cell_type": "code",
   "execution_count": 161,
   "id": "d8c3dc9d",
   "metadata": {},
   "outputs": [
    {
     "data": {
      "text/plain": [
       "['PIRASO', 'PIRASO']"
      ]
     },
     "execution_count": 161,
     "metadata": {},
     "output_type": "execute_result"
    }
   ],
   "source": [
    "#to scrape the product name using for loop\n",
    "product1_name=[]\n",
    "for i in name1_tags:\n",
    "    product1_name.append(i.text)\n",
    "len(product1_name)\n",
    "product1_name[0:2]"
   ]
  },
  {
   "cell_type": "code",
   "execution_count": 162,
   "id": "efd490f8",
   "metadata": {},
   "outputs": [
    {
     "data": {
      "text/plain": [
       "[<selenium.webdriver.remote.webelement.WebElement (session=\"b4d02279bf99adcd06521ad7a236fdc3\", element=\"feb8f8fe-f0b3-4b12-985b-0a01e1481103\")>,\n",
       " <selenium.webdriver.remote.webelement.WebElement (session=\"b4d02279bf99adcd06521ad7a236fdc3\", element=\"2c413cea-f2d0-431b-bec1-4b23d49e9dfd\")>]"
      ]
     },
     "execution_count": 162,
     "metadata": {},
     "output_type": "execute_result"
    }
   ],
   "source": [
    "#to scrape description tags of the products\n",
    "description1_tags= driver.find_elements_by_xpath('//a[@class=\"IRpwTa\"]')\n",
    "len(description1_tags)\n",
    "description1_tags[0:2]"
   ]
  },
  {
   "cell_type": "code",
   "execution_count": 163,
   "id": "ae00a88b",
   "metadata": {},
   "outputs": [
    {
     "data": {
      "text/plain": [
       "['UV Protection Rectangular Sunglasses (Free Size)',\n",
       " 'UV Protection Rectangular Sunglasses (52)']"
      ]
     },
     "execution_count": 163,
     "metadata": {},
     "output_type": "execute_result"
    }
   ],
   "source": [
    "#to scrape the product description using for loop\n",
    "product1_description=[]\n",
    "for i in description1_tags:\n",
    "    product1_description.append(i.text)\n",
    "len(product1_description)\n",
    "product1_description[0:2]"
   ]
  },
  {
   "cell_type": "code",
   "execution_count": 164,
   "id": "02fd4258",
   "metadata": {},
   "outputs": [
    {
     "data": {
      "text/plain": [
       "[<selenium.webdriver.remote.webelement.WebElement (session=\"b4d02279bf99adcd06521ad7a236fdc3\", element=\"c064c3a5-54b3-4ff5-aa84-0f94a646d8f7\")>,\n",
       " <selenium.webdriver.remote.webelement.WebElement (session=\"b4d02279bf99adcd06521ad7a236fdc3\", element=\"c4947537-5e4c-4f13-8b84-1558fdd8e9db\")>]"
      ]
     },
     "execution_count": 164,
     "metadata": {},
     "output_type": "execute_result"
    }
   ],
   "source": [
    "#to scrape price tags of the products\n",
    "price1_tags= driver.find_elements_by_xpath('//div[@class=\"_25b18c\"]')\n",
    "len(price1_tags)\n",
    "price1_tags[0:2]"
   ]
  },
  {
   "cell_type": "code",
   "execution_count": 165,
   "id": "fe3f8989",
   "metadata": {},
   "outputs": [
    {
     "data": {
      "text/plain": [
       "['₹228₹2,59991% off', '₹263₹2,59989% off']"
      ]
     },
     "execution_count": 165,
     "metadata": {},
     "output_type": "execute_result"
    }
   ],
   "source": [
    "#to scrape the product price using for loop\n",
    "product1_price=[]\n",
    "for i in price1_tags:\n",
    "    product1_price.append(i.text)\n",
    "len(product1_price)\n",
    "product1_price[0:2]"
   ]
  },
  {
   "cell_type": "code",
   "execution_count": 166,
   "id": "70d01f92",
   "metadata": {},
   "outputs": [
    {
     "data": {
      "text/plain": [
       "[<selenium.webdriver.remote.webelement.WebElement (session=\"b4d02279bf99adcd06521ad7a236fdc3\", element=\"ae70f1d8-978a-4bfe-b42c-b0cd36872380\")>,\n",
       " <selenium.webdriver.remote.webelement.WebElement (session=\"b4d02279bf99adcd06521ad7a236fdc3\", element=\"3a68d3b3-c01b-428e-8748-bb74dffc0616\")>]"
      ]
     },
     "execution_count": 166,
     "metadata": {},
     "output_type": "execute_result"
    }
   ],
   "source": [
    "#we will scrape name tags of the products\n",
    "name2_tags= driver.find_elements_by_xpath('//div[@class=\"_2WkVRV\"]')\n",
    "len(name2_tags)\n",
    "name2_tags[0:2]"
   ]
  },
  {
   "cell_type": "code",
   "execution_count": 167,
   "id": "0f44e016",
   "metadata": {},
   "outputs": [
    {
     "data": {
      "text/plain": [
       "['PIRASO', 'PIRASO']"
      ]
     },
     "execution_count": 167,
     "metadata": {},
     "output_type": "execute_result"
    }
   ],
   "source": [
    "#to scrape the product name using for loop\n",
    "product2_name=[]\n",
    "for i in name2_tags:\n",
    "    product2_name.append(i.text)\n",
    "len(product2_name)\n",
    "product2_name[0:2]"
   ]
  },
  {
   "cell_type": "code",
   "execution_count": 168,
   "id": "a05c6fa5",
   "metadata": {},
   "outputs": [
    {
     "data": {
      "text/plain": [
       "[<selenium.webdriver.remote.webelement.WebElement (session=\"b4d02279bf99adcd06521ad7a236fdc3\", element=\"feb8f8fe-f0b3-4b12-985b-0a01e1481103\")>,\n",
       " <selenium.webdriver.remote.webelement.WebElement (session=\"b4d02279bf99adcd06521ad7a236fdc3\", element=\"2c413cea-f2d0-431b-bec1-4b23d49e9dfd\")>]"
      ]
     },
     "execution_count": 168,
     "metadata": {},
     "output_type": "execute_result"
    }
   ],
   "source": [
    "#to scrape description tags of the products\n",
    "description2_tags= driver.find_elements_by_xpath('//a[@class=\"IRpwTa\"]')\n",
    "len(description2_tags)\n",
    "description2_tags[0:2]"
   ]
  },
  {
   "cell_type": "code",
   "execution_count": 169,
   "id": "e63537b0",
   "metadata": {},
   "outputs": [
    {
     "data": {
      "text/plain": [
       "['UV Protection Rectangular Sunglasses (Free Size)',\n",
       " 'UV Protection Rectangular Sunglasses (52)']"
      ]
     },
     "execution_count": 169,
     "metadata": {},
     "output_type": "execute_result"
    }
   ],
   "source": [
    "#to scrape the product description using for loop\n",
    "product2_description=[]\n",
    "for i in description2_tags:\n",
    "    product2_description.append(i.text)\n",
    "len(product2_description)\n",
    "product2_description[0:2]"
   ]
  },
  {
   "cell_type": "code",
   "execution_count": 170,
   "id": "af8cb90d",
   "metadata": {},
   "outputs": [
    {
     "data": {
      "text/plain": [
       "[<selenium.webdriver.remote.webelement.WebElement (session=\"b4d02279bf99adcd06521ad7a236fdc3\", element=\"c064c3a5-54b3-4ff5-aa84-0f94a646d8f7\")>,\n",
       " <selenium.webdriver.remote.webelement.WebElement (session=\"b4d02279bf99adcd06521ad7a236fdc3\", element=\"c4947537-5e4c-4f13-8b84-1558fdd8e9db\")>]"
      ]
     },
     "execution_count": 170,
     "metadata": {},
     "output_type": "execute_result"
    }
   ],
   "source": [
    "#to scrape price tags of the products\n",
    "price2_tags= driver.find_elements_by_xpath('//div[@class=\"_25b18c\"]')\n",
    "len(price2_tags)\n",
    "price2_tags[0:2]"
   ]
  },
  {
   "cell_type": "code",
   "execution_count": 171,
   "id": "75c82abd",
   "metadata": {},
   "outputs": [
    {
     "data": {
      "text/plain": [
       "['₹228₹2,59991% off', '₹263₹2,59989% off']"
      ]
     },
     "execution_count": 171,
     "metadata": {},
     "output_type": "execute_result"
    }
   ],
   "source": [
    "#to scrape the product price using for loop\n",
    "product2_price=[]\n",
    "for i in price2_tags:\n",
    "    product2_price.append(i.text)\n",
    "len(product2_price)\n",
    "product2_price[0:2]"
   ]
  },
  {
   "cell_type": "code",
   "execution_count": 172,
   "id": "77eb12b4",
   "metadata": {},
   "outputs": [
    {
     "data": {
      "text/plain": [
       "(40, 45, 45, 45)"
      ]
     },
     "execution_count": 172,
     "metadata": {},
     "output_type": "execute_result"
    }
   ],
   "source": [
    "len( product_name),len( product1_name),len( product2_name),len(product_description),len(product1_description),\n",
    "len(product2_description), len(product_price),len(product1_price),len(product2_price)"
   ]
  },
  {
   "cell_type": "code",
   "execution_count": 176,
   "id": "13e360f7",
   "metadata": {},
   "outputs": [
    {
     "data": {
      "text/html": [
       "<div>\n",
       "<style scoped>\n",
       "    .dataframe tbody tr th:only-of-type {\n",
       "        vertical-align: middle;\n",
       "    }\n",
       "\n",
       "    .dataframe tbody tr th {\n",
       "        vertical-align: top;\n",
       "    }\n",
       "\n",
       "    .dataframe thead th {\n",
       "        text-align: right;\n",
       "    }\n",
       "</style>\n",
       "<table border=\"1\" class=\"dataframe\">\n",
       "  <thead>\n",
       "    <tr style=\"text-align: right;\">\n",
       "      <th></th>\n",
       "      <th>Product Name</th>\n",
       "      <th>Product Description</th>\n",
       "      <th>Product Price</th>\n",
       "    </tr>\n",
       "  </thead>\n",
       "  <tbody>\n",
       "    <tr>\n",
       "      <th>0</th>\n",
       "      <td>PIRASO</td>\n",
       "      <td>UV Protection Rectangular Sunglasses (Free Size)</td>\n",
       "      <td>₹228₹2,59991% off</td>\n",
       "    </tr>\n",
       "    <tr>\n",
       "      <th>1</th>\n",
       "      <td>PIRASO</td>\n",
       "      <td>UV Protection Rectangular Sunglasses (52)</td>\n",
       "      <td>₹263₹2,59989% off</td>\n",
       "    </tr>\n",
       "    <tr>\n",
       "      <th>2</th>\n",
       "      <td>SRPM</td>\n",
       "      <td>UV Protection Wayfarer Sunglasses (50)</td>\n",
       "      <td>₹198₹1,29984% off</td>\n",
       "    </tr>\n",
       "    <tr>\n",
       "      <th>3</th>\n",
       "      <td>SUNBEE</td>\n",
       "      <td>UV Protection, Polarized Wayfarer Sunglasses (...</td>\n",
       "      <td>₹253₹1,29980% off</td>\n",
       "    </tr>\n",
       "    <tr>\n",
       "      <th>4</th>\n",
       "      <td>ROZZETTA CRAFT</td>\n",
       "      <td>Polarized, Night Vision, Riding Glasses Sports...</td>\n",
       "      <td>₹474₹1,99976% off</td>\n",
       "    </tr>\n",
       "  </tbody>\n",
       "</table>\n",
       "</div>"
      ],
      "text/plain": [
       "     Product Name                                Product Description  \\\n",
       "0          PIRASO   UV Protection Rectangular Sunglasses (Free Size)   \n",
       "1          PIRASO          UV Protection Rectangular Sunglasses (52)   \n",
       "2            SRPM             UV Protection Wayfarer Sunglasses (50)   \n",
       "3          SUNBEE  UV Protection, Polarized Wayfarer Sunglasses (...   \n",
       "4  ROZZETTA CRAFT  Polarized, Night Vision, Riding Glasses Sports...   \n",
       "\n",
       "       Product Price  \n",
       "0  ₹228₹2,59991% off  \n",
       "1  ₹263₹2,59989% off  \n",
       "2  ₹198₹1,29984% off  \n",
       "3  ₹253₹1,29980% off  \n",
       "4  ₹474₹1,99976% off  "
      ]
     },
     "execution_count": 176,
     "metadata": {},
     "output_type": "execute_result"
    }
   ],
   "source": [
    "sunglasses= pd.DataFrame()\n",
    "sunglasses['Product Name']= product_name[:40]\n",
    "sunglasses['Product Name']= product1_name[:40]\n",
    "sunglasses['Product Name']= product2_name[:40]\n",
    "sunglasses['Product Description']= product_description[:40]\n",
    "sunglasses['Product Description']= product1_description[:40]\n",
    "sunglasses['Product Description']=product2_description[:40]\n",
    "sunglasses['Product Price']=product_price[:40]\n",
    "sunglasses['Product Price']=product1_price[:40]\n",
    "sunglasses['Product Price']=product2_price[:40]\n",
    "sunglasses.head(5)"
   ]
  },
  {
   "cell_type": "markdown",
   "id": "3af9f252",
   "metadata": {},
   "source": [
    "Q5: Scrape 100 reviews data from flipkart.com for iphone11 phone. You have to go the link:\n",
    "\n",
    "https://www.flipkart.com/apple-iphone-11-black-64-gb-includes- earpods-power-\n",
    "adapter/p/itm0f37c2240b217?pid=MOBFKCTSVZAXUHGR&lid=LSTMOBFKC\n",
    "\n",
    "TSVZAXUHGREPBFGI&marketplace.\n",
    "When you will open the above link you will reach to the below shown webpage .\n",
    "As shown in the above page you have to scrape the tick marked attributes.These are:\n",
    "1. Rating\n",
    "2. Review summary\n",
    "3. Full review\n",
    "4. You have to scrape this data for first 100 reviews."
   ]
  },
  {
   "cell_type": "code",
   "execution_count": 2,
   "id": "5cf2ef0c",
   "metadata": {},
   "outputs": [],
   "source": [
    "driver= webdriver.Chrome(r'C:/Users/Harshita/Downloads/chromedriver_win32/chromedriver')"
   ]
  },
  {
   "cell_type": "code",
   "execution_count": 3,
   "id": "5d1b5755",
   "metadata": {},
   "outputs": [],
   "source": [
    "url= 'https://www.flipkart.com/apple-iphone-11-black-64-gb-includes- earpods-powerdapter/p/itm0f37c2240b217?pid=MOBFKCTSVZAXUHGR&lid=LSTMOBFKCTSVZAXUHGREPBFGI&marketplace.'\n",
    "driver.get(url)"
   ]
  },
  {
   "cell_type": "code",
   "execution_count": 4,
   "id": "427b0f57",
   "metadata": {},
   "outputs": [
    {
     "data": {
      "text/plain": [
       "[<selenium.webdriver.remote.webelement.WebElement (session=\"99df94a9d254f4372218936bd04e1ea7\", element=\"0bcd19b5-6a4b-46b5-a407-42f7afcd9587\")>,\n",
       " <selenium.webdriver.remote.webelement.WebElement (session=\"99df94a9d254f4372218936bd04e1ea7\", element=\"584d7239-5436-40d9-a38d-1bf3516bd684\")>]"
      ]
     },
     "execution_count": 4,
     "metadata": {},
     "output_type": "execute_result"
    }
   ],
   "source": [
    "rating_tags= driver.find_elements_by_xpath('//div[@class=\"_3LWZlK _1BLPMq\"]')\n",
    "rating_tags[:2]"
   ]
  },
  {
   "cell_type": "code",
   "execution_count": 5,
   "id": "5bdde066",
   "metadata": {},
   "outputs": [
    {
     "data": {
      "text/plain": [
       "['5', '5']"
      ]
     },
     "execution_count": 5,
     "metadata": {},
     "output_type": "execute_result"
    }
   ],
   "source": [
    "ratings=[]\n",
    "for i in rating_tags:\n",
    "    ratings.append(i.text)\n",
    "len(ratings)\n",
    "ratings[:2]"
   ]
  },
  {
   "cell_type": "code",
   "execution_count": 6,
   "id": "0b4ec8a7",
   "metadata": {},
   "outputs": [
    {
     "data": {
      "text/plain": [
       "[<selenium.webdriver.remote.webelement.WebElement (session=\"99df94a9d254f4372218936bd04e1ea7\", element=\"14b365f4-c093-4b15-aafe-35ef923d6931\")>,\n",
       " <selenium.webdriver.remote.webelement.WebElement (session=\"99df94a9d254f4372218936bd04e1ea7\", element=\"77d723ce-da06-423d-98f2-bfa163fd3f82\")>]"
      ]
     },
     "execution_count": 6,
     "metadata": {},
     "output_type": "execute_result"
    }
   ],
   "source": [
    "summary_tags= driver.find_elements_by_xpath('//p[@class=\"_2-N8zT\"]')\n",
    "summary_tags[:2]"
   ]
  },
  {
   "cell_type": "code",
   "execution_count": 7,
   "id": "223a1e43",
   "metadata": {},
   "outputs": [
    {
     "data": {
      "text/plain": [
       "['Brilliant', 'Simply awesome']"
      ]
     },
     "execution_count": 7,
     "metadata": {},
     "output_type": "execute_result"
    }
   ],
   "source": [
    "summary_reviews=[]\n",
    "for i in summary_tags:\n",
    "    summary_reviews.append(i.text)\n",
    "len(summary_reviews)\n",
    "summary_reviews[:2]"
   ]
  },
  {
   "cell_type": "code",
   "execution_count": 8,
   "id": "ed9ca364",
   "metadata": {},
   "outputs": [
    {
     "data": {
      "text/plain": [
       "[<selenium.webdriver.remote.webelement.WebElement (session=\"99df94a9d254f4372218936bd04e1ea7\", element=\"29d5c079-3e51-4ef5-b826-d5f50f41e9a1\")>,\n",
       " <selenium.webdriver.remote.webelement.WebElement (session=\"99df94a9d254f4372218936bd04e1ea7\", element=\"e1b27a11-66d4-4f70-a8f7-1d11e309b098\")>]"
      ]
     },
     "execution_count": 8,
     "metadata": {},
     "output_type": "execute_result"
    }
   ],
   "source": [
    "review_tags= driver.find_elements_by_xpath('//div[@class]')\n",
    "review_tags[:2]"
   ]
  },
  {
   "cell_type": "code",
   "execution_count": 9,
   "id": "ffcb26b8",
   "metadata": {},
   "outputs": [
    {
     "data": {
      "text/plain": [
       "['Explore Plus\\nLogin\\nMore\\nCart', 'Explore Plus\\nLogin\\nMore\\nCart']"
      ]
     },
     "execution_count": 9,
     "metadata": {},
     "output_type": "execute_result"
    }
   ],
   "source": [
    "full_review=[]\n",
    "for i in review_tags:\n",
    "    full_review.append(i.text)\n",
    "len(full_review)\n",
    "full_review[:2]"
   ]
  },
  {
   "cell_type": "code",
   "execution_count": 12,
   "id": "4b364d53",
   "metadata": {},
   "outputs": [
    {
     "data": {
      "text/html": [
       "<div>\n",
       "<style scoped>\n",
       "    .dataframe tbody tr th:only-of-type {\n",
       "        vertical-align: middle;\n",
       "    }\n",
       "\n",
       "    .dataframe tbody tr th {\n",
       "        vertical-align: top;\n",
       "    }\n",
       "\n",
       "    .dataframe thead th {\n",
       "        text-align: right;\n",
       "    }\n",
       "</style>\n",
       "<table border=\"1\" class=\"dataframe\">\n",
       "  <thead>\n",
       "    <tr style=\"text-align: right;\">\n",
       "      <th></th>\n",
       "      <th>Rating</th>\n",
       "      <th>Review Summary</th>\n",
       "      <th>Full Review</th>\n",
       "    </tr>\n",
       "  </thead>\n",
       "  <tbody>\n",
       "    <tr>\n",
       "      <th>0</th>\n",
       "      <td>5</td>\n",
       "      <td>Brilliant</td>\n",
       "      <td>Explore Plus\\nLogin\\nMore\\nCart</td>\n",
       "    </tr>\n",
       "    <tr>\n",
       "      <th>1</th>\n",
       "      <td>5</td>\n",
       "      <td>Simply awesome</td>\n",
       "      <td>Explore Plus\\nLogin\\nMore\\nCart</td>\n",
       "    </tr>\n",
       "    <tr>\n",
       "      <th>2</th>\n",
       "      <td>5</td>\n",
       "      <td>Best in the market!</td>\n",
       "      <td></td>\n",
       "    </tr>\n",
       "    <tr>\n",
       "      <th>3</th>\n",
       "      <td></td>\n",
       "      <td></td>\n",
       "      <td>Explore Plus\\nLogin\\nMore\\nCart</td>\n",
       "    </tr>\n",
       "    <tr>\n",
       "      <th>4</th>\n",
       "      <td></td>\n",
       "      <td></td>\n",
       "      <td>Explore Plus</td>\n",
       "    </tr>\n",
       "    <tr>\n",
       "      <th>5</th>\n",
       "      <td></td>\n",
       "      <td></td>\n",
       "      <td>Explore Plus</td>\n",
       "    </tr>\n",
       "    <tr>\n",
       "      <th>6</th>\n",
       "      <td></td>\n",
       "      <td></td>\n",
       "      <td></td>\n",
       "    </tr>\n",
       "    <tr>\n",
       "      <th>7</th>\n",
       "      <td></td>\n",
       "      <td></td>\n",
       "      <td></td>\n",
       "    </tr>\n",
       "    <tr>\n",
       "      <th>8</th>\n",
       "      <td></td>\n",
       "      <td></td>\n",
       "      <td></td>\n",
       "    </tr>\n",
       "    <tr>\n",
       "      <th>9</th>\n",
       "      <td></td>\n",
       "      <td></td>\n",
       "      <td>Login</td>\n",
       "    </tr>\n",
       "  </tbody>\n",
       "</table>\n",
       "</div>"
      ],
      "text/plain": [
       "  Rating       Review Summary                      Full Review\n",
       "0      5            Brilliant  Explore Plus\\nLogin\\nMore\\nCart\n",
       "1      5       Simply awesome  Explore Plus\\nLogin\\nMore\\nCart\n",
       "2      5  Best in the market!                                 \n",
       "3                              Explore Plus\\nLogin\\nMore\\nCart\n",
       "4                                                 Explore Plus\n",
       "5                                                 Explore Plus\n",
       "6                                                             \n",
       "7                                                             \n",
       "8                                                             \n",
       "9                                                        Login"
      ]
     },
     "execution_count": 12,
     "metadata": {},
     "output_type": "execute_result"
    }
   ],
   "source": [
    "phone= pd.DataFrame()\n",
    "phone['Rating']= ratings[:10]\n",
    "phone['Review Summary']=summary_reviews[:100]\n",
    "phone['Full Review']=full_review[:10]\n",
    "phone"
   ]
  },
  {
   "cell_type": "markdown",
   "id": "417c5e5a",
   "metadata": {},
   "source": [
    "Scrape data for first 100 sneakers you find when you visit flipkart.com andsearch for “sneakers” in the\n",
    "search field.\n",
    "You have to scrape 4 attributes of each sneaker:\n",
    "1. Brand\n",
    "2. Product Description\n",
    "3. Price\n",
    "As shown in the below image, you have to scrape the tick marked attributes."
   ]
  },
  {
   "cell_type": "code",
   "execution_count": 13,
   "id": "4244efc3",
   "metadata": {},
   "outputs": [],
   "source": [
    "driver= webdriver.Chrome(r'C:/Users/Harshita/Downloads/chromedriver_win32/chromedriver')"
   ]
  },
  {
   "cell_type": "code",
   "execution_count": 14,
   "id": "c56bfdf9",
   "metadata": {},
   "outputs": [],
   "source": [
    "url= 'https://www.flipkart.com/'\n",
    "driver.get(url)"
   ]
  },
  {
   "cell_type": "code",
   "execution_count": 15,
   "id": "f104bffe",
   "metadata": {},
   "outputs": [
    {
     "data": {
      "text/plain": [
       "<selenium.webdriver.remote.webelement.WebElement (session=\"0d464859026e02fff917b9605ad9318a\", element=\"86fe4b9c-0ffa-4e0a-962a-0104948ae7fc\")>"
      ]
     },
     "execution_count": 15,
     "metadata": {},
     "output_type": "execute_result"
    }
   ],
   "source": [
    "search= driver.find_element_by_class_name('_3704LK')\n",
    "search"
   ]
  },
  {
   "cell_type": "code",
   "execution_count": 16,
   "id": "28ad47ef",
   "metadata": {},
   "outputs": [],
   "source": [
    "search.send_keys('Sneakers')"
   ]
  },
  {
   "cell_type": "code",
   "execution_count": 17,
   "id": "4ef3de1e",
   "metadata": {},
   "outputs": [],
   "source": [
    "search.click()"
   ]
  },
  {
   "cell_type": "code",
   "execution_count": 18,
   "id": "9dd5380f",
   "metadata": {},
   "outputs": [
    {
     "data": {
      "text/plain": [
       "[<selenium.webdriver.remote.webelement.WebElement (session=\"0d464859026e02fff917b9605ad9318a\", element=\"80d03a75-4704-456c-a78e-33137f1a1f28\")>,\n",
       " <selenium.webdriver.remote.webelement.WebElement (session=\"0d464859026e02fff917b9605ad9318a\", element=\"f625ae1d-3a9d-455e-addb-5ea3ba8bdc7c\")>]"
      ]
     },
     "execution_count": 18,
     "metadata": {},
     "output_type": "execute_result"
    }
   ],
   "source": [
    "brand_tags= driver.find_elements_by_xpath('//div[@class=\"_2WkVRV\"]')\n",
    "brand_tags[:2]"
   ]
  },
  {
   "cell_type": "code",
   "execution_count": 19,
   "id": "3042f1f4",
   "metadata": {},
   "outputs": [
    {
     "data": {
      "text/plain": [
       "['HIGHLANDER', 'HIGHLANDER']"
      ]
     },
     "execution_count": 19,
     "metadata": {},
     "output_type": "execute_result"
    }
   ],
   "source": [
    "brand_name=[]\n",
    "for i in brand_tags:\n",
    "    brand_name.append(i.text)\n",
    "len(brand_name)\n",
    "brand_name[:2]"
   ]
  },
  {
   "cell_type": "code",
   "execution_count": 31,
   "id": "5088806e",
   "metadata": {},
   "outputs": [
    {
     "data": {
      "text/plain": [
       "[<selenium.webdriver.remote.webelement.WebElement (session=\"0d464859026e02fff917b9605ad9318a\", element=\"bc68966d-6eae-4ca0-81a3-418be3902540\")>,\n",
       " <selenium.webdriver.remote.webelement.WebElement (session=\"0d464859026e02fff917b9605ad9318a\", element=\"7cc807c8-5972-42f8-ae4e-cd88cddb757a\")>]"
      ]
     },
     "execution_count": 31,
     "metadata": {},
     "output_type": "execute_result"
    }
   ],
   "source": [
    "description_tags= driver.find_elements_by_xpath('//a[@class=\"IRpwTa\"]')\n",
    "description_tags[:2]"
   ]
  },
  {
   "cell_type": "code",
   "execution_count": 32,
   "id": "059ebf3a",
   "metadata": {},
   "outputs": [
    {
     "data": {
      "text/plain": [
       "['Sneakers For Men',\n",
       " 'Super Stylish & Trendy Combo Pack of 02 Pairs Sneakers ...']"
      ]
     },
     "execution_count": 32,
     "metadata": {},
     "output_type": "execute_result"
    }
   ],
   "source": [
    "brand_description=[]\n",
    "for i in description_tags:\n",
    "    brand_description.append(i.text)\n",
    "len(brand_description)\n",
    "brand_description[:2]"
   ]
  },
  {
   "cell_type": "code",
   "execution_count": 22,
   "id": "5a6dc307",
   "metadata": {},
   "outputs": [
    {
     "data": {
      "text/plain": [
       "[<selenium.webdriver.remote.webelement.WebElement (session=\"0d464859026e02fff917b9605ad9318a\", element=\"780049fd-559f-4122-8995-06081b8e9adb\")>,\n",
       " <selenium.webdriver.remote.webelement.WebElement (session=\"0d464859026e02fff917b9605ad9318a\", element=\"5acf789a-946d-4311-afc4-595d200b22ae\")>]"
      ]
     },
     "execution_count": 22,
     "metadata": {},
     "output_type": "execute_result"
    }
   ],
   "source": [
    "price_tags= driver.find_elements_by_xpath('//div[@class=\"_25b18c\"]')\n",
    "price_tags[:2]"
   ]
  },
  {
   "cell_type": "code",
   "execution_count": 23,
   "id": "68f34223",
   "metadata": {},
   "outputs": [
    {
     "data": {
      "text/plain": [
       "['₹796₹1,99060% off', '₹796₹1,99060% off']"
      ]
     },
     "execution_count": 23,
     "metadata": {},
     "output_type": "execute_result"
    }
   ],
   "source": [
    "price=[]\n",
    "for i in price_tags:\n",
    "    price.append(i.text)\n",
    "len(price)\n",
    "price[:2]"
   ]
  },
  {
   "cell_type": "code",
   "execution_count": 33,
   "id": "604fea4f",
   "metadata": {},
   "outputs": [
    {
     "data": {
      "text/plain": [
       "(40, 31, 45)"
      ]
     },
     "execution_count": 33,
     "metadata": {},
     "output_type": "execute_result"
    }
   ],
   "source": [
    "len(brand_name),len(brand_description),len(price)"
   ]
  },
  {
   "cell_type": "code",
   "execution_count": 35,
   "id": "328578c6",
   "metadata": {},
   "outputs": [
    {
     "data": {
      "text/html": [
       "<div>\n",
       "<style scoped>\n",
       "    .dataframe tbody tr th:only-of-type {\n",
       "        vertical-align: middle;\n",
       "    }\n",
       "\n",
       "    .dataframe tbody tr th {\n",
       "        vertical-align: top;\n",
       "    }\n",
       "\n",
       "    .dataframe thead th {\n",
       "        text-align: right;\n",
       "    }\n",
       "</style>\n",
       "<table border=\"1\" class=\"dataframe\">\n",
       "  <thead>\n",
       "    <tr style=\"text-align: right;\">\n",
       "      <th></th>\n",
       "      <th>Brand</th>\n",
       "      <th>Brand Description</th>\n",
       "      <th>Price</th>\n",
       "    </tr>\n",
       "  </thead>\n",
       "  <tbody>\n",
       "    <tr>\n",
       "      <th>0</th>\n",
       "      <td>HIGHLANDER</td>\n",
       "      <td>Sneakers For Men</td>\n",
       "      <td>₹796₹1,99060% off</td>\n",
       "    </tr>\n",
       "    <tr>\n",
       "      <th>1</th>\n",
       "      <td>HIGHLANDER</td>\n",
       "      <td>Super Stylish &amp; Trendy Combo Pack of 02 Pairs ...</td>\n",
       "      <td>₹796₹1,99060% off</td>\n",
       "    </tr>\n",
       "    <tr>\n",
       "      <th>2</th>\n",
       "      <td>Chevit</td>\n",
       "      <td>Sneakers For Men</td>\n",
       "      <td>₹649₹1,59859% off</td>\n",
       "    </tr>\n",
       "    <tr>\n",
       "      <th>3</th>\n",
       "      <td>World Wear Footwear</td>\n",
       "      <td>Sneakers For Men</td>\n",
       "      <td>₹199₹49960% off</td>\n",
       "    </tr>\n",
       "    <tr>\n",
       "      <th>4</th>\n",
       "      <td>DUNKASTON</td>\n",
       "      <td>Sneakers For Men</td>\n",
       "      <td>₹278₹1,49981% off</td>\n",
       "    </tr>\n",
       "    <tr>\n",
       "      <th>5</th>\n",
       "      <td>Magnolia</td>\n",
       "      <td>Modern Trendy Sneakers Shoes Sneakers For Men</td>\n",
       "      <td>₹448₹99955% off</td>\n",
       "    </tr>\n",
       "    <tr>\n",
       "      <th>6</th>\n",
       "      <td>BRUTON</td>\n",
       "      <td>Sneakers For Men</td>\n",
       "      <td>₹259₹1,29980% off</td>\n",
       "    </tr>\n",
       "    <tr>\n",
       "      <th>7</th>\n",
       "      <td>LEVI'S</td>\n",
       "      <td>STYLISH MENS BLACK AND WHITE SNEAKER Sneakers ...</td>\n",
       "      <td>₹1,119₹2,79960% off</td>\n",
       "    </tr>\n",
       "    <tr>\n",
       "      <th>8</th>\n",
       "      <td>TR</td>\n",
       "      <td>Sneaker Sneakers For Men</td>\n",
       "      <td>₹322₹99967% off</td>\n",
       "    </tr>\n",
       "    <tr>\n",
       "      <th>9</th>\n",
       "      <td>URBANBOX</td>\n",
       "      <td>Modern &amp; Trendy Collection Combo Pack of 02 Sh...</td>\n",
       "      <td>₹198₹99980% off</td>\n",
       "    </tr>\n",
       "    <tr>\n",
       "      <th>10</th>\n",
       "      <td>corsac</td>\n",
       "      <td>Kwik FIT casual sneaker shoes and partywear sh...</td>\n",
       "      <td>₹449₹1,49970% off</td>\n",
       "    </tr>\n",
       "    <tr>\n",
       "      <th>11</th>\n",
       "      <td>LEVI'S</td>\n",
       "      <td>all white heartbeat casual shoe Sneakers For Men</td>\n",
       "      <td>₹1,199₹2,99960% off</td>\n",
       "    </tr>\n",
       "    <tr>\n",
       "      <th>12</th>\n",
       "      <td>BRUTON</td>\n",
       "      <td>Casual , Partywear Sneakers Shoes For Men's An...</td>\n",
       "      <td>₹299₹1,29976% off</td>\n",
       "    </tr>\n",
       "    <tr>\n",
       "      <th>13</th>\n",
       "      <td>BRUTON</td>\n",
       "      <td>5011-Latest Collection Stylish Casual Loafer S...</td>\n",
       "      <td>₹471₹2,49981% off</td>\n",
       "    </tr>\n",
       "    <tr>\n",
       "      <th>14</th>\n",
       "      <td>KWIK FIT</td>\n",
       "      <td>White Sneaker For Men's/Boy's Sneakers For Men</td>\n",
       "      <td>₹399₹1,99980% off</td>\n",
       "    </tr>\n",
       "    <tr>\n",
       "      <th>15</th>\n",
       "      <td>EMPTILE</td>\n",
       "      <td>Kwik FIT casual sneaker shoes and partywear sh...</td>\n",
       "      <td>₹397₹99960% off</td>\n",
       "    </tr>\n",
       "    <tr>\n",
       "      <th>16</th>\n",
       "      <td>D-SNEAKERZ</td>\n",
       "      <td>Sneakers For Men</td>\n",
       "      <td>₹299₹65954% off</td>\n",
       "    </tr>\n",
       "    <tr>\n",
       "      <th>17</th>\n",
       "      <td>World Wear Footwear</td>\n",
       "      <td>Modern &amp; Trendy Collection Combo Pack of 02 Sh...</td>\n",
       "      <td>₹199₹49960% off</td>\n",
       "    </tr>\n",
       "    <tr>\n",
       "      <th>18</th>\n",
       "      <td>Shoes Bank</td>\n",
       "      <td>Lattest Sneakers Shoe Sneakers For Men</td>\n",
       "      <td>₹298₹99970% off</td>\n",
       "    </tr>\n",
       "    <tr>\n",
       "      <th>19</th>\n",
       "      <td>KWIK FIT</td>\n",
       "      <td>Sneakers For Men</td>\n",
       "      <td>₹397₹1,99980% off</td>\n",
       "    </tr>\n",
       "    <tr>\n",
       "      <th>20</th>\n",
       "      <td>aadi</td>\n",
       "      <td>Sneakers For Men</td>\n",
       "      <td>₹339₹99966% off</td>\n",
       "    </tr>\n",
       "    <tr>\n",
       "      <th>21</th>\n",
       "      <td>BRUTON</td>\n",
       "      <td>Sneakers For Men</td>\n",
       "      <td>₹536₹2,49978% off</td>\n",
       "    </tr>\n",
       "    <tr>\n",
       "      <th>22</th>\n",
       "      <td>RapidBox</td>\n",
       "      <td>Sneakers For Men</td>\n",
       "      <td>₹680₹99931% off</td>\n",
       "    </tr>\n",
       "    <tr>\n",
       "      <th>23</th>\n",
       "      <td>RapidBox</td>\n",
       "      <td>CR-1 Sneakers For Men</td>\n",
       "      <td>₹630₹99936% off</td>\n",
       "    </tr>\n",
       "    <tr>\n",
       "      <th>24</th>\n",
       "      <td>BRUTON</td>\n",
       "      <td>Series 7 Sneakers For Men</td>\n",
       "      <td>₹299₹1,29976% off</td>\n",
       "    </tr>\n",
       "    <tr>\n",
       "      <th>25</th>\n",
       "      <td>Labbin</td>\n",
       "      <td>Men's Sneakers Fashion Lightweight Running Sho...</td>\n",
       "      <td>₹499₹99950% off</td>\n",
       "    </tr>\n",
       "    <tr>\n",
       "      <th>26</th>\n",
       "      <td>Magnolia</td>\n",
       "      <td>516 Trendy Star Perfect Sneakers For Men</td>\n",
       "      <td>₹448₹99955% off</td>\n",
       "    </tr>\n",
       "    <tr>\n",
       "      <th>27</th>\n",
       "      <td>LEVI'S</td>\n",
       "      <td>Sneakers For Men</td>\n",
       "      <td>₹1,119₹2,79960% off</td>\n",
       "    </tr>\n",
       "    <tr>\n",
       "      <th>28</th>\n",
       "      <td>Rzisbo</td>\n",
       "      <td>Sneakers For Men</td>\n",
       "      <td>₹494₹99950% off</td>\n",
       "    </tr>\n",
       "    <tr>\n",
       "      <th>29</th>\n",
       "      <td>Stefano Rads</td>\n",
       "      <td>sneaker men red 1258 - 6 Sneakers For Men</td>\n",
       "      <td>₹240₹69965% off</td>\n",
       "    </tr>\n",
       "  </tbody>\n",
       "</table>\n",
       "</div>"
      ],
      "text/plain": [
       "                  Brand                                  Brand Description  \\\n",
       "0            HIGHLANDER                                   Sneakers For Men   \n",
       "1            HIGHLANDER  Super Stylish & Trendy Combo Pack of 02 Pairs ...   \n",
       "2                Chevit                                   Sneakers For Men   \n",
       "3   World Wear Footwear                                   Sneakers For Men   \n",
       "4             DUNKASTON                                   Sneakers For Men   \n",
       "5              Magnolia      Modern Trendy Sneakers Shoes Sneakers For Men   \n",
       "6                BRUTON                                   Sneakers For Men   \n",
       "7                LEVI'S  STYLISH MENS BLACK AND WHITE SNEAKER Sneakers ...   \n",
       "8                    TR                           Sneaker Sneakers For Men   \n",
       "9              URBANBOX  Modern & Trendy Collection Combo Pack of 02 Sh...   \n",
       "10               corsac  Kwik FIT casual sneaker shoes and partywear sh...   \n",
       "11               LEVI'S   all white heartbeat casual shoe Sneakers For Men   \n",
       "12               BRUTON  Casual , Partywear Sneakers Shoes For Men's An...   \n",
       "13               BRUTON  5011-Latest Collection Stylish Casual Loafer S...   \n",
       "14             KWIK FIT     White Sneaker For Men's/Boy's Sneakers For Men   \n",
       "15              EMPTILE  Kwik FIT casual sneaker shoes and partywear sh...   \n",
       "16           D-SNEAKERZ                                   Sneakers For Men   \n",
       "17  World Wear Footwear  Modern & Trendy Collection Combo Pack of 02 Sh...   \n",
       "18           Shoes Bank             Lattest Sneakers Shoe Sneakers For Men   \n",
       "19             KWIK FIT                                   Sneakers For Men   \n",
       "20                 aadi                                   Sneakers For Men   \n",
       "21               BRUTON                                   Sneakers For Men   \n",
       "22             RapidBox                                   Sneakers For Men   \n",
       "23             RapidBox                              CR-1 Sneakers For Men   \n",
       "24               BRUTON                          Series 7 Sneakers For Men   \n",
       "25               Labbin  Men's Sneakers Fashion Lightweight Running Sho...   \n",
       "26             Magnolia           516 Trendy Star Perfect Sneakers For Men   \n",
       "27               LEVI'S                                   Sneakers For Men   \n",
       "28               Rzisbo                                   Sneakers For Men   \n",
       "29         Stefano Rads          sneaker men red 1258 - 6 Sneakers For Men   \n",
       "\n",
       "                  Price  \n",
       "0     ₹796₹1,99060% off  \n",
       "1     ₹796₹1,99060% off  \n",
       "2     ₹649₹1,59859% off  \n",
       "3       ₹199₹49960% off  \n",
       "4     ₹278₹1,49981% off  \n",
       "5       ₹448₹99955% off  \n",
       "6     ₹259₹1,29980% off  \n",
       "7   ₹1,119₹2,79960% off  \n",
       "8       ₹322₹99967% off  \n",
       "9       ₹198₹99980% off  \n",
       "10    ₹449₹1,49970% off  \n",
       "11  ₹1,199₹2,99960% off  \n",
       "12    ₹299₹1,29976% off  \n",
       "13    ₹471₹2,49981% off  \n",
       "14    ₹399₹1,99980% off  \n",
       "15      ₹397₹99960% off  \n",
       "16      ₹299₹65954% off  \n",
       "17      ₹199₹49960% off  \n",
       "18      ₹298₹99970% off  \n",
       "19    ₹397₹1,99980% off  \n",
       "20      ₹339₹99966% off  \n",
       "21    ₹536₹2,49978% off  \n",
       "22      ₹680₹99931% off  \n",
       "23      ₹630₹99936% off  \n",
       "24    ₹299₹1,29976% off  \n",
       "25      ₹499₹99950% off  \n",
       "26      ₹448₹99955% off  \n",
       "27  ₹1,119₹2,79960% off  \n",
       "28      ₹494₹99950% off  \n",
       "29      ₹240₹69965% off  "
      ]
     },
     "execution_count": 35,
     "metadata": {},
     "output_type": "execute_result"
    }
   ],
   "source": [
    "sneakers= pd.DataFrame()\n",
    "sneakers['Brand']= brand_name[:30]\n",
    "sneakers['Brand Description']=brand_description[:30]\n",
    "sneakers['Price']=price[:30]\n",
    "sneakers"
   ]
  },
  {
   "cell_type": "markdown",
   "id": "2744371a",
   "metadata": {},
   "source": [
    "Go to the link - https://www.myntra.com/shoes\n",
    "Set Price filter to “Rs. 7149 to Rs. 14099 ” , Color filter to “Black”, as shown inthe below image.\n",
    "And then scrape First 100 shoes data you get. The data should include “Brand” of the shoes , Short Shoe\n",
    "description, price of the shoe as shown in the below image."
   ]
  },
  {
   "cell_type": "code",
   "execution_count": 36,
   "id": "bd43ebe7",
   "metadata": {},
   "outputs": [],
   "source": [
    "driver= webdriver.Chrome(r'C:/Users/Harshita/Downloads/chromedriver_win32/chromedriver')"
   ]
  },
  {
   "cell_type": "code",
   "execution_count": 37,
   "id": "5684fd31",
   "metadata": {},
   "outputs": [],
   "source": [
    "url= 'https://www.myntra.com/shoes'\n",
    "driver.get(url)"
   ]
  },
  {
   "cell_type": "code",
   "execution_count": 38,
   "id": "8ca58185",
   "metadata": {},
   "outputs": [
    {
     "data": {
      "text/plain": [
       "<selenium.webdriver.remote.webelement.WebElement (session=\"b92c81c35475bf4cfb1a0057a9c43b3c\", element=\"80b57324-10ba-456b-a370-68b1a24ef077\")>"
      ]
     },
     "execution_count": 38,
     "metadata": {},
     "output_type": "execute_result"
    }
   ],
   "source": [
    "price_check= driver.find_element_by_xpath('/html/body/div[2]/div/div[1]/main/div[3]/div[1]/section/div/div[5]/ul/li[2]/label/div')\n",
    "price_check"
   ]
  },
  {
   "cell_type": "code",
   "execution_count": 39,
   "id": "36ad73bd",
   "metadata": {},
   "outputs": [],
   "source": [
    "price_check.click()"
   ]
  },
  {
   "cell_type": "code",
   "execution_count": 40,
   "id": "ba2f0806",
   "metadata": {},
   "outputs": [
    {
     "data": {
      "text/plain": [
       "<selenium.webdriver.remote.webelement.WebElement (session=\"b92c81c35475bf4cfb1a0057a9c43b3c\", element=\"80b57324-10ba-456b-a370-68b1a24ef077\")>"
      ]
     },
     "execution_count": 40,
     "metadata": {},
     "output_type": "execute_result"
    }
   ],
   "source": [
    "color_check= driver.find_element_by_xpath('/html/body/div[2]/div/div[1]/main/div[3]/div[1]/section/div/div[6]/ul/li[1]/label/div')\n",
    "price_check"
   ]
  },
  {
   "cell_type": "code",
   "execution_count": 41,
   "id": "e45c1521",
   "metadata": {},
   "outputs": [],
   "source": [
    "color_check.click()"
   ]
  },
  {
   "cell_type": "code",
   "execution_count": 42,
   "id": "947c9d95",
   "metadata": {},
   "outputs": [
    {
     "data": {
      "text/plain": [
       "[<selenium.webdriver.remote.webelement.WebElement (session=\"b92c81c35475bf4cfb1a0057a9c43b3c\", element=\"01eba34c-811e-4947-81e2-0fddf8a0af6f\")>,\n",
       " <selenium.webdriver.remote.webelement.WebElement (session=\"b92c81c35475bf4cfb1a0057a9c43b3c\", element=\"e4bf99b3-7507-4c28-a524-eace3fbe1b37\")>]"
      ]
     },
     "execution_count": 42,
     "metadata": {},
     "output_type": "execute_result"
    }
   ],
   "source": [
    "brand_tags= driver.find_elements_by_xpath('//h3[@class=\"product-brand\"]')\n",
    "brand_tags[:2]"
   ]
  },
  {
   "cell_type": "code",
   "execution_count": 43,
   "id": "fc377dee",
   "metadata": {},
   "outputs": [
    {
     "data": {
      "text/plain": [
       "['ALDO', 'Nike']"
      ]
     },
     "execution_count": 43,
     "metadata": {},
     "output_type": "execute_result"
    }
   ],
   "source": [
    "brand_name=[]\n",
    "for i in brand_tags:\n",
    "    brand_name.append(i.text)\n",
    "len(brand_name)\n",
    "brand_name[:2]"
   ]
  },
  {
   "cell_type": "code",
   "execution_count": 44,
   "id": "c003aec5",
   "metadata": {},
   "outputs": [
    {
     "data": {
      "text/plain": [
       "[<selenium.webdriver.remote.webelement.WebElement (session=\"b92c81c35475bf4cfb1a0057a9c43b3c\", element=\"ff7a1791-7b69-402c-aede-7f91dfd5eba0\")>,\n",
       " <selenium.webdriver.remote.webelement.WebElement (session=\"b92c81c35475bf4cfb1a0057a9c43b3c\", element=\"b678fa38-da49-405f-a231-643c31bbd435\")>]"
      ]
     },
     "execution_count": 44,
     "metadata": {},
     "output_type": "execute_result"
    }
   ],
   "source": [
    "description_tags= driver.find_elements_by_xpath('//h4[@class=\"product-product\"]')\n",
    "description_tags[:2]"
   ]
  },
  {
   "cell_type": "code",
   "execution_count": 45,
   "id": "f5df799f",
   "metadata": {},
   "outputs": [
    {
     "data": {
      "text/plain": [
       "['Men Printed Sneakers', 'Men Winflo 7 Running Shoes']"
      ]
     },
     "execution_count": 45,
     "metadata": {},
     "output_type": "execute_result"
    }
   ],
   "source": [
    "description=[]\n",
    "for i in description_tags:\n",
    "    description.append(i.text)\n",
    "len(description)\n",
    "description[:2]"
   ]
  },
  {
   "cell_type": "code",
   "execution_count": 46,
   "id": "93ea4e0a",
   "metadata": {},
   "outputs": [
    {
     "data": {
      "text/plain": [
       "[<selenium.webdriver.remote.webelement.WebElement (session=\"b92c81c35475bf4cfb1a0057a9c43b3c\", element=\"fcd40a92-7d38-4113-a684-b501f861ab66\")>,\n",
       " <selenium.webdriver.remote.webelement.WebElement (session=\"b92c81c35475bf4cfb1a0057a9c43b3c\", element=\"6105c2a2-fe06-4bdc-946c-0f1d0e0f9f7c\")>]"
      ]
     },
     "execution_count": 46,
     "metadata": {},
     "output_type": "execute_result"
    }
   ],
   "source": [
    "price_tags= driver.find_elements_by_xpath('//div[@class=\"product-price\"]')\n",
    "price_tags[:2]"
   ]
  },
  {
   "cell_type": "code",
   "execution_count": 47,
   "id": "437af770",
   "metadata": {},
   "outputs": [
    {
     "data": {
      "text/plain": [
       "['Rs. 9099Rs. 12999(30% OFF)', 'Rs. 7995']"
      ]
     },
     "execution_count": 47,
     "metadata": {},
     "output_type": "execute_result"
    }
   ],
   "source": [
    "prices=[]\n",
    "for i in price_tags:\n",
    "    prices.append(i.text)\n",
    "len(prices)\n",
    "prices[:2]"
   ]
  },
  {
   "cell_type": "code",
   "execution_count": 48,
   "id": "ac4556e7",
   "metadata": {},
   "outputs": [
    {
     "data": {
      "text/html": [
       "<div>\n",
       "<style scoped>\n",
       "    .dataframe tbody tr th:only-of-type {\n",
       "        vertical-align: middle;\n",
       "    }\n",
       "\n",
       "    .dataframe tbody tr th {\n",
       "        vertical-align: top;\n",
       "    }\n",
       "\n",
       "    .dataframe thead th {\n",
       "        text-align: right;\n",
       "    }\n",
       "</style>\n",
       "<table border=\"1\" class=\"dataframe\">\n",
       "  <thead>\n",
       "    <tr style=\"text-align: right;\">\n",
       "      <th></th>\n",
       "      <th>Brand Name</th>\n",
       "      <th>Description</th>\n",
       "      <th>Prices</th>\n",
       "    </tr>\n",
       "  </thead>\n",
       "  <tbody>\n",
       "    <tr>\n",
       "      <th>0</th>\n",
       "      <td>ALDO</td>\n",
       "      <td>Men Printed Sneakers</td>\n",
       "      <td>Rs. 9099Rs. 12999(30% OFF)</td>\n",
       "    </tr>\n",
       "    <tr>\n",
       "      <th>1</th>\n",
       "      <td>Nike</td>\n",
       "      <td>Men Winflo 7 Running Shoes</td>\n",
       "      <td>Rs. 7995</td>\n",
       "    </tr>\n",
       "    <tr>\n",
       "      <th>2</th>\n",
       "      <td>ALDO</td>\n",
       "      <td>Men Leather Driving Shoes</td>\n",
       "      <td>Rs. 12999</td>\n",
       "    </tr>\n",
       "    <tr>\n",
       "      <th>3</th>\n",
       "      <td>Puma</td>\n",
       "      <td>Electrify Nitro Running Shoes</td>\n",
       "      <td>Rs. 9999</td>\n",
       "    </tr>\n",
       "    <tr>\n",
       "      <th>4</th>\n",
       "      <td>ALDO</td>\n",
       "      <td>Men Woven Design Sneakers</td>\n",
       "      <td>Rs. 13999</td>\n",
       "    </tr>\n",
       "    <tr>\n",
       "      <th>5</th>\n",
       "      <td>Hush Puppies</td>\n",
       "      <td>Men Solid Leather Formal Slip-Ons</td>\n",
       "      <td>Rs. 7649Rs. 8999(Rs. 1350 OFF)</td>\n",
       "    </tr>\n",
       "    <tr>\n",
       "      <th>6</th>\n",
       "      <td>Puma</td>\n",
       "      <td>Men Jamming 2.0 Running Shoes</td>\n",
       "      <td>Rs. 12999</td>\n",
       "    </tr>\n",
       "    <tr>\n",
       "      <th>7</th>\n",
       "      <td>Bugatti</td>\n",
       "      <td>Men Solid Leather Formal Derbys</td>\n",
       "      <td>Rs. 9499</td>\n",
       "    </tr>\n",
       "    <tr>\n",
       "      <th>8</th>\n",
       "      <td>Nike</td>\n",
       "      <td>Men Air Max Dawn Sneakers</td>\n",
       "      <td>Rs. 10995</td>\n",
       "    </tr>\n",
       "    <tr>\n",
       "      <th>9</th>\n",
       "      <td>Puma</td>\n",
       "      <td>Men Training or Gym Shoes</td>\n",
       "      <td>Rs. 7999</td>\n",
       "    </tr>\n",
       "    <tr>\n",
       "      <th>10</th>\n",
       "      <td>Puma</td>\n",
       "      <td>Men FUSE Training Shoes</td>\n",
       "      <td>Rs. 7999</td>\n",
       "    </tr>\n",
       "    <tr>\n",
       "      <th>11</th>\n",
       "      <td>ASICS</td>\n",
       "      <td>Women Running Shoes</td>\n",
       "      <td>Rs. 7999</td>\n",
       "    </tr>\n",
       "    <tr>\n",
       "      <th>12</th>\n",
       "      <td>Skechers</td>\n",
       "      <td>Men Go Run Hyper Burst Running</td>\n",
       "      <td>Rs. 7224Rs. 8499(Rs. 1275 OFF)</td>\n",
       "    </tr>\n",
       "    <tr>\n",
       "      <th>13</th>\n",
       "      <td>Hush Puppies</td>\n",
       "      <td>Men Solid Leather Formal Slip-Ons</td>\n",
       "      <td>Rs. 8499Rs. 9999(Rs. 1500 OFF)</td>\n",
       "    </tr>\n",
       "    <tr>\n",
       "      <th>14</th>\n",
       "      <td>Hush Puppies</td>\n",
       "      <td>Men Formal Derbys</td>\n",
       "      <td>Rs. 8499Rs. 9999(Rs. 1500 OFF)</td>\n",
       "    </tr>\n",
       "    <tr>\n",
       "      <th>15</th>\n",
       "      <td>Hush Puppies</td>\n",
       "      <td>Men Solid Formal Slip-Ons</td>\n",
       "      <td>Rs. 8499Rs. 9999(Rs. 1500 OFF)</td>\n",
       "    </tr>\n",
       "    <tr>\n",
       "      <th>16</th>\n",
       "      <td>Tommy Hilfiger</td>\n",
       "      <td>Men Cleated Leather Sneakers</td>\n",
       "      <td>Rs. 7739Rs. 8599(10% OFF)</td>\n",
       "    </tr>\n",
       "    <tr>\n",
       "      <th>17</th>\n",
       "      <td>Saint G</td>\n",
       "      <td>Men Mid-Top Chelsea Boots</td>\n",
       "      <td>Rs. 10500Rs. 10900(Rs. 400 OFF)</td>\n",
       "    </tr>\n",
       "    <tr>\n",
       "      <th>18</th>\n",
       "      <td>MANGO</td>\n",
       "      <td>Women Solid Sneakers</td>\n",
       "      <td>Rs. 8990</td>\n",
       "    </tr>\n",
       "    <tr>\n",
       "      <th>19</th>\n",
       "      <td>J.FONTINI</td>\n",
       "      <td>Men Black Leather Loafers</td>\n",
       "      <td>Rs. 8490</td>\n",
       "    </tr>\n",
       "    <tr>\n",
       "      <th>20</th>\n",
       "      <td>Saint G</td>\n",
       "      <td>Women Leather Block Heels</td>\n",
       "      <td>Rs. 9500</td>\n",
       "    </tr>\n",
       "    <tr>\n",
       "      <th>21</th>\n",
       "      <td>Puma</td>\n",
       "      <td>Women Velocity NITRO Runners</td>\n",
       "      <td>Rs. 8249Rs. 10999(25% OFF)</td>\n",
       "    </tr>\n",
       "    <tr>\n",
       "      <th>22</th>\n",
       "      <td>Sole To Soul</td>\n",
       "      <td>Women Block Heeled Boots</td>\n",
       "      <td>Rs. 8900</td>\n",
       "    </tr>\n",
       "    <tr>\n",
       "      <th>23</th>\n",
       "      <td>TRIBAN By Decathlon</td>\n",
       "      <td>Unisex Training or Gym Shoes</td>\n",
       "      <td>Rs. 8579Rs. 10999(22% OFF)</td>\n",
       "    </tr>\n",
       "    <tr>\n",
       "      <th>24</th>\n",
       "      <td>Puma</td>\n",
       "      <td>Women Eternity NITRO Shoes</td>\n",
       "      <td>Rs. 9099Rs. 12999(30% OFF)</td>\n",
       "    </tr>\n",
       "    <tr>\n",
       "      <th>25</th>\n",
       "      <td>Hush Puppies</td>\n",
       "      <td>Men Solid Leather Formal Derbys</td>\n",
       "      <td>Rs. 8499Rs. 9999(Rs. 1500 OFF)</td>\n",
       "    </tr>\n",
       "    <tr>\n",
       "      <th>26</th>\n",
       "      <td>Tommy Hilfiger</td>\n",
       "      <td>Women CLEAT Textured Sneakers</td>\n",
       "      <td>Rs. 7739Rs. 8599(Rs. 860 OFF)</td>\n",
       "    </tr>\n",
       "    <tr>\n",
       "      <th>27</th>\n",
       "      <td>Bugatti</td>\n",
       "      <td>Men Textured Leather High-Top Flat Boots</td>\n",
       "      <td>Rs. 8399Rs. 11999(Rs. 3600 OFF)</td>\n",
       "    </tr>\n",
       "    <tr>\n",
       "      <th>28</th>\n",
       "      <td>Tommy Hilfiger</td>\n",
       "      <td>Leather Sandals</td>\n",
       "      <td>Rs. 7599</td>\n",
       "    </tr>\n",
       "    <tr>\n",
       "      <th>29</th>\n",
       "      <td>Heel &amp; Buckle London</td>\n",
       "      <td>Men Suede Loafers</td>\n",
       "      <td>Rs. 12990</td>\n",
       "    </tr>\n",
       "    <tr>\n",
       "      <th>30</th>\n",
       "      <td>Geox</td>\n",
       "      <td>Men Leather Driving Shoes</td>\n",
       "      <td>Rs. 9499</td>\n",
       "    </tr>\n",
       "    <tr>\n",
       "      <th>31</th>\n",
       "      <td>J.FONTINI</td>\n",
       "      <td>Men Textured Leather Loafers</td>\n",
       "      <td>Rs. 8490</td>\n",
       "    </tr>\n",
       "    <tr>\n",
       "      <th>32</th>\n",
       "      <td>ALDO</td>\n",
       "      <td>Wedge Sandals</td>\n",
       "      <td>Rs. 7999</td>\n",
       "    </tr>\n",
       "    <tr>\n",
       "      <th>33</th>\n",
       "      <td>ALDO</td>\n",
       "      <td>Leather Slim Heels</td>\n",
       "      <td>Rs. 8399Rs. 11999(30% OFF)</td>\n",
       "    </tr>\n",
       "    <tr>\n",
       "      <th>34</th>\n",
       "      <td>ALDO</td>\n",
       "      <td>Wedge Sandals</td>\n",
       "      <td>Rs. 7999</td>\n",
       "    </tr>\n",
       "    <tr>\n",
       "      <th>35</th>\n",
       "      <td>J.FONTINI</td>\n",
       "      <td>Men Textured Leather Loafers</td>\n",
       "      <td>Rs. 7990</td>\n",
       "    </tr>\n",
       "    <tr>\n",
       "      <th>36</th>\n",
       "      <td>MANGO</td>\n",
       "      <td>Women Heeled Leather Loafers</td>\n",
       "      <td>Rs. 7990</td>\n",
       "    </tr>\n",
       "    <tr>\n",
       "      <th>37</th>\n",
       "      <td>DAVINCHI</td>\n",
       "      <td>Men Textured Formal Leather Loafers</td>\n",
       "      <td>Rs. 8990</td>\n",
       "    </tr>\n",
       "    <tr>\n",
       "      <th>38</th>\n",
       "      <td>DAVINCHI</td>\n",
       "      <td>Men Textured Formal Leather Loafers</td>\n",
       "      <td>Rs. 8990</td>\n",
       "    </tr>\n",
       "    <tr>\n",
       "      <th>39</th>\n",
       "      <td>Sole To Soul</td>\n",
       "      <td>High-Top Block Heeled Boots</td>\n",
       "      <td>Rs. 7900</td>\n",
       "    </tr>\n",
       "    <tr>\n",
       "      <th>40</th>\n",
       "      <td>Sole To Soul</td>\n",
       "      <td>Suede High-Top Block Heeled Boots</td>\n",
       "      <td>Rs. 9500</td>\n",
       "    </tr>\n",
       "    <tr>\n",
       "      <th>41</th>\n",
       "      <td>Geox</td>\n",
       "      <td>Women Leather Pumps</td>\n",
       "      <td>Rs. 8999</td>\n",
       "    </tr>\n",
       "    <tr>\n",
       "      <th>42</th>\n",
       "      <td>ROSSO BRUNELLO</td>\n",
       "      <td>Printed PU Kitten Sandals</td>\n",
       "      <td>Rs. 8499</td>\n",
       "    </tr>\n",
       "    <tr>\n",
       "      <th>43</th>\n",
       "      <td>Sole To Soul</td>\n",
       "      <td>High-Top Platform Heeled Boots</td>\n",
       "      <td>Rs. 8900</td>\n",
       "    </tr>\n",
       "    <tr>\n",
       "      <th>44</th>\n",
       "      <td>Bugatti</td>\n",
       "      <td>Men Solid Formal Oxfords</td>\n",
       "      <td>Rs. 8999</td>\n",
       "    </tr>\n",
       "    <tr>\n",
       "      <th>45</th>\n",
       "      <td>Heel &amp; Buckle London</td>\n",
       "      <td>Men Formal Leather Derby</td>\n",
       "      <td>Rs. 7990</td>\n",
       "    </tr>\n",
       "    <tr>\n",
       "      <th>46</th>\n",
       "      <td>DAVINCHI</td>\n",
       "      <td>Solid Slip On Shoes</td>\n",
       "      <td>Rs. 7990</td>\n",
       "    </tr>\n",
       "    <tr>\n",
       "      <th>47</th>\n",
       "      <td>ROSSO BRUNELLO</td>\n",
       "      <td>PU Block Pumps with Buckles</td>\n",
       "      <td>Rs. 7999</td>\n",
       "    </tr>\n",
       "    <tr>\n",
       "      <th>48</th>\n",
       "      <td>fitflop</td>\n",
       "      <td>Embellished Leather Flatform Sandals</td>\n",
       "      <td>Rs. 8299</td>\n",
       "    </tr>\n",
       "    <tr>\n",
       "      <th>49</th>\n",
       "      <td>ROSSO BRUNELLO</td>\n",
       "      <td>Textured PU Block Pumps</td>\n",
       "      <td>Rs. 7999</td>\n",
       "    </tr>\n",
       "  </tbody>\n",
       "</table>\n",
       "</div>"
      ],
      "text/plain": [
       "              Brand Name                               Description  \\\n",
       "0                   ALDO                      Men Printed Sneakers   \n",
       "1                   Nike                Men Winflo 7 Running Shoes   \n",
       "2                   ALDO                 Men Leather Driving Shoes   \n",
       "3                   Puma             Electrify Nitro Running Shoes   \n",
       "4                   ALDO                 Men Woven Design Sneakers   \n",
       "5           Hush Puppies         Men Solid Leather Formal Slip-Ons   \n",
       "6                   Puma             Men Jamming 2.0 Running Shoes   \n",
       "7                Bugatti           Men Solid Leather Formal Derbys   \n",
       "8                   Nike                 Men Air Max Dawn Sneakers   \n",
       "9                   Puma                 Men Training or Gym Shoes   \n",
       "10                  Puma                   Men FUSE Training Shoes   \n",
       "11                 ASICS                       Women Running Shoes   \n",
       "12              Skechers            Men Go Run Hyper Burst Running   \n",
       "13          Hush Puppies         Men Solid Leather Formal Slip-Ons   \n",
       "14          Hush Puppies                         Men Formal Derbys   \n",
       "15          Hush Puppies                 Men Solid Formal Slip-Ons   \n",
       "16        Tommy Hilfiger              Men Cleated Leather Sneakers   \n",
       "17               Saint G                 Men Mid-Top Chelsea Boots   \n",
       "18                 MANGO                      Women Solid Sneakers   \n",
       "19             J.FONTINI                 Men Black Leather Loafers   \n",
       "20               Saint G                 Women Leather Block Heels   \n",
       "21                  Puma              Women Velocity NITRO Runners   \n",
       "22          Sole To Soul                  Women Block Heeled Boots   \n",
       "23   TRIBAN By Decathlon              Unisex Training or Gym Shoes   \n",
       "24                  Puma                Women Eternity NITRO Shoes   \n",
       "25          Hush Puppies           Men Solid Leather Formal Derbys   \n",
       "26        Tommy Hilfiger             Women CLEAT Textured Sneakers   \n",
       "27               Bugatti  Men Textured Leather High-Top Flat Boots   \n",
       "28        Tommy Hilfiger                           Leather Sandals   \n",
       "29  Heel & Buckle London                         Men Suede Loafers   \n",
       "30                  Geox                 Men Leather Driving Shoes   \n",
       "31             J.FONTINI              Men Textured Leather Loafers   \n",
       "32                  ALDO                             Wedge Sandals   \n",
       "33                  ALDO                        Leather Slim Heels   \n",
       "34                  ALDO                             Wedge Sandals   \n",
       "35             J.FONTINI              Men Textured Leather Loafers   \n",
       "36                 MANGO              Women Heeled Leather Loafers   \n",
       "37              DAVINCHI       Men Textured Formal Leather Loafers   \n",
       "38              DAVINCHI       Men Textured Formal Leather Loafers   \n",
       "39          Sole To Soul               High-Top Block Heeled Boots   \n",
       "40          Sole To Soul         Suede High-Top Block Heeled Boots   \n",
       "41                  Geox                       Women Leather Pumps   \n",
       "42        ROSSO BRUNELLO                 Printed PU Kitten Sandals   \n",
       "43          Sole To Soul            High-Top Platform Heeled Boots   \n",
       "44               Bugatti                  Men Solid Formal Oxfords   \n",
       "45  Heel & Buckle London                  Men Formal Leather Derby   \n",
       "46              DAVINCHI                       Solid Slip On Shoes   \n",
       "47        ROSSO BRUNELLO               PU Block Pumps with Buckles   \n",
       "48               fitflop      Embellished Leather Flatform Sandals   \n",
       "49        ROSSO BRUNELLO                   Textured PU Block Pumps   \n",
       "\n",
       "                             Prices  \n",
       "0        Rs. 9099Rs. 12999(30% OFF)  \n",
       "1                          Rs. 7995  \n",
       "2                         Rs. 12999  \n",
       "3                          Rs. 9999  \n",
       "4                         Rs. 13999  \n",
       "5    Rs. 7649Rs. 8999(Rs. 1350 OFF)  \n",
       "6                         Rs. 12999  \n",
       "7                          Rs. 9499  \n",
       "8                         Rs. 10995  \n",
       "9                          Rs. 7999  \n",
       "10                         Rs. 7999  \n",
       "11                         Rs. 7999  \n",
       "12   Rs. 7224Rs. 8499(Rs. 1275 OFF)  \n",
       "13   Rs. 8499Rs. 9999(Rs. 1500 OFF)  \n",
       "14   Rs. 8499Rs. 9999(Rs. 1500 OFF)  \n",
       "15   Rs. 8499Rs. 9999(Rs. 1500 OFF)  \n",
       "16        Rs. 7739Rs. 8599(10% OFF)  \n",
       "17  Rs. 10500Rs. 10900(Rs. 400 OFF)  \n",
       "18                         Rs. 8990  \n",
       "19                         Rs. 8490  \n",
       "20                         Rs. 9500  \n",
       "21       Rs. 8249Rs. 10999(25% OFF)  \n",
       "22                         Rs. 8900  \n",
       "23       Rs. 8579Rs. 10999(22% OFF)  \n",
       "24       Rs. 9099Rs. 12999(30% OFF)  \n",
       "25   Rs. 8499Rs. 9999(Rs. 1500 OFF)  \n",
       "26    Rs. 7739Rs. 8599(Rs. 860 OFF)  \n",
       "27  Rs. 8399Rs. 11999(Rs. 3600 OFF)  \n",
       "28                         Rs. 7599  \n",
       "29                        Rs. 12990  \n",
       "30                         Rs. 9499  \n",
       "31                         Rs. 8490  \n",
       "32                         Rs. 7999  \n",
       "33       Rs. 8399Rs. 11999(30% OFF)  \n",
       "34                         Rs. 7999  \n",
       "35                         Rs. 7990  \n",
       "36                         Rs. 7990  \n",
       "37                         Rs. 8990  \n",
       "38                         Rs. 8990  \n",
       "39                         Rs. 7900  \n",
       "40                         Rs. 9500  \n",
       "41                         Rs. 8999  \n",
       "42                         Rs. 8499  \n",
       "43                         Rs. 8900  \n",
       "44                         Rs. 8999  \n",
       "45                         Rs. 7990  \n",
       "46                         Rs. 7990  \n",
       "47                         Rs. 7999  \n",
       "48                         Rs. 8299  \n",
       "49                         Rs. 7999  "
      ]
     },
     "execution_count": 48,
     "metadata": {},
     "output_type": "execute_result"
    }
   ],
   "source": [
    "shoes= pd.DataFrame()\n",
    "shoes['Brand Name']= brand_name[:100]\n",
    "shoes['Description']=description[:100]\n",
    "shoes['Prices']=prices[:100]\n",
    "shoes"
   ]
  },
  {
   "cell_type": "markdown",
   "id": "a94027cd",
   "metadata": {},
   "source": [
    "Go to webpage https://www.amazon.in/\n",
    "Enter “Laptop” in the search field and then click the search icon.\n",
    "Then set CPU Type filter to “Intel Core i7” and “Intel Core i9” as shown in the below image:\n",
    "After setting the filters scrape first 10 laptops data. You have to scrape 3 attributesfor each laptop:\n",
    "1. Title\n",
    "2. Ratings\n",
    "3. Price\n",
    "As shown in the below image as the tick marked attributes."
   ]
  },
  {
   "cell_type": "code",
   "execution_count": 49,
   "id": "35a62b2a",
   "metadata": {},
   "outputs": [],
   "source": [
    "driver= webdriver.Chrome(r'C:/Users/Harshita/Downloads/chromedriver_win32/chromedriver')"
   ]
  },
  {
   "cell_type": "code",
   "execution_count": 50,
   "id": "0a0e1644",
   "metadata": {},
   "outputs": [],
   "source": [
    "url= 'https://www.amazon.in/'\n",
    "driver.get(url)"
   ]
  },
  {
   "cell_type": "code",
   "execution_count": 59,
   "id": "b06b928b",
   "metadata": {},
   "outputs": [
    {
     "data": {
      "text/plain": [
       "<selenium.webdriver.remote.webelement.WebElement (session=\"04a91bd56e38e6e1ceb3eae41279afe2\", element=\"ab78d59c-a24b-4f42-898b-a680d3a62bf6\")>"
      ]
     },
     "execution_count": 59,
     "metadata": {},
     "output_type": "execute_result"
    }
   ],
   "source": [
    "search_laptop= driver.find_element_by_class_name('nav-search-field ')\n",
    "search_laptop"
   ]
  },
  {
   "cell_type": "code",
   "execution_count": 63,
   "id": "de82da86",
   "metadata": {},
   "outputs": [
    {
     "data": {
      "text/plain": [
       "<selenium.webdriver.remote.webelement.WebElement (session=\"04a91bd56e38e6e1ceb3eae41279afe2\", element=\"4b11bad2-e01c-4316-8122-71461d03cf55\")>"
      ]
     },
     "execution_count": 63,
     "metadata": {},
     "output_type": "execute_result"
    }
   ],
   "source": [
    "cpu_check= driver.find_element_by_xpath('/html/body/div[1]/div[2]/div[1]/div[2]/div/div[3]/span/div[1]/div/div/div[6]/ul[5]/li[12]/span/a/div/label/i')\n",
    "cpu_check"
   ]
  },
  {
   "cell_type": "code",
   "execution_count": 64,
   "id": "8871c540",
   "metadata": {},
   "outputs": [],
   "source": [
    "cpu_check.click()"
   ]
  },
  {
   "cell_type": "code",
   "execution_count": 65,
   "id": "43ac77da",
   "metadata": {},
   "outputs": [
    {
     "data": {
      "text/plain": [
       "[<selenium.webdriver.remote.webelement.WebElement (session=\"04a91bd56e38e6e1ceb3eae41279afe2\", element=\"9c5004e9-8eb1-440b-b396-4df407d47a9d\")>,\n",
       " <selenium.webdriver.remote.webelement.WebElement (session=\"04a91bd56e38e6e1ceb3eae41279afe2\", element=\"29d89452-e010-4205-ae2d-472f8c9cc2a7\")>]"
      ]
     },
     "execution_count": 65,
     "metadata": {},
     "output_type": "execute_result"
    }
   ],
   "source": [
    "title_tags= driver.find_elements_by_xpath('//span[@class=\"a-size-medium a-color-base a-text-normal\"]')\n",
    "title_tags[:2]"
   ]
  },
  {
   "cell_type": "code",
   "execution_count": 66,
   "id": "07c628a0",
   "metadata": {},
   "outputs": [
    {
     "data": {
      "text/plain": [
       "['Fujitsu UH-X 11th Gen Intel Core i7 13.3” FHD IPS 400Nits Thin & Light Laptop(16GB/512GB SSD/Windows 11/Office 2021/Iris Xe Graphics/Backlit Kb/Fingerprint Reader/2Yr Warranty/Black/878gms),4ZR1F38024',\n",
       " 'LG Gram Intel Evo 11th Gen Core i7 17 inches Ultra-Light Laptop (16 GB RAM, 512 GB SSD, New Windows 11 Home Preload, Iris Xe Graphics, USC -C x 2 (with Power), 1.35 kg, 17Z90P-G.AH85A2, Black)']"
      ]
     },
     "execution_count": 66,
     "metadata": {},
     "output_type": "execute_result"
    }
   ],
   "source": [
    "title_name=[]\n",
    "for i in title_tags:\n",
    "    title_name.append(i.text)\n",
    "len(title_name)\n",
    "title_name[:2]"
   ]
  },
  {
   "cell_type": "code",
   "execution_count": 67,
   "id": "9412895a",
   "metadata": {},
   "outputs": [
    {
     "data": {
      "text/plain": [
       "[<selenium.webdriver.remote.webelement.WebElement (session=\"04a91bd56e38e6e1ceb3eae41279afe2\", element=\"d517169d-e83d-4e63-839a-d985329be55a\")>,\n",
       " <selenium.webdriver.remote.webelement.WebElement (session=\"04a91bd56e38e6e1ceb3eae41279afe2\", element=\"9988319e-aaa8-4bce-8e67-1a24a0c4cfac\")>]"
      ]
     },
     "execution_count": 67,
     "metadata": {},
     "output_type": "execute_result"
    }
   ],
   "source": [
    "rating_tags= driver.find_elements_by_xpath('//span[@class=\"a-size-base s-underline-text\"]')\n",
    "rating_tags[:2]"
   ]
  },
  {
   "cell_type": "code",
   "execution_count": 68,
   "id": "da7be948",
   "metadata": {},
   "outputs": [
    {
     "data": {
      "text/plain": [
       "['39', '140']"
      ]
     },
     "execution_count": 68,
     "metadata": {},
     "output_type": "execute_result"
    }
   ],
   "source": [
    "ratings=[]\n",
    "for i in rating_tags:\n",
    "    ratings.append(i.text)\n",
    "len(ratings)\n",
    "ratings[:2]"
   ]
  },
  {
   "cell_type": "code",
   "execution_count": 69,
   "id": "535f3f1e",
   "metadata": {},
   "outputs": [
    {
     "data": {
      "text/plain": [
       "[<selenium.webdriver.remote.webelement.WebElement (session=\"04a91bd56e38e6e1ceb3eae41279afe2\", element=\"41aaa45d-ba54-423c-9e9c-a10b0d0a92ab\")>,\n",
       " <selenium.webdriver.remote.webelement.WebElement (session=\"04a91bd56e38e6e1ceb3eae41279afe2\", element=\"e05b4800-7a87-4302-bd80-1db94c5d411f\")>]"
      ]
     },
     "execution_count": 69,
     "metadata": {},
     "output_type": "execute_result"
    }
   ],
   "source": [
    "price_tags= driver.find_elements_by_xpath('//span[@class=\"a-price-whole\"]')\n",
    "price_tags[:2]"
   ]
  },
  {
   "cell_type": "code",
   "execution_count": 70,
   "id": "ac50901d",
   "metadata": {},
   "outputs": [
    {
     "data": {
      "text/plain": [
       "['83,990', '96,999']"
      ]
     },
     "execution_count": 70,
     "metadata": {},
     "output_type": "execute_result"
    }
   ],
   "source": [
    "pricing=[]\n",
    "for i in price_tags:\n",
    "    pricing.append(i.text)\n",
    "len(pricing)\n",
    "pricing[:2]"
   ]
  },
  {
   "cell_type": "code",
   "execution_count": 71,
   "id": "9f5f0931",
   "metadata": {},
   "outputs": [
    {
     "data": {
      "text/html": [
       "<div>\n",
       "<style scoped>\n",
       "    .dataframe tbody tr th:only-of-type {\n",
       "        vertical-align: middle;\n",
       "    }\n",
       "\n",
       "    .dataframe tbody tr th {\n",
       "        vertical-align: top;\n",
       "    }\n",
       "\n",
       "    .dataframe thead th {\n",
       "        text-align: right;\n",
       "    }\n",
       "</style>\n",
       "<table border=\"1\" class=\"dataframe\">\n",
       "  <thead>\n",
       "    <tr style=\"text-align: right;\">\n",
       "      <th></th>\n",
       "      <th>Title Name</th>\n",
       "      <th>Prices</th>\n",
       "    </tr>\n",
       "  </thead>\n",
       "  <tbody>\n",
       "    <tr>\n",
       "      <th>0</th>\n",
       "      <td>Fujitsu UH-X 11th Gen Intel Core i7 13.3” FHD ...</td>\n",
       "      <td>83,990</td>\n",
       "    </tr>\n",
       "    <tr>\n",
       "      <th>1</th>\n",
       "      <td>LG Gram Intel Evo 11th Gen Core i7 17 inches U...</td>\n",
       "      <td>96,999</td>\n",
       "    </tr>\n",
       "    <tr>\n",
       "      <th>2</th>\n",
       "      <td>ASUS VivoBook 14 (2021), 14-inch (35.56 cms) F...</td>\n",
       "      <td>57,490</td>\n",
       "    </tr>\n",
       "    <tr>\n",
       "      <th>3</th>\n",
       "      <td>Mi Notebook Ultra 3.2K Resolution Display Inte...</td>\n",
       "      <td>77,499</td>\n",
       "    </tr>\n",
       "    <tr>\n",
       "      <th>4</th>\n",
       "      <td>LG Gram Intel Evo 11th Gen Core i7 17 inches U...</td>\n",
       "      <td>96,999</td>\n",
       "    </tr>\n",
       "    <tr>\n",
       "      <th>5</th>\n",
       "      <td>LG Gram 16 inches Intel Evo 11th Gen Core i7 U...</td>\n",
       "      <td>89,999</td>\n",
       "    </tr>\n",
       "    <tr>\n",
       "      <th>6</th>\n",
       "      <td>ASUS TUF Gaming F15 (2021), 15.6\" (39.62 cms) ...</td>\n",
       "      <td>89,990</td>\n",
       "    </tr>\n",
       "    <tr>\n",
       "      <th>7</th>\n",
       "      <td>ASUS ZenBook 13 OLED (2021) Intel Core i7-1165...</td>\n",
       "      <td>92,900</td>\n",
       "    </tr>\n",
       "    <tr>\n",
       "      <th>8</th>\n",
       "      <td>Lenovo ThinkBook 13s Intel 11th Gen Core i7 13...</td>\n",
       "      <td>89,990</td>\n",
       "    </tr>\n",
       "  </tbody>\n",
       "</table>\n",
       "</div>"
      ],
      "text/plain": [
       "                                          Title Name  Prices\n",
       "0  Fujitsu UH-X 11th Gen Intel Core i7 13.3” FHD ...  83,990\n",
       "1  LG Gram Intel Evo 11th Gen Core i7 17 inches U...  96,999\n",
       "2  ASUS VivoBook 14 (2021), 14-inch (35.56 cms) F...  57,490\n",
       "3  Mi Notebook Ultra 3.2K Resolution Display Inte...  77,499\n",
       "4  LG Gram Intel Evo 11th Gen Core i7 17 inches U...  96,999\n",
       "5  LG Gram 16 inches Intel Evo 11th Gen Core i7 U...  89,999\n",
       "6  ASUS TUF Gaming F15 (2021), 15.6\" (39.62 cms) ...  89,990\n",
       "7  ASUS ZenBook 13 OLED (2021) Intel Core i7-1165...  92,900\n",
       "8  Lenovo ThinkBook 13s Intel 11th Gen Core i7 13...  89,990"
      ]
     },
     "execution_count": 71,
     "metadata": {},
     "output_type": "execute_result"
    }
   ],
   "source": [
    "laptops= pd.DataFrame()\n",
    "laptops['Title Name']= title_name[:9]\n",
    "laptops['Prices']=pricing[:9]\n",
    "laptops"
   ]
  },
  {
   "cell_type": "markdown",
   "id": "fe07dbcc",
   "metadata": {},
   "source": [
    "Write a python program to scrape data for first 10 job results for Data Scientist Designation in Noida\n",
    "location. You have to scrape company name, No. of days ago when job was posted, Rating of the company.\n",
    "This task will be done in following steps:\n",
    "1. First get the webpage https://www.ambitionbox.com/\n",
    "2. Click on the Job option as shown in the image\n",
    "3. After reaching to the next webpage, In place of “Search by Designations, Companies, Skills” enter\n",
    "“Data Scientist” and click on search button.\n",
    "4. You will reach to the following web page click on location and in place of “Search location” enter\n",
    "“Noida” and select location “Noida”.\n",
    "5. Then scrape the data for the first 10 jobs results you get on the above shown page.\n",
    "6. Finally create a dataframe of the scraped data."
   ]
  },
  {
   "cell_type": "code",
   "execution_count": 115,
   "id": "42eaee8d",
   "metadata": {},
   "outputs": [],
   "source": [
    "driver= webdriver.Chrome(r'C:/Users/Harshita/Downloads/chromedriver_win32/chromedriver')"
   ]
  },
  {
   "cell_type": "code",
   "execution_count": 117,
   "id": "487a99fa",
   "metadata": {},
   "outputs": [],
   "source": [
    "url= 'https://www.ambitionbox.com/'\n",
    "driver.get(url)"
   ]
  },
  {
   "cell_type": "code",
   "execution_count": 74,
   "id": "400b60e9",
   "metadata": {},
   "outputs": [
    {
     "data": {
      "text/plain": [
       "<selenium.webdriver.remote.webelement.WebElement (session=\"71244f8d6d9aeaa56e3db467490d220a\", element=\"bb97ddbf-9dd2-405b-a3cc-46c3e2fda388\")>"
      ]
     },
     "execution_count": 74,
     "metadata": {},
     "output_type": "execute_result"
    }
   ],
   "source": [
    "search_job= driver.find_element_by_class_name('link.jobs')\n",
    "search_job "
   ]
  },
  {
   "cell_type": "code",
   "execution_count": 75,
   "id": "c0d905c2",
   "metadata": {},
   "outputs": [],
   "source": [
    "search_job.click()"
   ]
  },
  {
   "cell_type": "code",
   "execution_count": 76,
   "id": "5e178787",
   "metadata": {},
   "outputs": [
    {
     "data": {
      "text/plain": [
       "<selenium.webdriver.remote.webelement.WebElement (session=\"71244f8d6d9aeaa56e3db467490d220a\", element=\"95549bf2-f3d6-42f4-b640-9ffc06b56114\")>"
      ]
     },
     "execution_count": 76,
     "metadata": {},
     "output_type": "execute_result"
    }
   ],
   "source": [
    "search_position= driver.find_element_by_xpath('/html/body/div/div/div/div[2]/div[1]/div/div/div/div/span/input')\n",
    "search_position"
   ]
  },
  {
   "cell_type": "code",
   "execution_count": 88,
   "id": "46ede2a3",
   "metadata": {},
   "outputs": [],
   "source": [
    "search_position.send_keys('Data Scientist')"
   ]
  },
  {
   "cell_type": "code",
   "execution_count": 89,
   "id": "4855c4ad",
   "metadata": {},
   "outputs": [],
   "source": [
    "search_position.click()"
   ]
  },
  {
   "cell_type": "code",
   "execution_count": 107,
   "id": "d42b93ac",
   "metadata": {},
   "outputs": [
    {
     "data": {
      "text/plain": [
       "[<selenium.webdriver.remote.webelement.WebElement (session=\"71244f8d6d9aeaa56e3db467490d220a\", element=\"86cc8741-86d1-4ece-a695-fc3ec0ff1554\")>,\n",
       " <selenium.webdriver.remote.webelement.WebElement (session=\"71244f8d6d9aeaa56e3db467490d220a\", element=\"12df5da9-0aa9-4394-ad23-bf7a92a14749\")>]"
      ]
     },
     "execution_count": 107,
     "metadata": {},
     "output_type": "execute_result"
    }
   ],
   "source": [
    "name_tags= driver.find_elements_by_xpath('//a[@class=\"title noclick\"]')\n",
    "name_tags[:2]"
   ]
  },
  {
   "cell_type": "code",
   "execution_count": 113,
   "id": "c0548ad1",
   "metadata": {},
   "outputs": [
    {
     "data": {
      "text/plain": [
       "['Excellent Opportunity For Freshers For AI/ML, Data Scientist, BI, QA',\n",
       " \"HCL Hiring Data Scientist (Loc: Noida / Chennai / B'lore)\"]"
      ]
     },
     "execution_count": 113,
     "metadata": {},
     "output_type": "execute_result"
    }
   ],
   "source": [
    "names=[]\n",
    "for i in name_tags:\n",
    "    names.append(i.text)\n",
    "len(names)\n",
    "names[:2]"
   ]
  },
  {
   "cell_type": "code",
   "execution_count": 102,
   "id": "14bc6ecb",
   "metadata": {},
   "outputs": [
    {
     "data": {
      "text/plain": [
       "[<selenium.webdriver.remote.webelement.WebElement (session=\"71244f8d6d9aeaa56e3db467490d220a\", element=\"ccd6c3aa-616a-4786-8e66-507667750ac1\")>,\n",
       " <selenium.webdriver.remote.webelement.WebElement (session=\"71244f8d6d9aeaa56e3db467490d220a\", element=\"e0f39190-dbef-4843-9b20-802b436d6ca5\")>]"
      ]
     },
     "execution_count": 102,
     "metadata": {},
     "output_type": "execute_result"
    }
   ],
   "source": [
    "day_tags= driver.find_elements_by_xpath('//span[@class=\"body-small-l\"]')\n",
    "day_tags[:2]"
   ]
  },
  {
   "cell_type": "code",
   "execution_count": 103,
   "id": "763abd7a",
   "metadata": {},
   "outputs": [
    {
     "data": {
      "text/plain": [
       "['10d ago', 'via naukri.com']"
      ]
     },
     "execution_count": 103,
     "metadata": {},
     "output_type": "execute_result"
    }
   ],
   "source": [
    "days=[]\n",
    "for i in day_tags:\n",
    "    days.append(i.text)\n",
    "len(days)\n",
    "days[:2]"
   ]
  },
  {
   "cell_type": "code",
   "execution_count": 118,
   "id": "dc1f8660",
   "metadata": {},
   "outputs": [
    {
     "data": {
      "text/plain": [
       "[<selenium.webdriver.remote.webelement.WebElement (session=\"0c0fa710b812f2c753df6f15228d95f0\", element=\"a422bca9-879f-4b8e-b959-91734280fe46\")>,\n",
       " <selenium.webdriver.remote.webelement.WebElement (session=\"0c0fa710b812f2c753df6f15228d95f0\", element=\"dd9489fb-702b-4921-ac07-385ecc509db3\")>]"
      ]
     },
     "execution_count": 118,
     "metadata": {},
     "output_type": "execute_result"
    }
   ],
   "source": [
    "rating_tags= driver.find_elements_by_xpath('//span[@class=\"body-small\"]')\n",
    "rating_tags[:2]"
   ]
  },
  {
   "cell_type": "code",
   "execution_count": 119,
   "id": "4d7f814a",
   "metadata": {},
   "outputs": [
    {
     "data": {
      "text/plain": [
       "['4.3', '4.3']"
      ]
     },
     "execution_count": 119,
     "metadata": {},
     "output_type": "execute_result"
    }
   ],
   "source": [
    "ratings=[]\n",
    "for i in rating_tags:\n",
    "    ratings.append(i.text)\n",
    "len(ratings)\n",
    "ratings[:2]"
   ]
  },
  {
   "cell_type": "code",
   "execution_count": 121,
   "id": "f1767cf9",
   "metadata": {},
   "outputs": [
    {
     "data": {
      "text/html": [
       "<div>\n",
       "<style scoped>\n",
       "    .dataframe tbody tr th:only-of-type {\n",
       "        vertical-align: middle;\n",
       "    }\n",
       "\n",
       "    .dataframe tbody tr th {\n",
       "        vertical-align: top;\n",
       "    }\n",
       "\n",
       "    .dataframe thead th {\n",
       "        text-align: right;\n",
       "    }\n",
       "</style>\n",
       "<table border=\"1\" class=\"dataframe\">\n",
       "  <thead>\n",
       "    <tr style=\"text-align: right;\">\n",
       "      <th></th>\n",
       "      <th>Company Names</th>\n",
       "      <th>No of Days ago add was posted</th>\n",
       "      <th>Ratings</th>\n",
       "    </tr>\n",
       "  </thead>\n",
       "  <tbody>\n",
       "    <tr>\n",
       "      <th>0</th>\n",
       "      <td>Excellent Opportunity For Freshers For AI/ML, ...</td>\n",
       "      <td>10d ago</td>\n",
       "      <td>4.3</td>\n",
       "    </tr>\n",
       "    <tr>\n",
       "      <th>1</th>\n",
       "      <td>HCL Hiring Data Scientist (Loc: Noida / Chenna...</td>\n",
       "      <td>via naukri.com</td>\n",
       "      <td>4.3</td>\n",
       "    </tr>\n",
       "    <tr>\n",
       "      <th>2</th>\n",
       "      <td>Data Scientist</td>\n",
       "      <td>11d ago</td>\n",
       "      <td>4.1</td>\n",
       "    </tr>\n",
       "    <tr>\n",
       "      <th>3</th>\n",
       "      <td>Data Scientist-II</td>\n",
       "      <td>via naukri.com</td>\n",
       "      <td>4.1</td>\n",
       "    </tr>\n",
       "    <tr>\n",
       "      <th>4</th>\n",
       "      <td>HCL Tech Opening - Senior Data Scientist</td>\n",
       "      <td>11d ago</td>\n",
       "      <td>4.1</td>\n",
       "    </tr>\n",
       "    <tr>\n",
       "      <th>5</th>\n",
       "      <td>Data Scientist</td>\n",
       "      <td>via naukri.com</td>\n",
       "      <td>4.1</td>\n",
       "    </tr>\n",
       "    <tr>\n",
       "      <th>6</th>\n",
       "      <td>Urgent Requirement || Data Scientist || Noida</td>\n",
       "      <td>22d ago</td>\n",
       "      <td>4.2</td>\n",
       "    </tr>\n",
       "    <tr>\n",
       "      <th>7</th>\n",
       "      <td>Data Scientist with NLP &amp; Python</td>\n",
       "      <td>via naukri.com</td>\n",
       "      <td>4.1</td>\n",
       "    </tr>\n",
       "    <tr>\n",
       "      <th>8</th>\n",
       "      <td>Data Scientist</td>\n",
       "      <td>19d ago</td>\n",
       "      <td>4.1</td>\n",
       "    </tr>\n",
       "    <tr>\n",
       "      <th>9</th>\n",
       "      <td>Opportunity | Tavant India</td>\n",
       "      <td>via naukri.com</td>\n",
       "      <td>4.1</td>\n",
       "    </tr>\n",
       "  </tbody>\n",
       "</table>\n",
       "</div>"
      ],
      "text/plain": [
       "                                       Company Names  \\\n",
       "0  Excellent Opportunity For Freshers For AI/ML, ...   \n",
       "1  HCL Hiring Data Scientist (Loc: Noida / Chenna...   \n",
       "2                                     Data Scientist   \n",
       "3                                  Data Scientist-II   \n",
       "4           HCL Tech Opening - Senior Data Scientist   \n",
       "5                                     Data Scientist   \n",
       "6      Urgent Requirement || Data Scientist || Noida   \n",
       "7                   Data Scientist with NLP & Python   \n",
       "8                                     Data Scientist   \n",
       "9                         Opportunity | Tavant India   \n",
       "\n",
       "  No of Days ago add was posted Ratings  \n",
       "0                       10d ago     4.3  \n",
       "1                via naukri.com     4.3  \n",
       "2                       11d ago     4.1  \n",
       "3                via naukri.com     4.1  \n",
       "4                       11d ago     4.1  \n",
       "5                via naukri.com     4.1  \n",
       "6                       22d ago     4.2  \n",
       "7                via naukri.com     4.1  \n",
       "8                       19d ago     4.1  \n",
       "9                via naukri.com     4.1  "
      ]
     },
     "execution_count": 121,
     "metadata": {},
     "output_type": "execute_result"
    }
   ],
   "source": [
    "jobs= pd.DataFrame()\n",
    "jobs['Company Names']= names[:10]\n",
    "jobs['No of Days ago add was posted']= days[:10]\n",
    "jobs['Ratings']=ratings[:10]\n",
    "jobs\n"
   ]
  },
  {
   "cell_type": "markdown",
   "id": "3b982486",
   "metadata": {},
   "source": [
    "Write a python program to scrape the salary data for Data Scientist designation.\n",
    "You have to scrape Company name, Number of salaries, Average salary, Minsalary, Max Salary.\n",
    "The above task will be, done as shown in the below steps:\n",
    "1. First get the webpage https://www.ambitionbox.com/\n",
    "2. Click on the salaries option as shown in the image.\n",
    "reaching to the following webpage, In place of “Search Job Profile” enters “Data Scientist” and\n",
    "then click on “Data Scientist”.\n",
    "You have to scrape the data ticked in the above image.\n",
    "4. Scrape the data for the first 10 companies. Scrape the company name, total salary record, average\n",
    "salary, minimum salary, maximum salary, experience required.\n",
    "5. Store the data in a dataframe."
   ]
  },
  {
   "cell_type": "code",
   "execution_count": 122,
   "id": "f3d52bd0",
   "metadata": {},
   "outputs": [],
   "source": [
    "driver= webdriver.Chrome(r'C:/Users/Harshita/Downloads/chromedriver_win32/chromedriver')"
   ]
  },
  {
   "cell_type": "code",
   "execution_count": 124,
   "id": "db832c04",
   "metadata": {},
   "outputs": [],
   "source": [
    "url= 'https://www.ambitionbox.com/'\n",
    "driver.get(url)"
   ]
  },
  {
   "cell_type": "code",
   "execution_count": 126,
   "id": "996b9a3f",
   "metadata": {},
   "outputs": [
    {
     "data": {
      "text/plain": [
       "<selenium.webdriver.remote.webelement.WebElement (session=\"3a5125cb17be21fa0e31a04cbc9b14c2\", element=\"a06ab7e8-e7ef-4be6-92aa-40d70c4056b9\")>"
      ]
     },
     "execution_count": 126,
     "metadata": {},
     "output_type": "execute_result"
    }
   ],
   "source": [
    "search_salary= driver.find_element_by_class_name('link.salaries')\n",
    "search_salary "
   ]
  },
  {
   "cell_type": "code",
   "execution_count": 127,
   "id": "5716b39d",
   "metadata": {},
   "outputs": [],
   "source": [
    "search_salary.click()"
   ]
  },
  {
   "cell_type": "code",
   "execution_count": 130,
   "id": "54038ad7",
   "metadata": {},
   "outputs": [
    {
     "data": {
      "text/plain": [
       "<selenium.webdriver.remote.webelement.WebElement (session=\"3a5125cb17be21fa0e31a04cbc9b14c2\", element=\"85a8b3ca-a190-48a7-8c6f-285393bec7a0\")>"
      ]
     },
     "execution_count": 130,
     "metadata": {},
     "output_type": "execute_result"
    }
   ],
   "source": [
    "search_job= driver.find_element_by_xpath('/html/body/div/div/div/main/section[1]/div[2]/div[1]/span/input')\n",
    "search_job"
   ]
  },
  {
   "cell_type": "code",
   "execution_count": 133,
   "id": "c88413a6",
   "metadata": {},
   "outputs": [],
   "source": [
    "search_job.click()"
   ]
  },
  {
   "cell_type": "code",
   "execution_count": 135,
   "id": "700e8430",
   "metadata": {},
   "outputs": [
    {
     "data": {
      "text/plain": [
       "[<selenium.webdriver.remote.webelement.WebElement (session=\"3a5125cb17be21fa0e31a04cbc9b14c2\", element=\"9020756f-97a7-4824-807c-7274d6225c60\")>,\n",
       " <selenium.webdriver.remote.webelement.WebElement (session=\"3a5125cb17be21fa0e31a04cbc9b14c2\", element=\"0f87d781-abdb-4e90-91cd-0b421222f73a\")>]"
      ]
     },
     "execution_count": 135,
     "metadata": {},
     "output_type": "execute_result"
    }
   ],
   "source": [
    "name_tags= driver.find_elements_by_xpath('//div[@class=\"name\"]')\n",
    "name_tags[:2]"
   ]
  },
  {
   "cell_type": "code",
   "execution_count": 136,
   "id": "d3e5a830",
   "metadata": {},
   "outputs": [
    {
     "data": {
      "text/plain": [
       "['Ab Inbev\\nbased on 28 salaries', 'ZS\\nbased on 15 salaries']"
      ]
     },
     "execution_count": 136,
     "metadata": {},
     "output_type": "execute_result"
    }
   ],
   "source": [
    "names=[]\n",
    "for i in name_tags:\n",
    "    names.append(i.text)\n",
    "len(names)\n",
    "names[:2]"
   ]
  },
  {
   "cell_type": "code",
   "execution_count": 142,
   "id": "62268e28",
   "metadata": {},
   "outputs": [
    {
     "data": {
      "text/plain": [
       "[<selenium.webdriver.remote.webelement.WebElement (session=\"3a5125cb17be21fa0e31a04cbc9b14c2\", element=\"d473f218-a856-4a65-9ed2-28e1c5b5b2b6\")>,\n",
       " <selenium.webdriver.remote.webelement.WebElement (session=\"3a5125cb17be21fa0e31a04cbc9b14c2\", element=\"ef081e4d-0143-453a-9e4e-ab497a36d9cf\")>]"
      ]
     },
     "execution_count": 142,
     "metadata": {},
     "output_type": "execute_result"
    }
   ],
   "source": [
    "record_tags= driver.find_elements_by_xpath('//span[\"data-v-2bae05f7\"]')\n",
    "record_tags[:2]"
   ]
  },
  {
   "cell_type": "code",
   "execution_count": 143,
   "id": "bb8e1715",
   "metadata": {},
   "outputs": [
    {
     "data": {
      "text/plain": [
       "['1',\n",
       " '',\n",
       " '',\n",
       " '',\n",
       " '',\n",
       " 'Search',\n",
       " 'Filter salaries by',\n",
       " 'Salary Comparison',\n",
       " '10 results are available, use up and down arrow keys to navigate.',\n",
       " '10 results are available, use up and down arrow keys to navigate.',\n",
       " 'based on 28 salaries',\n",
       " ' . ',\n",
       " 'based on 15 salaries',\n",
       " ' . ',\n",
       " 'based on 25 salaries',\n",
       " ' . ',\n",
       " 'based on 77 salaries',\n",
       " ' . ',\n",
       " 'based on 33 salaries',\n",
       " ' . ',\n",
       " 'based on 52 salaries',\n",
       " ' . ',\n",
       " 'based on 14 salaries',\n",
       " ' . ',\n",
       " 'based on 13 salaries',\n",
       " ' . ',\n",
       " 'based on 43 salaries',\n",
       " ' . ',\n",
       " 'based on 57 salaries',\n",
       " ' . ',\n",
       " 'Salaries for Popular Roles',\n",
       " '₹ 2.7L',\n",
       " 'Low',\n",
       " '',\n",
       " '',\n",
       " '',\n",
       " '',\n",
       " '',\n",
       " '',\n",
       " '',\n",
       " '',\n",
       " '',\n",
       " '',\n",
       " '₹ 13.5L',\n",
       " 'Highest',\n",
       " '',\n",
       " '',\n",
       " '₹ 3.0L',\n",
       " 'Low',\n",
       " '',\n",
       " '',\n",
       " '',\n",
       " '',\n",
       " '',\n",
       " '',\n",
       " '',\n",
       " '',\n",
       " '',\n",
       " '',\n",
       " '₹ 15.9L',\n",
       " 'Highest',\n",
       " '',\n",
       " '',\n",
       " '',\n",
       " '',\n",
       " '',\n",
       " '',\n",
       " '',\n",
       " '',\n",
       " '',\n",
       " '',\n",
       " '',\n",
       " '',\n",
       " '',\n",
       " '',\n",
       " '',\n",
       " '',\n",
       " '',\n",
       " '',\n",
       " '',\n",
       " '',\n",
       " '',\n",
       " '',\n",
       " '',\n",
       " '',\n",
       " '',\n",
       " '',\n",
       " '',\n",
       " '',\n",
       " '',\n",
       " '',\n",
       " '',\n",
       " '',\n",
       " '',\n",
       " '',\n",
       " '',\n",
       " '',\n",
       " '',\n",
       " '',\n",
       " '',\n",
       " '',\n",
       " '',\n",
       " '',\n",
       " '',\n",
       " '',\n",
       " '',\n",
       " '',\n",
       " '',\n",
       " '',\n",
       " '',\n",
       " '',\n",
       " '',\n",
       " '',\n",
       " '',\n",
       " '',\n",
       " '',\n",
       " '',\n",
       " '',\n",
       " '',\n",
       " '',\n",
       " '',\n",
       " '',\n",
       " '',\n",
       " '',\n",
       " '',\n",
       " '',\n",
       " '',\n",
       " '',\n",
       " '',\n",
       " '',\n",
       " '',\n",
       " '',\n",
       " '',\n",
       " '',\n",
       " '',\n",
       " '',\n",
       " '',\n",
       " '',\n",
       " '',\n",
       " '',\n",
       " '',\n",
       " '',\n",
       " '',\n",
       " '',\n",
       " '',\n",
       " '',\n",
       " '',\n",
       " '',\n",
       " '',\n",
       " '',\n",
       " '',\n",
       " '',\n",
       " '',\n",
       " '',\n",
       " '',\n",
       " '',\n",
       " '',\n",
       " '',\n",
       " '',\n",
       " '',\n",
       " '',\n",
       " '',\n",
       " '',\n",
       " '',\n",
       " '',\n",
       " '',\n",
       " '',\n",
       " '',\n",
       " '',\n",
       " '',\n",
       " '',\n",
       " '',\n",
       " '',\n",
       " '',\n",
       " '',\n",
       " '',\n",
       " '',\n",
       " '',\n",
       " '',\n",
       " '',\n",
       " '',\n",
       " '',\n",
       " '',\n",
       " '',\n",
       " '',\n",
       " '',\n",
       " '',\n",
       " '',\n",
       " '',\n",
       " '',\n",
       " '',\n",
       " '',\n",
       " '',\n",
       " '',\n",
       " '',\n",
       " '',\n",
       " '',\n",
       " '',\n",
       " '',\n",
       " '',\n",
       " '',\n",
       " '',\n",
       " '',\n",
       " '',\n",
       " '',\n",
       " '',\n",
       " '',\n",
       " '',\n",
       " '',\n",
       " '',\n",
       " '',\n",
       " '',\n",
       " '',\n",
       " '',\n",
       " '',\n",
       " '',\n",
       " '',\n",
       " '',\n",
       " '',\n",
       " '',\n",
       " '',\n",
       " '',\n",
       " '',\n",
       " '',\n",
       " '',\n",
       " '',\n",
       " '',\n",
       " '',\n",
       " '',\n",
       " '',\n",
       " '',\n",
       " '',\n",
       " '',\n",
       " '',\n",
       " '',\n",
       " '',\n",
       " '',\n",
       " '',\n",
       " '',\n",
       " '',\n",
       " '',\n",
       " '',\n",
       " '',\n",
       " '',\n",
       " '',\n",
       " '',\n",
       " '',\n",
       " '',\n",
       " '',\n",
       " '',\n",
       " '',\n",
       " '',\n",
       " '',\n",
       " '',\n",
       " '',\n",
       " '',\n",
       " '',\n",
       " '',\n",
       " '',\n",
       " '',\n",
       " '',\n",
       " '',\n",
       " '',\n",
       " '',\n",
       " '',\n",
       " '',\n",
       " '',\n",
       " '',\n",
       " '',\n",
       " '',\n",
       " '',\n",
       " '',\n",
       " '',\n",
       " 'Salaries by Company',\n",
       " '3.2',\n",
       " 'Salary Rating ',\n",
       " '29.8k reviews',\n",
       " '3.4',\n",
       " 'Salary Rating ',\n",
       " '20.4k reviews',\n",
       " '',\n",
       " '',\n",
       " '',\n",
       " '',\n",
       " '',\n",
       " '',\n",
       " '',\n",
       " '',\n",
       " '',\n",
       " '',\n",
       " '',\n",
       " '',\n",
       " '',\n",
       " '',\n",
       " '',\n",
       " '',\n",
       " '',\n",
       " '',\n",
       " '',\n",
       " '',\n",
       " '',\n",
       " '',\n",
       " '',\n",
       " '',\n",
       " '',\n",
       " '',\n",
       " '',\n",
       " '',\n",
       " '',\n",
       " '',\n",
       " '',\n",
       " '',\n",
       " '',\n",
       " '',\n",
       " '',\n",
       " '',\n",
       " '',\n",
       " '',\n",
       " '',\n",
       " '',\n",
       " '',\n",
       " 'Don’t worry. You can choose to be anonymous.',\n",
       " '',\n",
       " '',\n",
       " 'Calculate your in-hand salary',\n",
       " '',\n",
       " 'Enter Company',\n",
       " '',\n",
       " 'Enter Designation',\n",
       " '',\n",
       " 'Enter Annual Salary',\n",
       " 'Calculate',\n",
       " 'Salary Insights',\n",
       " '',\n",
       " '',\n",
       " '',\n",
       " 'AmbitionBox',\n",
       " '36 Lakh+',\n",
       " '1 Crore+',\n",
       " '3 Lakh+',\n",
       " '57 Lakh+',\n",
       " 'Search',\n",
       " 'Users/Jobseekers',\n",
       " 'Employers',\n",
       " 'AmbitionBox',\n",
       " 'Support',\n",
       " 'Follow Us',\n",
       " 'Contribute',\n",
       " 'Write a Review',\n",
       " 'Add a Salary',\n",
       " 'Share an Interview']"
      ]
     },
     "execution_count": 143,
     "metadata": {},
     "output_type": "execute_result"
    }
   ],
   "source": [
    "salary_record=[]\n",
    "for i in record_tags:\n",
    "    salary_record.append(i.text)\n",
    "len(salary_record)\n",
    "salary_record"
   ]
  },
  {
   "cell_type": "code",
   "execution_count": 137,
   "id": "e0b3a146",
   "metadata": {},
   "outputs": [
    {
     "data": {
      "text/plain": [
       "[<selenium.webdriver.remote.webelement.WebElement (session=\"3a5125cb17be21fa0e31a04cbc9b14c2\", element=\"fbd76cad-cc3c-47aa-9921-a3ff52bcf4a7\")>,\n",
       " <selenium.webdriver.remote.webelement.WebElement (session=\"3a5125cb17be21fa0e31a04cbc9b14c2\", element=\"d87d1774-9945-40a4-9366-7b49ee0646fb\")>]"
      ]
     },
     "execution_count": 137,
     "metadata": {},
     "output_type": "execute_result"
    }
   ],
   "source": [
    "salary_tags= driver.find_elements_by_xpath('//p[@class=\"averageCtc\"]')\n",
    "salary_tags[:2]"
   ]
  },
  {
   "cell_type": "code",
   "execution_count": 138,
   "id": "ee4290d1",
   "metadata": {},
   "outputs": [
    {
     "data": {
      "text/plain": [
       "['₹ 20.3L', '₹ 15.3L']"
      ]
     },
     "execution_count": 138,
     "metadata": {},
     "output_type": "execute_result"
    }
   ],
   "source": [
    "salaries=[]\n",
    "for i in salary_tags:\n",
    "    salaries.append(i.text)\n",
    "len(salaries)\n",
    "salaries[:2]"
   ]
  },
  {
   "cell_type": "code",
   "execution_count": 144,
   "id": "0afb1361",
   "metadata": {},
   "outputs": [
    {
     "data": {
      "text/plain": [
       "[<selenium.webdriver.remote.webelement.WebElement (session=\"3a5125cb17be21fa0e31a04cbc9b14c2\", element=\"69685882-7073-4396-abcf-322c63dd7dcf\")>,\n",
       " <selenium.webdriver.remote.webelement.WebElement (session=\"3a5125cb17be21fa0e31a04cbc9b14c2\", element=\"32948586-552a-4407-bb7d-6dace7d603a7\")>]"
      ]
     },
     "execution_count": 144,
     "metadata": {},
     "output_type": "execute_result"
    }
   ],
   "source": [
    "minsalary_tags= driver.find_elements_by_xpath('//div[@class=\"value body-medium\"]')\n",
    "minsalary_tags[:2]"
   ]
  },
  {
   "cell_type": "code",
   "execution_count": 145,
   "id": "249e25d8",
   "metadata": {},
   "outputs": [
    {
     "data": {
      "text/plain": [
       "['₹ 15.0L', '₹ 25.5L']"
      ]
     },
     "execution_count": 145,
     "metadata": {},
     "output_type": "execute_result"
    }
   ],
   "source": [
    "min_salaries=[]\n",
    "for i in minsalary_tags:\n",
    "    min_salaries.append(i.text)\n",
    "len(min_salaries)\n",
    "min_salaries[:2]"
   ]
  },
  {
   "cell_type": "code",
   "execution_count": 146,
   "id": "964925a3",
   "metadata": {},
   "outputs": [
    {
     "data": {
      "text/plain": [
       "[<selenium.webdriver.remote.webelement.WebElement (session=\"3a5125cb17be21fa0e31a04cbc9b14c2\", element=\"a8f38eb3-ea31-48d3-915d-7b6e4a2a18bc\")>,\n",
       " <selenium.webdriver.remote.webelement.WebElement (session=\"3a5125cb17be21fa0e31a04cbc9b14c2\", element=\"df5024c5-7c89-42fc-b89a-487c0cd4116d\")>]"
      ]
     },
     "execution_count": 146,
     "metadata": {},
     "output_type": "execute_result"
    }
   ],
   "source": [
    "maxsalary_tags= driver.find_elements_by_xpath('//div[@class=\"value body-medium\"]')\n",
    "maxsalary_tags[:2]"
   ]
  },
  {
   "cell_type": "code",
   "execution_count": 147,
   "id": "7768dd32",
   "metadata": {},
   "outputs": [
    {
     "data": {
      "text/plain": [
       "['₹ 15.0L', '₹ 25.5L']"
      ]
     },
     "execution_count": 147,
     "metadata": {},
     "output_type": "execute_result"
    }
   ],
   "source": [
    "max_salaries=[]\n",
    "for i in maxsalary_tags:\n",
    "    max_salaries.append(i.text)\n",
    "len(max_salaries)\n",
    "max_salaries[:2]"
   ]
  },
  {
   "cell_type": "code",
   "execution_count": 148,
   "id": "67b61463",
   "metadata": {},
   "outputs": [
    {
     "data": {
      "text/html": [
       "<div>\n",
       "<style scoped>\n",
       "    .dataframe tbody tr th:only-of-type {\n",
       "        vertical-align: middle;\n",
       "    }\n",
       "\n",
       "    .dataframe tbody tr th {\n",
       "        vertical-align: top;\n",
       "    }\n",
       "\n",
       "    .dataframe thead th {\n",
       "        text-align: right;\n",
       "    }\n",
       "</style>\n",
       "<table border=\"1\" class=\"dataframe\">\n",
       "  <thead>\n",
       "    <tr style=\"text-align: right;\">\n",
       "      <th></th>\n",
       "      <th>Company Names</th>\n",
       "      <th>Average Salary</th>\n",
       "      <th>Minimum Salary</th>\n",
       "      <th>Maximum Salary</th>\n",
       "    </tr>\n",
       "  </thead>\n",
       "  <tbody>\n",
       "    <tr>\n",
       "      <th>0</th>\n",
       "      <td>Ab Inbev\\nbased on 28 salaries</td>\n",
       "      <td>₹ 20.3L</td>\n",
       "      <td>₹ 15.0L</td>\n",
       "      <td>₹ 15.0L</td>\n",
       "    </tr>\n",
       "    <tr>\n",
       "      <th>1</th>\n",
       "      <td>ZS\\nbased on 15 salaries</td>\n",
       "      <td>₹ 15.3L</td>\n",
       "      <td>₹ 25.5L</td>\n",
       "      <td>₹ 25.5L</td>\n",
       "    </tr>\n",
       "    <tr>\n",
       "      <th>2</th>\n",
       "      <td>Optum\\nbased on 25 salaries</td>\n",
       "      <td>₹ 15.1L</td>\n",
       "      <td>₹ 9.5L</td>\n",
       "      <td>₹ 9.5L</td>\n",
       "    </tr>\n",
       "    <tr>\n",
       "      <th>3</th>\n",
       "      <td>Fractal Analytics\\nbased on 77 salaries</td>\n",
       "      <td>₹ 15.1L</td>\n",
       "      <td>₹ 20.0L</td>\n",
       "      <td>₹ 20.0L</td>\n",
       "    </tr>\n",
       "    <tr>\n",
       "      <th>4</th>\n",
       "      <td>Tiger Analytics\\nbased on 33 salaries</td>\n",
       "      <td>₹ 14.4L</td>\n",
       "      <td>₹ 11.0L</td>\n",
       "      <td>₹ 11.0L</td>\n",
       "    </tr>\n",
       "    <tr>\n",
       "      <th>5</th>\n",
       "      <td>UnitedHealth\\nbased on 52 salaries</td>\n",
       "      <td>₹ 13.9L</td>\n",
       "      <td>₹ 21.3L</td>\n",
       "      <td>₹ 21.3L</td>\n",
       "    </tr>\n",
       "    <tr>\n",
       "      <th>6</th>\n",
       "      <td>Verizon\\nbased on 14 salaries</td>\n",
       "      <td>₹ 12.7L</td>\n",
       "      <td>₹ 9.5L</td>\n",
       "      <td>₹ 9.5L</td>\n",
       "    </tr>\n",
       "    <tr>\n",
       "      <th>7</th>\n",
       "      <td>Ganit Business Solutions\\nbased on 13 salaries</td>\n",
       "      <td>₹ 12.4L</td>\n",
       "      <td>₹ 22.0L</td>\n",
       "      <td>₹ 22.0L</td>\n",
       "    </tr>\n",
       "    <tr>\n",
       "      <th>8</th>\n",
       "      <td>Ericsson\\nbased on 43 salaries</td>\n",
       "      <td>₹ 11.9L</td>\n",
       "      <td>₹ 8.3L</td>\n",
       "      <td>₹ 8.3L</td>\n",
       "    </tr>\n",
       "    <tr>\n",
       "      <th>9</th>\n",
       "      <td>Deloitte\\nbased on 57 salaries</td>\n",
       "      <td>₹ 11.7L</td>\n",
       "      <td>₹ 20.0L</td>\n",
       "      <td>₹ 20.0L</td>\n",
       "    </tr>\n",
       "  </tbody>\n",
       "</table>\n",
       "</div>"
      ],
      "text/plain": [
       "                                    Company Names Average Salary  \\\n",
       "0                  Ab Inbev\\nbased on 28 salaries        ₹ 20.3L   \n",
       "1                        ZS\\nbased on 15 salaries        ₹ 15.3L   \n",
       "2                     Optum\\nbased on 25 salaries        ₹ 15.1L   \n",
       "3         Fractal Analytics\\nbased on 77 salaries        ₹ 15.1L   \n",
       "4           Tiger Analytics\\nbased on 33 salaries        ₹ 14.4L   \n",
       "5              UnitedHealth\\nbased on 52 salaries        ₹ 13.9L   \n",
       "6                   Verizon\\nbased on 14 salaries        ₹ 12.7L   \n",
       "7  Ganit Business Solutions\\nbased on 13 salaries        ₹ 12.4L   \n",
       "8                  Ericsson\\nbased on 43 salaries        ₹ 11.9L   \n",
       "9                  Deloitte\\nbased on 57 salaries        ₹ 11.7L   \n",
       "\n",
       "  Minimum Salary Maximum Salary  \n",
       "0        ₹ 15.0L        ₹ 15.0L  \n",
       "1        ₹ 25.5L        ₹ 25.5L  \n",
       "2         ₹ 9.5L         ₹ 9.5L  \n",
       "3        ₹ 20.0L        ₹ 20.0L  \n",
       "4        ₹ 11.0L        ₹ 11.0L  \n",
       "5        ₹ 21.3L        ₹ 21.3L  \n",
       "6         ₹ 9.5L         ₹ 9.5L  \n",
       "7        ₹ 22.0L        ₹ 22.0L  \n",
       "8         ₹ 8.3L         ₹ 8.3L  \n",
       "9        ₹ 20.0L        ₹ 20.0L  "
      ]
     },
     "execution_count": 148,
     "metadata": {},
     "output_type": "execute_result"
    }
   ],
   "source": [
    "jobs= pd.DataFrame()\n",
    "jobs['Company Names']= names[:10]\n",
    "jobs['Average Salary']= salary_record[:10]\n",
    "jobs['Average Salary']= salaries[:10]\n",
    "jobs['Minimum Salary']=min_salaries[:10]\n",
    "jobs['Maximum Salary']=max_salaries[:10]\n",
    "jobs"
   ]
  },
  {
   "cell_type": "code",
   "execution_count": null,
   "id": "1e21e366",
   "metadata": {},
   "outputs": [],
   "source": []
  }
 ],
 "metadata": {
  "kernelspec": {
   "display_name": "Python 3",
   "language": "python",
   "name": "python3"
  },
  "language_info": {
   "codemirror_mode": {
    "name": "ipython",
    "version": 3
   },
   "file_extension": ".py",
   "mimetype": "text/x-python",
   "name": "python",
   "nbconvert_exporter": "python",
   "pygments_lexer": "ipython3",
   "version": "3.8.8"
  }
 },
 "nbformat": 4,
 "nbformat_minor": 5
}
