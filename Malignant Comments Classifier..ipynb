{
 "cells": [
  {
   "cell_type": "code",
   "execution_count": 1,
   "id": "f94622a9",
   "metadata": {},
   "outputs": [],
   "source": [
    "import pandas as pd\n",
    "import numpy as np\n",
    "import matplotlib.pyplot as plt\n",
    "import seaborn as sns\n",
    "import string\n",
    "import nltk\n",
    "from nltk.corpus import stopwords\n",
    "from nltk.stem import PorterStemmer, WordNetLemmatizer\n",
    "\n",
    "\n",
    "import warnings \n",
    "warnings.filterwarnings(\"ignore\")"
   ]
  },
  {
   "cell_type": "code",
   "execution_count": 2,
   "id": "30f0b868",
   "metadata": {},
   "outputs": [
    {
     "data": {
      "text/html": [
       "<div>\n",
       "<style scoped>\n",
       "    .dataframe tbody tr th:only-of-type {\n",
       "        vertical-align: middle;\n",
       "    }\n",
       "\n",
       "    .dataframe tbody tr th {\n",
       "        vertical-align: top;\n",
       "    }\n",
       "\n",
       "    .dataframe thead th {\n",
       "        text-align: right;\n",
       "    }\n",
       "</style>\n",
       "<table border=\"1\" class=\"dataframe\">\n",
       "  <thead>\n",
       "    <tr style=\"text-align: right;\">\n",
       "      <th></th>\n",
       "      <th>id</th>\n",
       "      <th>comment_text</th>\n",
       "      <th>malignant</th>\n",
       "      <th>highly_malignant</th>\n",
       "      <th>rude</th>\n",
       "      <th>threat</th>\n",
       "      <th>abuse</th>\n",
       "      <th>loathe</th>\n",
       "    </tr>\n",
       "  </thead>\n",
       "  <tbody>\n",
       "    <tr>\n",
       "      <th>0</th>\n",
       "      <td>0000997932d777bf</td>\n",
       "      <td>Explanation\\nWhy the edits made under my usern...</td>\n",
       "      <td>0</td>\n",
       "      <td>0</td>\n",
       "      <td>0</td>\n",
       "      <td>0</td>\n",
       "      <td>0</td>\n",
       "      <td>0</td>\n",
       "    </tr>\n",
       "    <tr>\n",
       "      <th>1</th>\n",
       "      <td>000103f0d9cfb60f</td>\n",
       "      <td>D'aww! He matches this background colour I'm s...</td>\n",
       "      <td>0</td>\n",
       "      <td>0</td>\n",
       "      <td>0</td>\n",
       "      <td>0</td>\n",
       "      <td>0</td>\n",
       "      <td>0</td>\n",
       "    </tr>\n",
       "    <tr>\n",
       "      <th>2</th>\n",
       "      <td>000113f07ec002fd</td>\n",
       "      <td>Hey man, I'm really not trying to edit war. It...</td>\n",
       "      <td>0</td>\n",
       "      <td>0</td>\n",
       "      <td>0</td>\n",
       "      <td>0</td>\n",
       "      <td>0</td>\n",
       "      <td>0</td>\n",
       "    </tr>\n",
       "    <tr>\n",
       "      <th>3</th>\n",
       "      <td>0001b41b1c6bb37e</td>\n",
       "      <td>\"\\nMore\\nI can't make any real suggestions on ...</td>\n",
       "      <td>0</td>\n",
       "      <td>0</td>\n",
       "      <td>0</td>\n",
       "      <td>0</td>\n",
       "      <td>0</td>\n",
       "      <td>0</td>\n",
       "    </tr>\n",
       "    <tr>\n",
       "      <th>4</th>\n",
       "      <td>0001d958c54c6e35</td>\n",
       "      <td>You, sir, are my hero. Any chance you remember...</td>\n",
       "      <td>0</td>\n",
       "      <td>0</td>\n",
       "      <td>0</td>\n",
       "      <td>0</td>\n",
       "      <td>0</td>\n",
       "      <td>0</td>\n",
       "    </tr>\n",
       "  </tbody>\n",
       "</table>\n",
       "</div>"
      ],
      "text/plain": [
       "                 id                                       comment_text  \\\n",
       "0  0000997932d777bf  Explanation\\nWhy the edits made under my usern...   \n",
       "1  000103f0d9cfb60f  D'aww! He matches this background colour I'm s...   \n",
       "2  000113f07ec002fd  Hey man, I'm really not trying to edit war. It...   \n",
       "3  0001b41b1c6bb37e  \"\\nMore\\nI can't make any real suggestions on ...   \n",
       "4  0001d958c54c6e35  You, sir, are my hero. Any chance you remember...   \n",
       "\n",
       "   malignant  highly_malignant  rude  threat  abuse  loathe  \n",
       "0          0                 0     0       0      0       0  \n",
       "1          0                 0     0       0      0       0  \n",
       "2          0                 0     0       0      0       0  \n",
       "3          0                 0     0       0      0       0  \n",
       "4          0                 0     0       0      0       0  "
      ]
     },
     "execution_count": 2,
     "metadata": {},
     "output_type": "execute_result"
    }
   ],
   "source": [
    "df_train= pd.read_csv('Malignant Comments Classifier.csv')\n",
    "df_train.head()"
   ]
  },
  {
   "cell_type": "code",
   "execution_count": 3,
   "id": "a4e1c63c",
   "metadata": {},
   "outputs": [
    {
     "data": {
      "text/plain": [
       "(159571, 8)"
      ]
     },
     "execution_count": 3,
     "metadata": {},
     "output_type": "execute_result"
    }
   ],
   "source": [
    "df_train.shape"
   ]
  },
  {
   "cell_type": "code",
   "execution_count": 4,
   "id": "5ce134f8",
   "metadata": {},
   "outputs": [
    {
     "name": "stdout",
     "output_type": "stream",
     "text": [
      "<class 'pandas.core.frame.DataFrame'>\n",
      "RangeIndex: 159571 entries, 0 to 159570\n",
      "Data columns (total 8 columns):\n",
      " #   Column            Non-Null Count   Dtype \n",
      "---  ------            --------------   ----- \n",
      " 0   id                159571 non-null  object\n",
      " 1   comment_text      159571 non-null  object\n",
      " 2   malignant         159571 non-null  int64 \n",
      " 3   highly_malignant  159571 non-null  int64 \n",
      " 4   rude              159571 non-null  int64 \n",
      " 5   threat            159571 non-null  int64 \n",
      " 6   abuse             159571 non-null  int64 \n",
      " 7   loathe            159571 non-null  int64 \n",
      "dtypes: int64(6), object(2)\n",
      "memory usage: 9.7+ MB\n"
     ]
    }
   ],
   "source": [
    "df_train.info()"
   ]
  },
  {
   "cell_type": "code",
   "execution_count": 5,
   "id": "17c3503c",
   "metadata": {},
   "outputs": [
    {
     "data": {
      "text/html": [
       "<div>\n",
       "<style scoped>\n",
       "    .dataframe tbody tr th:only-of-type {\n",
       "        vertical-align: middle;\n",
       "    }\n",
       "\n",
       "    .dataframe tbody tr th {\n",
       "        vertical-align: top;\n",
       "    }\n",
       "\n",
       "    .dataframe thead th {\n",
       "        text-align: right;\n",
       "    }\n",
       "</style>\n",
       "<table border=\"1\" class=\"dataframe\">\n",
       "  <thead>\n",
       "    <tr style=\"text-align: right;\">\n",
       "      <th></th>\n",
       "      <th>malignant</th>\n",
       "      <th>highly_malignant</th>\n",
       "      <th>rude</th>\n",
       "      <th>threat</th>\n",
       "      <th>abuse</th>\n",
       "      <th>loathe</th>\n",
       "    </tr>\n",
       "  </thead>\n",
       "  <tbody>\n",
       "    <tr>\n",
       "      <th>count</th>\n",
       "      <td>159571.000000</td>\n",
       "      <td>159571.000000</td>\n",
       "      <td>159571.000000</td>\n",
       "      <td>159571.000000</td>\n",
       "      <td>159571.000000</td>\n",
       "      <td>159571.000000</td>\n",
       "    </tr>\n",
       "    <tr>\n",
       "      <th>mean</th>\n",
       "      <td>0.095844</td>\n",
       "      <td>0.009996</td>\n",
       "      <td>0.052948</td>\n",
       "      <td>0.002996</td>\n",
       "      <td>0.049364</td>\n",
       "      <td>0.008805</td>\n",
       "    </tr>\n",
       "    <tr>\n",
       "      <th>std</th>\n",
       "      <td>0.294379</td>\n",
       "      <td>0.099477</td>\n",
       "      <td>0.223931</td>\n",
       "      <td>0.054650</td>\n",
       "      <td>0.216627</td>\n",
       "      <td>0.093420</td>\n",
       "    </tr>\n",
       "    <tr>\n",
       "      <th>min</th>\n",
       "      <td>0.000000</td>\n",
       "      <td>0.000000</td>\n",
       "      <td>0.000000</td>\n",
       "      <td>0.000000</td>\n",
       "      <td>0.000000</td>\n",
       "      <td>0.000000</td>\n",
       "    </tr>\n",
       "    <tr>\n",
       "      <th>25%</th>\n",
       "      <td>0.000000</td>\n",
       "      <td>0.000000</td>\n",
       "      <td>0.000000</td>\n",
       "      <td>0.000000</td>\n",
       "      <td>0.000000</td>\n",
       "      <td>0.000000</td>\n",
       "    </tr>\n",
       "    <tr>\n",
       "      <th>50%</th>\n",
       "      <td>0.000000</td>\n",
       "      <td>0.000000</td>\n",
       "      <td>0.000000</td>\n",
       "      <td>0.000000</td>\n",
       "      <td>0.000000</td>\n",
       "      <td>0.000000</td>\n",
       "    </tr>\n",
       "    <tr>\n",
       "      <th>75%</th>\n",
       "      <td>0.000000</td>\n",
       "      <td>0.000000</td>\n",
       "      <td>0.000000</td>\n",
       "      <td>0.000000</td>\n",
       "      <td>0.000000</td>\n",
       "      <td>0.000000</td>\n",
       "    </tr>\n",
       "    <tr>\n",
       "      <th>max</th>\n",
       "      <td>1.000000</td>\n",
       "      <td>1.000000</td>\n",
       "      <td>1.000000</td>\n",
       "      <td>1.000000</td>\n",
       "      <td>1.000000</td>\n",
       "      <td>1.000000</td>\n",
       "    </tr>\n",
       "  </tbody>\n",
       "</table>\n",
       "</div>"
      ],
      "text/plain": [
       "           malignant  highly_malignant           rude         threat  \\\n",
       "count  159571.000000     159571.000000  159571.000000  159571.000000   \n",
       "mean        0.095844          0.009996       0.052948       0.002996   \n",
       "std         0.294379          0.099477       0.223931       0.054650   \n",
       "min         0.000000          0.000000       0.000000       0.000000   \n",
       "25%         0.000000          0.000000       0.000000       0.000000   \n",
       "50%         0.000000          0.000000       0.000000       0.000000   \n",
       "75%         0.000000          0.000000       0.000000       0.000000   \n",
       "max         1.000000          1.000000       1.000000       1.000000   \n",
       "\n",
       "               abuse         loathe  \n",
       "count  159571.000000  159571.000000  \n",
       "mean        0.049364       0.008805  \n",
       "std         0.216627       0.093420  \n",
       "min         0.000000       0.000000  \n",
       "25%         0.000000       0.000000  \n",
       "50%         0.000000       0.000000  \n",
       "75%         0.000000       0.000000  \n",
       "max         1.000000       1.000000  "
      ]
     },
     "execution_count": 5,
     "metadata": {},
     "output_type": "execute_result"
    }
   ],
   "source": [
    "df_train.describe()"
   ]
  },
  {
   "cell_type": "code",
   "execution_count": 6,
   "id": "b3a16fb8",
   "metadata": {},
   "outputs": [],
   "source": [
    "df_train.drop('id',axis=1, inplace=True)"
   ]
  },
  {
   "cell_type": "code",
   "execution_count": 7,
   "id": "46105fe2",
   "metadata": {},
   "outputs": [
    {
     "data": {
      "image/png": "[encoded data removed]",
      "text/plain": [
       "<Figure size 432x288 with 1 Axes>"
      ]
     },
     "metadata": {},
     "output_type": "display_data"
    }
   ],
   "source": [
    "df_train['malignant'].value_counts().plot.pie(labels= ['Malignant', 'Non-Malignant'], autopct= '%1.0f%%')\n",
    "plt.show()"
   ]
  },
  {
   "cell_type": "code",
   "execution_count": 8,
   "id": "10c39b89",
   "metadata": {},
   "outputs": [
    {
     "data": {
      "image/png": "[encoded data removed]",
      "text/plain": [
       "<Figure size 432x288 with 1 Axes>"
      ]
     },
     "metadata": {},
     "output_type": "display_data"
    }
   ],
   "source": [
    "df_train['threat'].value_counts().plot.pie(labels=['threat','no threat'], autopct= '%1.0f%%')\n",
    "plt.show()"
   ]
  },
  {
   "cell_type": "code",
   "execution_count": 9,
   "id": "73144975",
   "metadata": {},
   "outputs": [
    {
     "data": {
      "image/png": "[encoded data removed]",
      "text/plain": [
       "<Figure size 432x288 with 1 Axes>"
      ]
     },
     "metadata": {},
     "output_type": "display_data"
    }
   ],
   "source": [
    "df_train['abuse'].value_counts().plot.pie(labels= ['abuse', 'non abuse'], autopct= '%0.1f%%')\n",
    "plt.show()"
   ]
  },
  {
   "cell_type": "code",
   "execution_count": 10,
   "id": "35273e86",
   "metadata": {},
   "outputs": [
    {
     "data": {
      "image/png": "[encoded data removed]",
      "text/plain": [
       "<Figure size 432x288 with 1 Axes>"
      ]
     },
     "metadata": {},
     "output_type": "display_data"
    }
   ],
   "source": [
    "df_train['rude'].value_counts().plot.pie(labels= ['rude', 'not rude'], autopct= '%0.1f%%')\n",
    "plt.show()"
   ]
  },
  {
   "cell_type": "code",
   "execution_count": 11,
   "id": "19fbcc15",
   "metadata": {},
   "outputs": [
    {
     "data": {
      "image/png": "[encoded data removed]",
      "text/plain": [
       "<Figure size 432x288 with 1 Axes>"
      ]
     },
     "metadata": {},
     "output_type": "display_data"
    }
   ],
   "source": [
    "df_train['loathe'].value_counts().plot.pie(labels= ['loathe','non loathesome'], autopct= '%0.1f%%')\n",
    "plt.show()"
   ]
  },
  {
   "cell_type": "code",
   "execution_count": 12,
   "id": "f2c7020c",
   "metadata": {},
   "outputs": [
    {
     "data": {
      "text/plain": [
       "<AxesSubplot:title={'center':'comments distribution based on labels'}, ylabel='count'>"
      ]
     },
     "execution_count": 12,
     "metadata": {},
     "output_type": "execute_result"
    },
    {
     "data": {
      "image/png": "[encoded data removed]",
      "text/plain": [
       "<Figure size 576x504 with 1 Axes>"
      ]
     },
     "metadata": {},
     "output_type": "display_data"
    }
   ],
   "source": [
    "#checking how much which comment falls under which category\n",
    "cols= ['malignant', 'highly_malignant', 'rude', 'threat', 'abuse', 'loathe']\n",
    "df_plot= df_train[cols].sum().to_frame().rename(columns= {0 : 'count'})\n",
    "df_plot.plot.pie(y= 'count', title='comments distribution based on labels', figsize=(8,7), autopct= '%0.1f%%')"
   ]
  },
  {
   "cell_type": "markdown",
   "id": "8d5d9d45",
   "metadata": {},
   "source": [
    "Here we can see that malignant comments are the highest compared to others"
   ]
  },
  {
   "cell_type": "code",
   "execution_count": 13,
   "id": "2a57d6f3",
   "metadata": {},
   "outputs": [
    {
     "data": {
      "text/plain": [
       "<AxesSubplot:>"
      ]
     },
     "execution_count": 13,
     "metadata": {},
     "output_type": "execute_result"
    },
    {
     "data": {
      "image/png": "[encoded data removed]",
      "text/plain": [
       "<Figure size 576x360 with 2 Axes>"
      ]
     },
     "metadata": {
      "needs_background": "light"
     },
     "output_type": "display_data"
    }
   ],
   "source": [
    "plt.figure(figsize=(8,5))\n",
    "sns.heatmap(df_train.corr(),annot=True)"
   ]
  },
  {
   "cell_type": "code",
   "execution_count": 14,
   "id": "a75237ff",
   "metadata": {},
   "outputs": [],
   "source": [
    "#checking length of document\n",
    "df_train[\"original_len\"] = df_train[\"comment_text\"].str.len() "
   ]
  },
  {
   "cell_type": "code",
   "execution_count": 15,
   "id": "48ab7956",
   "metadata": {},
   "outputs": [],
   "source": [
    "#converting all letters to lower case\n",
    "df_train['comment_text']= df_train['comment_text'].str.lower()"
   ]
  },
  {
   "cell_type": "code",
   "execution_count": 16,
   "id": "bbc79a21",
   "metadata": {},
   "outputs": [],
   "source": [
    "#replacing with web address\n",
    "df_train['comment_text']= df_train['comment_text'].str.replace(r'^http\\://[a-zA-Z0-9\\-\\.]+\\.[a-zA-Z]{2,3}(/\\s*)?$','webaddress')"
   ]
  },
  {
   "cell_type": "code",
   "execution_count": 17,
   "id": "f4a62ff7",
   "metadata": {},
   "outputs": [],
   "source": [
    "#replacing with number\n",
    "df_train['comment_text']= df_train['comment_text'].str.replace(r'\\d+(\\.\\d+)?','number')"
   ]
  },
  {
   "cell_type": "code",
   "execution_count": 18,
   "id": "48adfce3",
   "metadata": {},
   "outputs": [],
   "source": [
    "#replacing with email address\n",
    "df_train['comment_text']= df_train['comment_text'].str.replace(r'^.+@[^\\.].*\\.[a-z]{2,}$',\"emailaddress\")"
   ]
  },
  {
   "cell_type": "code",
   "execution_count": 19,
   "id": "be8b37db",
   "metadata": {},
   "outputs": [],
   "source": [
    "#removing n\n",
    "df_train['comment_text']=df_train['comment_text'].str.replace('\\n','')"
   ]
  },
  {
   "cell_type": "code",
   "execution_count": 20,
   "id": "61258b56",
   "metadata": {},
   "outputs": [],
   "source": [
    "#removing punctuations\n",
    "df_train['comment_text']= df_train['comment_text'].str.replace(r'[^\\w\\d\\s]','')"
   ]
  },
  {
   "cell_type": "code",
   "execution_count": 21,
   "id": "bb85ee33",
   "metadata": {},
   "outputs": [],
   "source": [
    "#removing extra spaces\n",
    "df_train['comment_text']= df_train['comment_text'].str.replace(r'^\\s+','')"
   ]
  },
  {
   "cell_type": "code",
   "execution_count": 22,
   "id": "5741dc91",
   "metadata": {},
   "outputs": [],
   "source": [
    "#replacing leadning and trailing white space\n",
    "df_train[\"comment_text\"]=df_train[\"comment_text\"].str.replace(r'^\\s+|\\s+?$', \"\")"
   ]
  },
  {
   "cell_type": "code",
   "execution_count": 23,
   "id": "a8ba8bcd",
   "metadata": {},
   "outputs": [],
   "source": [
    "# remove stopwords\n",
    "stop_words = set(stopwords.words('english') + [\"m\",\"ur\",\"aww\",\"d\",\"dont\",\"cant\",\"doin\",\"ja\",\"u\"])\n",
    "df_train[\"comment_text\"]= df_train[\"comment_text\"].apply(lambda x: ' '.join(\n",
    "    term for term in x.split() if term not in stop_words ))"
   ]
  },
  {
   "cell_type": "code",
   "execution_count": 24,
   "id": "086fc437",
   "metadata": {},
   "outputs": [],
   "source": [
    "lem=WordNetLemmatizer()\n",
    "df_train['comment_text'] = df_train['comment_text'].apply(lambda x: ' '.join(\n",
    " lem.lemmatize(word) for word in x.split()))"
   ]
  },
  {
   "cell_type": "code",
   "execution_count": 25,
   "id": "59d7f310",
   "metadata": {},
   "outputs": [],
   "source": [
    "#checking clean data\n",
    "df_train['clean_len']= df_train['comment_text'].str.len()"
   ]
  },
  {
   "cell_type": "code",
   "execution_count": 26,
   "id": "d1dda5ca",
   "metadata": {},
   "outputs": [
    {
     "data": {
      "text/html": [
       "<div>\n",
       "<style scoped>\n",
       "    .dataframe tbody tr th:only-of-type {\n",
       "        vertical-align: middle;\n",
       "    }\n",
       "\n",
       "    .dataframe tbody tr th {\n",
       "        vertical-align: top;\n",
       "    }\n",
       "\n",
       "    .dataframe thead th {\n",
       "        text-align: right;\n",
       "    }\n",
       "</style>\n",
       "<table border=\"1\" class=\"dataframe\">\n",
       "  <thead>\n",
       "    <tr style=\"text-align: right;\">\n",
       "      <th></th>\n",
       "      <th>comment_text</th>\n",
       "      <th>malignant</th>\n",
       "      <th>highly_malignant</th>\n",
       "      <th>rude</th>\n",
       "      <th>threat</th>\n",
       "      <th>abuse</th>\n",
       "      <th>loathe</th>\n",
       "      <th>original_len</th>\n",
       "      <th>clean_len</th>\n",
       "    </tr>\n",
       "  </thead>\n",
       "  <tbody>\n",
       "    <tr>\n",
       "      <th>0</th>\n",
       "      <td>explanationwhy edits made username hardcore me...</td>\n",
       "      <td>0</td>\n",
       "      <td>0</td>\n",
       "      <td>0</td>\n",
       "      <td>0</td>\n",
       "      <td>0</td>\n",
       "      <td>0</td>\n",
       "      <td>264</td>\n",
       "      <td>185</td>\n",
       "    </tr>\n",
       "    <tr>\n",
       "      <th>1</th>\n",
       "      <td>daww match background colour im seemingly stuc...</td>\n",
       "      <td>0</td>\n",
       "      <td>0</td>\n",
       "      <td>0</td>\n",
       "      <td>0</td>\n",
       "      <td>0</td>\n",
       "      <td>0</td>\n",
       "      <td>112</td>\n",
       "      <td>98</td>\n",
       "    </tr>\n",
       "    <tr>\n",
       "      <th>2</th>\n",
       "      <td>hey man im really trying edit war guy constant...</td>\n",
       "      <td>0</td>\n",
       "      <td>0</td>\n",
       "      <td>0</td>\n",
       "      <td>0</td>\n",
       "      <td>0</td>\n",
       "      <td>0</td>\n",
       "      <td>233</td>\n",
       "      <td>144</td>\n",
       "    </tr>\n",
       "    <tr>\n",
       "      <th>3</th>\n",
       "      <td>morei make real suggestion improvement wondere...</td>\n",
       "      <td>0</td>\n",
       "      <td>0</td>\n",
       "      <td>0</td>\n",
       "      <td>0</td>\n",
       "      <td>0</td>\n",
       "      <td>0</td>\n",
       "      <td>622</td>\n",
       "      <td>376</td>\n",
       "    </tr>\n",
       "    <tr>\n",
       "      <th>4</th>\n",
       "      <td>sir hero chance remember page thats</td>\n",
       "      <td>0</td>\n",
       "      <td>0</td>\n",
       "      <td>0</td>\n",
       "      <td>0</td>\n",
       "      <td>0</td>\n",
       "      <td>0</td>\n",
       "      <td>67</td>\n",
       "      <td>35</td>\n",
       "    </tr>\n",
       "  </tbody>\n",
       "</table>\n",
       "</div>"
      ],
      "text/plain": [
       "                                        comment_text  malignant  \\\n",
       "0  explanationwhy edits made username hardcore me...          0   \n",
       "1  daww match background colour im seemingly stuc...          0   \n",
       "2  hey man im really trying edit war guy constant...          0   \n",
       "3  morei make real suggestion improvement wondere...          0   \n",
       "4                sir hero chance remember page thats          0   \n",
       "\n",
       "   highly_malignant  rude  threat  abuse  loathe  original_len  clean_len  \n",
       "0                 0     0       0      0       0           264        185  \n",
       "1                 0     0       0      0       0           112         98  \n",
       "2                 0     0       0      0       0           233        144  \n",
       "3                 0     0       0      0       0           622        376  \n",
       "4                 0     0       0      0       0            67         35  "
      ]
     },
     "execution_count": 26,
     "metadata": {},
     "output_type": "execute_result"
    }
   ],
   "source": [
    "df_train.head()"
   ]
  },
  {
   "cell_type": "code",
   "execution_count": 27,
   "id": "732b6543",
   "metadata": {},
   "outputs": [],
   "source": [
    "#making one target column\n",
    "df_train['label']= df_train['malignant'] | df_train['highly_malignant'] | df_train['rude'] | df_train['threat'] | df_train['abuse'] | df_train['loathe']"
   ]
  },
  {
   "cell_type": "code",
   "execution_count": 28,
   "id": "a469860e",
   "metadata": {},
   "outputs": [
    {
     "name": "stdout",
     "output_type": "stream",
     "text": [
      "Original lenth is  62798218\n",
      "Cleaned length is  40588496\n"
     ]
    }
   ],
   "source": [
    "print('Original lenth is ', df_train.original_len.sum())\n",
    "print('Cleaned length is ', df_train.clean_len.sum())"
   ]
  },
  {
   "cell_type": "markdown",
   "id": "c6a512c6",
   "metadata": {},
   "source": [
    "# Test data"
   ]
  },
  {
   "cell_type": "code",
   "execution_count": 29,
   "id": "68133d67",
   "metadata": {},
   "outputs": [
    {
     "data": {
      "text/html": [
       "<div>\n",
       "<style scoped>\n",
       "    .dataframe tbody tr th:only-of-type {\n",
       "        vertical-align: middle;\n",
       "    }\n",
       "\n",
       "    .dataframe tbody tr th {\n",
       "        vertical-align: top;\n",
       "    }\n",
       "\n",
       "    .dataframe thead th {\n",
       "        text-align: right;\n",
       "    }\n",
       "</style>\n",
       "<table border=\"1\" class=\"dataframe\">\n",
       "  <thead>\n",
       "    <tr style=\"text-align: right;\">\n",
       "      <th></th>\n",
       "      <th>id</th>\n",
       "      <th>comment_text</th>\n",
       "    </tr>\n",
       "  </thead>\n",
       "  <tbody>\n",
       "    <tr>\n",
       "      <th>0</th>\n",
       "      <td>00001cee341fdb12</td>\n",
       "      <td>Yo bitch Ja Rule is more succesful then you'll...</td>\n",
       "    </tr>\n",
       "    <tr>\n",
       "      <th>1</th>\n",
       "      <td>0000247867823ef7</td>\n",
       "      <td>== From RfC == \\n\\n The title is fine as it is...</td>\n",
       "    </tr>\n",
       "    <tr>\n",
       "      <th>2</th>\n",
       "      <td>00013b17ad220c46</td>\n",
       "      <td>\" \\n\\n == Sources == \\n\\n * Zawe Ashton on Lap...</td>\n",
       "    </tr>\n",
       "    <tr>\n",
       "      <th>3</th>\n",
       "      <td>00017563c3f7919a</td>\n",
       "      <td>:If you have a look back at the source, the in...</td>\n",
       "    </tr>\n",
       "    <tr>\n",
       "      <th>4</th>\n",
       "      <td>00017695ad8997eb</td>\n",
       "      <td>I don't anonymously edit articles at all.</td>\n",
       "    </tr>\n",
       "  </tbody>\n",
       "</table>\n",
       "</div>"
      ],
      "text/plain": [
       "                 id                                       comment_text\n",
       "0  00001cee341fdb12  Yo bitch Ja Rule is more succesful then you'll...\n",
       "1  0000247867823ef7  == From RfC == \\n\\n The title is fine as it is...\n",
       "2  00013b17ad220c46  \" \\n\\n == Sources == \\n\\n * Zawe Ashton on Lap...\n",
       "3  00017563c3f7919a  :If you have a look back at the source, the in...\n",
       "4  00017695ad8997eb          I don't anonymously edit articles at all."
      ]
     },
     "execution_count": 29,
     "metadata": {},
     "output_type": "execute_result"
    }
   ],
   "source": [
    "df_test = pd.read_csv('Malignant Comments Classifier_test.csv')\n",
    "df_test.head()"
   ]
  },
  {
   "cell_type": "code",
   "execution_count": 30,
   "id": "22d0d23c",
   "metadata": {},
   "outputs": [
    {
     "data": {
      "text/plain": [
       "(153164, 2)"
      ]
     },
     "execution_count": 30,
     "metadata": {},
     "output_type": "execute_result"
    }
   ],
   "source": [
    "df_test.shape"
   ]
  },
  {
   "cell_type": "code",
   "execution_count": 31,
   "id": "a05bb223",
   "metadata": {},
   "outputs": [],
   "source": [
    "df_test.drop('id', axis=1, inplace=True)"
   ]
  },
  {
   "cell_type": "code",
   "execution_count": 32,
   "id": "7c8e4892",
   "metadata": {},
   "outputs": [],
   "source": [
    "df_test[\"comment_text\"] = df_test[\"comment_text\"].str.lower()"
   ]
  },
  {
   "cell_type": "code",
   "execution_count": 33,
   "id": "30f56b71",
   "metadata": {},
   "outputs": [],
   "source": [
    "df_test[\"original_len\"] = df_test[\"comment_text\"].str.len() "
   ]
  },
  {
   "cell_type": "code",
   "execution_count": 34,
   "id": "37536e83",
   "metadata": {},
   "outputs": [
    {
     "data": {
      "text/html": [
       "<div>\n",
       "<style scoped>\n",
       "    .dataframe tbody tr th:only-of-type {\n",
       "        vertical-align: middle;\n",
       "    }\n",
       "\n",
       "    .dataframe tbody tr th {\n",
       "        vertical-align: top;\n",
       "    }\n",
       "\n",
       "    .dataframe thead th {\n",
       "        text-align: right;\n",
       "    }\n",
       "</style>\n",
       "<table border=\"1\" class=\"dataframe\">\n",
       "  <thead>\n",
       "    <tr style=\"text-align: right;\">\n",
       "      <th></th>\n",
       "      <th>comment_text</th>\n",
       "      <th>original_len</th>\n",
       "    </tr>\n",
       "  </thead>\n",
       "  <tbody>\n",
       "    <tr>\n",
       "      <th>0</th>\n",
       "      <td>yo bitch ja rule is more succesful then you'll...</td>\n",
       "      <td>367</td>\n",
       "    </tr>\n",
       "    <tr>\n",
       "      <th>1</th>\n",
       "      <td>== from rfc == \\n\\n the title is fine as it is...</td>\n",
       "      <td>50</td>\n",
       "    </tr>\n",
       "    <tr>\n",
       "      <th>2</th>\n",
       "      <td>\" \\n\\n == sources == \\n\\n * zawe ashton on lap...</td>\n",
       "      <td>54</td>\n",
       "    </tr>\n",
       "    <tr>\n",
       "      <th>3</th>\n",
       "      <td>:if you have a look back at the source, the in...</td>\n",
       "      <td>205</td>\n",
       "    </tr>\n",
       "    <tr>\n",
       "      <th>4</th>\n",
       "      <td>i don't anonymously edit articles at all.</td>\n",
       "      <td>41</td>\n",
       "    </tr>\n",
       "  </tbody>\n",
       "</table>\n",
       "</div>"
      ],
      "text/plain": [
       "                                        comment_text  original_len\n",
       "0  yo bitch ja rule is more succesful then you'll...           367\n",
       "1  == from rfc == \\n\\n the title is fine as it is...            50\n",
       "2  \" \\n\\n == sources == \\n\\n * zawe ashton on lap...            54\n",
       "3  :if you have a look back at the source, the in...           205\n",
       "4          i don't anonymously edit articles at all.            41"
      ]
     },
     "execution_count": 34,
     "metadata": {},
     "output_type": "execute_result"
    }
   ],
   "source": [
    "df_test.head()"
   ]
  },
  {
   "cell_type": "code",
   "execution_count": 35,
   "id": "3e88bef5",
   "metadata": {},
   "outputs": [],
   "source": [
    "#replacing with email address\n",
    "df_test[\"comment_text\"]= df_test[\"comment_text\"].str.replace(r'^.+@[^\\.].*\\.[a-z]{2,}$',\"emailaddress\")\n",
    "\n",
    "#replacing with web address                                                   \n",
    "df_test[\"comment_text\"]= df_test[\"comment_text\"].str.replace(r'^http\\://[a-zA-Z0-9\\-\\.]+\\.[a-zA-Z]{2,3}(/\\s*)?$',\"webaddress\")\n",
    "                    \n",
    "#replacing with number\n",
    "df_test[\"comment_text\"]= df_test[\"comment_text\"].str.replace(r'\\d+(\\.\\d+)?',\"number\")\n",
    "\n",
    "#remove  punctation\n",
    "df_test[\"comment_text\"]=df_test[\"comment_text\"].str.replace(r'[^\\w\\d\\s]',\" \")\n",
    "\n",
    "# replace extra space\n",
    "df_test[\"comment_text\"]=df_test[\"comment_text\"].str.replace(r'^\\s+',\" \")\n",
    "\n",
    "#replacing leading and trailing white space\n",
    "df_test[\"comment_text\"]=df_test[\"comment_text\"].str.replace(r'^\\s+|\\s+?$', \"\")\n",
    "\n",
    "#replacing with\\n\n",
    "df_test[\"comment_text\"]=df_test[\"comment_text\"].str.replace(\"\\n\",\" \")"
   ]
  },
  {
   "cell_type": "code",
   "execution_count": 36,
   "id": "75561630",
   "metadata": {},
   "outputs": [],
   "source": [
    "# remove stopwords\n",
    "stop_words = set(stopwords.words('english') + [\"m\",\"ur\",\"aww\",\"d\",\"dont\",\"cant\",\"doin\",\"ja\",\"u\"])\n",
    "df_test[\"comment_text\"]= df_test[\"comment_text\"].apply(lambda x: ' '.join(\n",
    "    term for term in x.split() if term not in stop_words ))"
   ]
  },
  {
   "cell_type": "code",
   "execution_count": 37,
   "id": "f892c964",
   "metadata": {},
   "outputs": [],
   "source": [
    "lem=WordNetLemmatizer()\n",
    "df_test['comment_text'] = df_test['comment_text'].apply(lambda x: ' '.join(\n",
    " lem.lemmatize(word) for word in x.split()))"
   ]
  },
  {
   "cell_type": "code",
   "execution_count": 38,
   "id": "15359513",
   "metadata": {},
   "outputs": [],
   "source": [
    "df_test[\"clean_len\"] = df_test[\"comment_text\"].str.len() "
   ]
  },
  {
   "cell_type": "code",
   "execution_count": 39,
   "id": "20f9038a",
   "metadata": {},
   "outputs": [
    {
     "data": {
      "text/html": [
       "<div>\n",
       "<style scoped>\n",
       "    .dataframe tbody tr th:only-of-type {\n",
       "        vertical-align: middle;\n",
       "    }\n",
       "\n",
       "    .dataframe tbody tr th {\n",
       "        vertical-align: top;\n",
       "    }\n",
       "\n",
       "    .dataframe thead th {\n",
       "        text-align: right;\n",
       "    }\n",
       "</style>\n",
       "<table border=\"1\" class=\"dataframe\">\n",
       "  <thead>\n",
       "    <tr style=\"text-align: right;\">\n",
       "      <th></th>\n",
       "      <th>comment_text</th>\n",
       "      <th>original_len</th>\n",
       "      <th>clean_len</th>\n",
       "    </tr>\n",
       "  </thead>\n",
       "  <tbody>\n",
       "    <tr>\n",
       "      <th>0</th>\n",
       "      <td>yo bitch rule succesful ever whats hating sad ...</td>\n",
       "      <td>367</td>\n",
       "      <td>221</td>\n",
       "    </tr>\n",
       "    <tr>\n",
       "      <th>1</th>\n",
       "      <td>rfc title fine imo</td>\n",
       "      <td>50</td>\n",
       "      <td>18</td>\n",
       "    </tr>\n",
       "    <tr>\n",
       "      <th>2</th>\n",
       "      <td>source zawe ashton lapland</td>\n",
       "      <td>54</td>\n",
       "      <td>26</td>\n",
       "    </tr>\n",
       "    <tr>\n",
       "      <th>3</th>\n",
       "      <td>look back source information updated correct f...</td>\n",
       "      <td>205</td>\n",
       "      <td>109</td>\n",
       "    </tr>\n",
       "    <tr>\n",
       "      <th>4</th>\n",
       "      <td>anonymously edit article</td>\n",
       "      <td>41</td>\n",
       "      <td>24</td>\n",
       "    </tr>\n",
       "  </tbody>\n",
       "</table>\n",
       "</div>"
      ],
      "text/plain": [
       "                                        comment_text  original_len  clean_len\n",
       "0  yo bitch rule succesful ever whats hating sad ...           367        221\n",
       "1                                 rfc title fine imo            50         18\n",
       "2                         source zawe ashton lapland            54         26\n",
       "3  look back source information updated correct f...           205        109\n",
       "4                           anonymously edit article            41         24"
      ]
     },
     "execution_count": 39,
     "metadata": {},
     "output_type": "execute_result"
    }
   ],
   "source": [
    "df_test.head()"
   ]
  },
  {
   "cell_type": "code",
   "execution_count": 40,
   "id": "8567fd84",
   "metadata": {},
   "outputs": [
    {
     "name": "stdout",
     "output_type": "stream",
     "text": [
      "original length 51972014\n",
      "cleaned length 32976763\n"
     ]
    }
   ],
   "source": [
    "print('original length',df_test.original_len.sum())\n",
    "print('cleaned length',df_test.clean_len.sum())"
   ]
  },
  {
   "cell_type": "code",
   "execution_count": 41,
   "id": "4abd83bc",
   "metadata": {},
   "outputs": [],
   "source": [
    "from sklearn.naive_bayes import MultinomialNB\n",
    "from sklearn.model_selection import train_test_split,cross_val_score\n",
    "from sklearn.metrics import accuracy_score,classification_report\n",
    "from sklearn.linear_model import LogisticRegression\n",
    "from sklearn.tree import DecisionTreeClassifier\n",
    "from sklearn.ensemble import BaggingClassifier,AdaBoostClassifier\n",
    "from sklearn.neighbors import KNeighborsClassifier\n",
    "from sklearn.svm import SVC\n",
    "from sklearn.metrics import confusion_matrix\n",
    "from sklearn.metrics import log_loss\n",
    "from sklearn.metrics import roc_auc_score\n",
    "from sklearn.feature_extraction.text import TfidfVectorizer"
   ]
  },
  {
   "cell_type": "code",
   "execution_count": 42,
   "id": "c852973d",
   "metadata": {},
   "outputs": [],
   "source": [
    "#using tfidf vectorizer to convert text into vector as our machine learning model only understands numerical value\n",
    "tf= TfidfVectorizer()\n",
    "features = tf.fit_transform(df_train[\"comment_text\"])\n",
    "x= features\n",
    "y= df_train[\"label\"]"
   ]
  },
  {
   "cell_type": "code",
   "execution_count": 43,
   "id": "c5add15a",
   "metadata": {},
   "outputs": [],
   "source": [
    "x_train,x_test,y_train,y_test = train_test_split(x,y,random_state=80)"
   ]
  },
  {
   "cell_type": "markdown",
   "id": "f83abe19",
   "metadata": {},
   "source": [
    "# Logistic Regression"
   ]
  },
  {
   "cell_type": "code",
   "execution_count": 44,
   "id": "310f10f3",
   "metadata": {},
   "outputs": [
    {
     "name": "stdout",
     "output_type": "stream",
     "text": [
      "Accuracy Score:  0.951394981575715\n",
      "Confusion Matrix: \n",
      " [[35600   170]\n",
      " [ 1769  2354]]\n",
      "Classification Report: \n",
      "                precision    recall  f1-score   support\n",
      "\n",
      "           0       0.95      1.00      0.97     35770\n",
      "           1       0.93      0.57      0.71      4123\n",
      "\n",
      "    accuracy                           0.95     39893\n",
      "   macro avg       0.94      0.78      0.84     39893\n",
      "weighted avg       0.95      0.95      0.95     39893\n",
      "\n",
      "Log Loss:  1.6787612704307768\n"
     ]
    }
   ],
   "source": [
    "lr= LogisticRegression()\n",
    "lr.fit(x_train,y_train)\n",
    "predlr= lr.predict(x_test)\n",
    "print('Accuracy Score: ',accuracy_score(y_test,predlr))\n",
    "print('Confusion Matrix: \\n',confusion_matrix(y_test,predlr))\n",
    "print('Classification Report: \\n ',classification_report(y_test,predlr))\n",
    "print('Log Loss: ',log_loss(y_test,predlr))"
   ]
  },
  {
   "cell_type": "code",
   "execution_count": 45,
   "id": "30998ee7",
   "metadata": {},
   "outputs": [
    {
     "data": {
      "image/png": "[encoded data removed]",
      "text/plain": [
       "<Figure size 432x288 with 2 Axes>"
      ]
     },
     "metadata": {
      "needs_background": "light"
     },
     "output_type": "display_data"
    }
   ],
   "source": [
    "matrix= confusion_matrix(y_test, predlr)\n",
    "df = pd.DataFrame(matrix)\n",
    "sns.heatmap(df, annot=True, fmt='d')\n",
    "plt.title('Confusion Matrix')\n",
    "plt.xlabel('Predicted Label')\n",
    "plt.ylabel('True Label')\n",
    "plt.show()"
   ]
  },
  {
   "cell_type": "markdown",
   "id": "e5c7436d",
   "metadata": {},
   "source": [
    "# MultinomialNB"
   ]
  },
  {
   "cell_type": "code",
   "execution_count": 46,
   "id": "702cc10c",
   "metadata": {},
   "outputs": [
    {
     "name": "stdout",
     "output_type": "stream",
     "text": [
      "Accuracy Score:  0.9120647732684932\n",
      "Confusion Matrix: \n",
      " [[35760    10]\n",
      " [ 3498   625]]\n",
      "Classification Report: \n",
      "                precision    recall  f1-score   support\n",
      "\n",
      "           0       0.91      1.00      0.95     35770\n",
      "           1       0.98      0.15      0.26      4123\n",
      "\n",
      "    accuracy                           0.91     39893\n",
      "   macro avg       0.95      0.58      0.61     39893\n",
      "weighted avg       0.92      0.91      0.88     39893\n",
      "\n",
      "Log Loss:  3.0371753337508083\n"
     ]
    }
   ],
   "source": [
    "mnb= MultinomialNB()\n",
    "mnb.fit(x_train,y_train)\n",
    "predmnb= mnb.predict(x_test)\n",
    "print('Accuracy Score: ',accuracy_score(y_test,predmnb))\n",
    "print('Confusion Matrix: \\n',confusion_matrix(y_test,predmnb))\n",
    "print('Classification Report: \\n ',classification_report(y_test,predmnb))\n",
    "print('Log Loss: ',log_loss(y_test,predmnb))"
   ]
  },
  {
   "cell_type": "code",
   "execution_count": 47,
   "id": "083d8204",
   "metadata": {},
   "outputs": [
    {
     "data": {
      "image/png": "[encoded data removed]",
      "text/plain": [
       "<Figure size 432x288 with 2 Axes>"
      ]
     },
     "metadata": {
      "needs_background": "light"
     },
     "output_type": "display_data"
    }
   ],
   "source": [
    "matrix= confusion_matrix(y_test, predmnb)\n",
    "df = pd.DataFrame(matrix)\n",
    "sns.heatmap(df, annot=True, fmt='d')\n",
    "plt.title('Confusion Matrix')\n",
    "plt.xlabel('Predicted Label')\n",
    "plt.ylabel('True Label')\n",
    "plt.show()"
   ]
  },
  {
   "cell_type": "markdown",
   "id": "b9c2a6c3",
   "metadata": {},
   "source": [
    "# AdaBoost Classifier"
   ]
  },
  {
   "cell_type": "code",
   "execution_count": 48,
   "id": "e1b6a4b0",
   "metadata": {},
   "outputs": [
    {
     "name": "stdout",
     "output_type": "stream",
     "text": [
      "Accuracy Score:  0.9440503346451758\n",
      "Confusion Matrix: \n",
      " [[35499   271]\n",
      " [ 1961  2162]]\n",
      "Classification Report: \n",
      "                precision    recall  f1-score   support\n",
      "\n",
      "           0       0.95      0.99      0.97     35770\n",
      "           1       0.89      0.52      0.66      4123\n",
      "\n",
      "    accuracy                           0.94     39893\n",
      "   macro avg       0.92      0.76      0.81     39893\n",
      "weighted avg       0.94      0.94      0.94     39893\n",
      "\n",
      "Log Loss:  1.932438412863015\n"
     ]
    }
   ],
   "source": [
    "abc= AdaBoostClassifier()\n",
    "abc.fit(x_train,y_train)\n",
    "predabc= abc.predict(x_test)\n",
    "print('Accuracy Score: ',accuracy_score(y_test,predabc))\n",
    "print('Confusion Matrix: \\n',confusioen_matrix(y_test,predabc))\n",
    "print('Classification Report: \\n ',classification_report(y_test,predabc))\n",
    "print('Log Loss: ',log_loss(y_test,predabc))"
   ]
  },
  {
   "cell_type": "code",
   "execution_count": 51,
   "id": "f826859b",
   "metadata": {},
   "outputs": [
    {
     "data": {
      "image/png": "[encoded data removed]",
      "text/plain": [
       "<Figure size 432x288 with 2 Axes>"
      ]
     },
     "metadata": {
      "needs_background": "light"
     },
     "output_type": "display_data"
    }
   ],
   "source": [
    "matrix= confusion_matrix(y_test, predabc)\n",
    "df = pd.DataFrame(matrix)\n",
    "sns.heatmap(df, annot=True, fmt='d')\n",
    "plt.title('Confusion Matrix')\n",
    "plt.xlabel('Predicted Label')\n",
    "plt.ylabel('True Label')\n",
    "plt.show()"
   ]
  },
  {
   "cell_type": "markdown",
   "id": "7d4dcd23",
   "metadata": {},
   "source": [
    "# Random Forest Classifier"
   ]
  },
  {
   "cell_type": "code",
   "execution_count": 49,
   "id": "0bc4ad72",
   "metadata": {},
   "outputs": [
    {
     "name": "stdout",
     "output_type": "stream",
     "text": [
      "Accuracy Score:  0.9481863986162986\n",
      "Confusion Matrix: \n",
      " [[35610   160]\n",
      " [ 1907  2216]]\n",
      "Classification Report: \n",
      "                precision    recall  f1-score   support\n",
      "\n",
      "           0       0.95      1.00      0.97     35770\n",
      "           1       0.93      0.54      0.68      4123\n",
      "\n",
      "    accuracy                           0.95     39893\n",
      "   macro avg       0.94      0.77      0.83     39893\n",
      "weighted avg       0.95      0.95      0.94     39893\n",
      "\n",
      "Log Loss:  1.7895815993750595\n"
     ]
    }
   ],
   "source": [
    "from sklearn.ensemble import RandomForestClassifier\n",
    "rf= RandomForestClassifier()\n",
    "rf.fit(x_train, y_train)\n",
    "predrf= rf.predict(x_test)\n",
    "print('Accuracy Score: ',accuracy_score(y_test,predrf))\n",
    "print('Confusion Matrix: \\n',confusion_matrix(y_test,predrf))\n",
    "print('Classification Report: \\n ',classification_report(y_test,predrf))\n",
    "print('Log Loss: ',log_loss(y_test,predrf))"
   ]
  },
  {
   "cell_type": "code",
   "execution_count": 50,
   "id": "fb4aad9c",
   "metadata": {},
   "outputs": [
    {
     "data": {
      "image/png": "[encoded data removed]",
      "text/plain": [
       "<Figure size 432x288 with 2 Axes>"
      ]
     },
     "metadata": {
      "needs_background": "light"
     },
     "output_type": "display_data"
    }
   ],
   "source": [
    "matrix= confusion_matrix(y_test, predrf)\n",
    "df = pd.DataFrame(matrix)\n",
    "sns.heatmap(df, annot=True, fmt='d')\n",
    "plt.title('Confusion Matrix')\n",
    "plt.xlabel('Predicted Label')\n",
    "plt.ylabel('True Label')\n",
    "plt.show()"
   ]
  },
  {
   "cell_type": "markdown",
   "id": "cab1f57b",
   "metadata": {},
   "source": [
    "From above, we can see that logistic regression has the best accuracy and f1 score, so we will go ahead with logistic regression"
   ]
  },
  {
   "cell_type": "markdown",
   "id": "d809e55c",
   "metadata": {},
   "source": [
    "# Hyperparameter tunning"
   ]
  },
  {
   "cell_type": "code",
   "execution_count": 52,
   "id": "d13df573",
   "metadata": {},
   "outputs": [],
   "source": [
    "from sklearn.model_selection import RandomizedSearchCV\n",
    "param =      {'warm_start':[True,False],\n",
    "            'dual':[True,False],\n",
    "              'random_state':[50,70,100]}"
   ]
  },
  {
   "cell_type": "code",
   "execution_count": 54,
   "id": "4667d5b5",
   "metadata": {},
   "outputs": [
    {
     "name": "stdout",
     "output_type": "stream",
     "text": [
      "Accuracy Score:  0.951394981575715\n",
      "Confusion Matrix: \n",
      " [[35600   170]\n",
      " [ 1769  2354]]\n",
      "Classification Report: \n",
      "                precision    recall  f1-score   support\n",
      "\n",
      "           0       0.95      1.00      0.97     35770\n",
      "           1       0.93      0.57      0.71      4123\n",
      "\n",
      "    accuracy                           0.95     39893\n",
      "   macro avg       0.94      0.78      0.84     39893\n",
      "weighted avg       0.95      0.95      0.95     39893\n",
      "\n"
     ]
    }
   ],
   "source": [
    "random_search = RandomizedSearchCV(lr,param_distributions=param,cv=2)\n",
    "random_search.fit(x_train,y_train)\n",
    "random_search.best_params_\n",
    "lr= LogisticRegression(warm_start=False,random_state=50,dual=False)\n",
    "lr.fit(x_train,y_train)\n",
    "predlrr= lr.predict(x_test)\n",
    "print('Accuracy Score: ',accuracy_score(y_test,predlrr))\n",
    "print('Confusion Matrix: \\n',confusion_matrix(y_test,predlrr))\n",
    "print('Classification Report: \\n ',classification_report(y_test,predlrr))"
   ]
  },
  {
   "cell_type": "code",
   "execution_count": 55,
   "id": "9e0e89cf",
   "metadata": {},
   "outputs": [
    {
     "data": {
      "image/png": "[encoded data removed]",
      "text/plain": [
       "<Figure size 432x288 with 2 Axes>"
      ]
     },
     "metadata": {
      "needs_background": "light"
     },
     "output_type": "display_data"
    }
   ],
   "source": [
    "matrix= confusion_matrix(y_test, predlrr)\n",
    "df = pd.DataFrame(matrix)\n",
    "sns.heatmap(df, annot=True, fmt='d')\n",
    "plt.title('Confusion Matrix')\n",
    "plt.xlabel('Predicted Label')\n",
    "plt.ylabel('True Label')\n",
    "plt.show()"
   ]
  },
  {
   "cell_type": "markdown",
   "id": "d7218b9f",
   "metadata": {},
   "source": [
    "# AUC ROC Curve"
   ]
  },
  {
   "cell_type": "code",
   "execution_count": 56,
   "id": "16804aab",
   "metadata": {},
   "outputs": [],
   "source": [
    "from sklearn.metrics import roc_curve\n",
    "from sklearn.metrics import roc_auc_score"
   ]
  },
  {
   "cell_type": "code",
   "execution_count": 58,
   "id": "a89ee353",
   "metadata": {},
   "outputs": [
    {
     "data": {
      "text/plain": [
       "array([0.04088324, 0.01460928, 0.04855994, ..., 0.11275057, 0.04655775,\n",
       "       0.1280449 ])"
      ]
     },
     "execution_count": 58,
     "metadata": {},
     "output_type": "execute_result"
    }
   ],
   "source": [
    "y=lr.predict_proba(x_test)[:,1]\n",
    "y"
   ]
  },
  {
   "cell_type": "code",
   "execution_count": 59,
   "id": "d5ba4fe1",
   "metadata": {},
   "outputs": [],
   "source": [
    "fpr,tpr,thresholds=roc_curve(y_test,y)"
   ]
  },
  {
   "cell_type": "code",
   "execution_count": 60,
   "id": "7497ed23",
   "metadata": {},
   "outputs": [
    {
     "data": {
      "text/plain": [
       "array([0.        , 0.        , 0.        , ..., 0.99924518, 0.99930109,\n",
       "       1.        ])"
      ]
     },
     "execution_count": 60,
     "metadata": {},
     "output_type": "execute_result"
    }
   ],
   "source": [
    "fpr"
   ]
  },
  {
   "cell_type": "code",
   "execution_count": 61,
   "id": "1cfa244a",
   "metadata": {},
   "outputs": [
    {
     "data": {
      "text/plain": [
       "array([0.00000000e+00, 2.42541838e-04, 4.60829493e-03, ...,\n",
       "       1.00000000e+00, 1.00000000e+00, 1.00000000e+00])"
      ]
     },
     "execution_count": 61,
     "metadata": {},
     "output_type": "execute_result"
    }
   ],
   "source": [
    "tpr"
   ]
  },
  {
   "cell_type": "code",
   "execution_count": 62,
   "id": "8a8af2ae",
   "metadata": {},
   "outputs": [
    {
     "data": {
      "text/plain": [
       "array([2.00000000e+00, 1.00000000e+00, 9.99999906e-01, ...,\n",
       "       2.63371298e-04, 2.57511245e-04, 6.02931047e-05])"
      ]
     },
     "execution_count": 62,
     "metadata": {},
     "output_type": "execute_result"
    }
   ],
   "source": [
    "thresholds"
   ]
  },
  {
   "cell_type": "code",
   "execution_count": 64,
   "id": "644b30c7",
   "metadata": {},
   "outputs": [
    {
     "data": {
      "image/png": "[encoded data removed]",
      "text/plain": [
       "<Figure size 432x288 with 1 Axes>"
      ]
     },
     "metadata": {
      "needs_background": "light"
     },
     "output_type": "display_data"
    }
   ],
   "source": [
    "plt.plot([0,1],[0,1],'k--')\n",
    "plt.plot(fpr,tpr,label='Logistic Regression')\n",
    "plt.xlabel('False Positive Rate')\n",
    "plt.ylabel('True Positive Rate')\n",
    "plt.title('Logistic Regression')\n",
    "plt.show()"
   ]
  },
  {
   "cell_type": "code",
   "execution_count": 65,
   "id": "e064ca6e",
   "metadata": {},
   "outputs": [
    {
     "name": "stdout",
     "output_type": "stream",
     "text": [
      "0.7830954508928719\n"
     ]
    }
   ],
   "source": [
    "score= roc_auc_score(y_test, lr.predict(x_test))\n",
    "print(score)"
   ]
  },
  {
   "cell_type": "markdown",
   "id": "13ac96f3",
   "metadata": {},
   "source": [
    "# saving model in pickle format"
   ]
  },
  {
   "cell_type": "code",
   "execution_count": 68,
   "id": "816304fe",
   "metadata": {},
   "outputs": [],
   "source": [
    "import pickle\n",
    "filename='Malignant Comments Classifier .pkl'\n",
    "pickle.dump(lr,open(filename,\"wb\"))"
   ]
  },
  {
   "cell_type": "markdown",
   "id": "d4b43795",
   "metadata": {},
   "source": [
    "# Conclusion"
   ]
  },
  {
   "cell_type": "code",
   "execution_count": 69,
   "id": "e32ee830",
   "metadata": {},
   "outputs": [
    {
     "name": "stdout",
     "output_type": "stream",
     "text": [
      "0.951394981575715\n"
     ]
    }
   ],
   "source": [
    "model=pickle.load(open('Malignant Comments Classifier .pkl',\"rb\"))\n",
    "result=model.score(x_test,y_test)\n",
    "print(result)"
   ]
  },
  {
   "cell_type": "code",
   "execution_count": 70,
   "id": "ba0c3ff4",
   "metadata": {},
   "outputs": [
    {
     "data": {
      "text/html": [
       "<div>\n",
       "<style scoped>\n",
       "    .dataframe tbody tr th:only-of-type {\n",
       "        vertical-align: middle;\n",
       "    }\n",
       "\n",
       "    .dataframe tbody tr th {\n",
       "        vertical-align: top;\n",
       "    }\n",
       "\n",
       "    .dataframe thead th {\n",
       "        text-align: right;\n",
       "    }\n",
       "</style>\n",
       "<table border=\"1\" class=\"dataframe\">\n",
       "  <thead>\n",
       "    <tr style=\"text-align: right;\">\n",
       "      <th></th>\n",
       "      <th>0</th>\n",
       "      <th>1</th>\n",
       "      <th>2</th>\n",
       "      <th>3</th>\n",
       "      <th>4</th>\n",
       "      <th>5</th>\n",
       "      <th>6</th>\n",
       "      <th>7</th>\n",
       "      <th>8</th>\n",
       "      <th>9</th>\n",
       "      <th>...</th>\n",
       "      <th>39883</th>\n",
       "      <th>39884</th>\n",
       "      <th>39885</th>\n",
       "      <th>39886</th>\n",
       "      <th>39887</th>\n",
       "      <th>39888</th>\n",
       "      <th>39889</th>\n",
       "      <th>39890</th>\n",
       "      <th>39891</th>\n",
       "      <th>39892</th>\n",
       "    </tr>\n",
       "  </thead>\n",
       "  <tbody>\n",
       "    <tr>\n",
       "      <th>Predicted</th>\n",
       "      <td>0</td>\n",
       "      <td>0</td>\n",
       "      <td>0</td>\n",
       "      <td>0</td>\n",
       "      <td>0</td>\n",
       "      <td>0</td>\n",
       "      <td>0</td>\n",
       "      <td>0</td>\n",
       "      <td>0</td>\n",
       "      <td>0</td>\n",
       "      <td>...</td>\n",
       "      <td>0</td>\n",
       "      <td>0</td>\n",
       "      <td>0</td>\n",
       "      <td>0</td>\n",
       "      <td>0</td>\n",
       "      <td>0</td>\n",
       "      <td>0</td>\n",
       "      <td>0</td>\n",
       "      <td>0</td>\n",
       "      <td>0</td>\n",
       "    </tr>\n",
       "    <tr>\n",
       "      <th>Original</th>\n",
       "      <td>0</td>\n",
       "      <td>0</td>\n",
       "      <td>0</td>\n",
       "      <td>0</td>\n",
       "      <td>0</td>\n",
       "      <td>0</td>\n",
       "      <td>0</td>\n",
       "      <td>0</td>\n",
       "      <td>0</td>\n",
       "      <td>0</td>\n",
       "      <td>...</td>\n",
       "      <td>0</td>\n",
       "      <td>0</td>\n",
       "      <td>0</td>\n",
       "      <td>0</td>\n",
       "      <td>0</td>\n",
       "      <td>0</td>\n",
       "      <td>0</td>\n",
       "      <td>0</td>\n",
       "      <td>0</td>\n",
       "      <td>0</td>\n",
       "    </tr>\n",
       "  </tbody>\n",
       "</table>\n",
       "<p>2 rows × 39893 columns</p>\n",
       "</div>"
      ],
      "text/plain": [
       "           0      1      2      3      4      5      6      7      8      \\\n",
       "Predicted      0      0      0      0      0      0      0      0      0   \n",
       "Original       0      0      0      0      0      0      0      0      0   \n",
       "\n",
       "           9      ...  39883  39884  39885  39886  39887  39888  39889  39890  \\\n",
       "Predicted      0  ...      0      0      0      0      0      0      0      0   \n",
       "Original       0  ...      0      0      0      0      0      0      0      0   \n",
       "\n",
       "           39891  39892  \n",
       "Predicted      0      0  \n",
       "Original       0      0  \n",
       "\n",
       "[2 rows x 39893 columns]"
      ]
     },
     "execution_count": 70,
     "metadata": {},
     "output_type": "execute_result"
    }
   ],
   "source": [
    "conclusion=pd.DataFrame([model.predict(x_test)[:]],index=[\"Predicted\",\"Original\"])\n",
    "conclusion"
   ]
  },
  {
   "cell_type": "markdown",
   "id": "a9a1cf9b",
   "metadata": {},
   "source": [
    "# verifying model on testing data"
   ]
  },
  {
   "cell_type": "code",
   "execution_count": 71,
   "id": "78103beb",
   "metadata": {},
   "outputs": [
    {
     "data": {
      "text/html": [
       "<div>\n",
       "<style scoped>\n",
       "    .dataframe tbody tr th:only-of-type {\n",
       "        vertical-align: middle;\n",
       "    }\n",
       "\n",
       "    .dataframe tbody tr th {\n",
       "        vertical-align: top;\n",
       "    }\n",
       "\n",
       "    .dataframe thead th {\n",
       "        text-align: right;\n",
       "    }\n",
       "</style>\n",
       "<table border=\"1\" class=\"dataframe\">\n",
       "  <thead>\n",
       "    <tr style=\"text-align: right;\">\n",
       "      <th></th>\n",
       "      <th>0</th>\n",
       "    </tr>\n",
       "  </thead>\n",
       "  <tbody>\n",
       "    <tr>\n",
       "      <th>0</th>\n",
       "      <td>1</td>\n",
       "    </tr>\n",
       "    <tr>\n",
       "      <th>1</th>\n",
       "      <td>0</td>\n",
       "    </tr>\n",
       "    <tr>\n",
       "      <th>2</th>\n",
       "      <td>0</td>\n",
       "    </tr>\n",
       "    <tr>\n",
       "      <th>3</th>\n",
       "      <td>0</td>\n",
       "    </tr>\n",
       "    <tr>\n",
       "      <th>4</th>\n",
       "      <td>0</td>\n",
       "    </tr>\n",
       "    <tr>\n",
       "      <th>...</th>\n",
       "      <td>...</td>\n",
       "    </tr>\n",
       "    <tr>\n",
       "      <th>153159</th>\n",
       "      <td>1</td>\n",
       "    </tr>\n",
       "    <tr>\n",
       "      <th>153160</th>\n",
       "      <td>0</td>\n",
       "    </tr>\n",
       "    <tr>\n",
       "      <th>153161</th>\n",
       "      <td>0</td>\n",
       "    </tr>\n",
       "    <tr>\n",
       "      <th>153162</th>\n",
       "      <td>0</td>\n",
       "    </tr>\n",
       "    <tr>\n",
       "      <th>153163</th>\n",
       "      <td>1</td>\n",
       "    </tr>\n",
       "  </tbody>\n",
       "</table>\n",
       "<p>153164 rows × 1 columns</p>\n",
       "</div>"
      ],
      "text/plain": [
       "        0\n",
       "0       1\n",
       "1       0\n",
       "2       0\n",
       "3       0\n",
       "4       0\n",
       "...    ..\n",
       "153159  1\n",
       "153160  0\n",
       "153161  0\n",
       "153162  0\n",
       "153163  1\n",
       "\n",
       "[153164 rows x 1 columns]"
      ]
     },
     "execution_count": 71,
     "metadata": {},
     "output_type": "execute_result"
    }
   ],
   "source": [
    "testing_data = tf.transform(df_test[\"comment_text\"])\n",
    "a=lr.predict(testing_data)\n",
    "pd.DataFrame(a)"
   ]
  },
  {
   "cell_type": "code",
   "execution_count": 72,
   "id": "4c7f2560",
   "metadata": {},
   "outputs": [],
   "source": [
    "df_test[\"label\"]=a"
   ]
  },
  {
   "cell_type": "code",
   "execution_count": 73,
   "id": "c5d8bce2",
   "metadata": {},
   "outputs": [
    {
     "data": {
      "text/html": [
       "<div>\n",
       "<style scoped>\n",
       "    .dataframe tbody tr th:only-of-type {\n",
       "        vertical-align: middle;\n",
       "    }\n",
       "\n",
       "    .dataframe tbody tr th {\n",
       "        vertical-align: top;\n",
       "    }\n",
       "\n",
       "    .dataframe thead th {\n",
       "        text-align: right;\n",
       "    }\n",
       "</style>\n",
       "<table border=\"1\" class=\"dataframe\">\n",
       "  <thead>\n",
       "    <tr style=\"text-align: right;\">\n",
       "      <th></th>\n",
       "      <th>comment_text</th>\n",
       "      <th>original_len</th>\n",
       "      <th>clean_len</th>\n",
       "      <th>label</th>\n",
       "    </tr>\n",
       "  </thead>\n",
       "  <tbody>\n",
       "    <tr>\n",
       "      <th>0</th>\n",
       "      <td>yo bitch rule succesful ever whats hating sad ...</td>\n",
       "      <td>367</td>\n",
       "      <td>221</td>\n",
       "      <td>1</td>\n",
       "    </tr>\n",
       "    <tr>\n",
       "      <th>1</th>\n",
       "      <td>rfc title fine imo</td>\n",
       "      <td>50</td>\n",
       "      <td>18</td>\n",
       "      <td>0</td>\n",
       "    </tr>\n",
       "    <tr>\n",
       "      <th>2</th>\n",
       "      <td>source zawe ashton lapland</td>\n",
       "      <td>54</td>\n",
       "      <td>26</td>\n",
       "      <td>0</td>\n",
       "    </tr>\n",
       "    <tr>\n",
       "      <th>3</th>\n",
       "      <td>look back source information updated correct f...</td>\n",
       "      <td>205</td>\n",
       "      <td>109</td>\n",
       "      <td>0</td>\n",
       "    </tr>\n",
       "    <tr>\n",
       "      <th>4</th>\n",
       "      <td>anonymously edit article</td>\n",
       "      <td>41</td>\n",
       "      <td>24</td>\n",
       "      <td>0</td>\n",
       "    </tr>\n",
       "    <tr>\n",
       "      <th>...</th>\n",
       "      <td>...</td>\n",
       "      <td>...</td>\n",
       "      <td>...</td>\n",
       "      <td>...</td>\n",
       "    </tr>\n",
       "    <tr>\n",
       "      <th>153159</th>\n",
       "      <td>totally agree stuff nothing long crap</td>\n",
       "      <td>60</td>\n",
       "      <td>37</td>\n",
       "      <td>1</td>\n",
       "    </tr>\n",
       "    <tr>\n",
       "      <th>153160</th>\n",
       "      <td>throw field home plate get faster throwing cut...</td>\n",
       "      <td>198</td>\n",
       "      <td>107</td>\n",
       "      <td>0</td>\n",
       "    </tr>\n",
       "    <tr>\n",
       "      <th>153161</th>\n",
       "      <td>okinotorishima category see change agree corre...</td>\n",
       "      <td>423</td>\n",
       "      <td>238</td>\n",
       "      <td>0</td>\n",
       "    </tr>\n",
       "    <tr>\n",
       "      <th>153162</th>\n",
       "      <td>one founding nation eu germany law return quit...</td>\n",
       "      <td>502</td>\n",
       "      <td>319</td>\n",
       "      <td>0</td>\n",
       "    </tr>\n",
       "    <tr>\n",
       "      <th>153163</th>\n",
       "      <td>stop already bullshit welcome fool think kind ...</td>\n",
       "      <td>141</td>\n",
       "      <td>74</td>\n",
       "      <td>1</td>\n",
       "    </tr>\n",
       "  </tbody>\n",
       "</table>\n",
       "<p>153164 rows × 4 columns</p>\n",
       "</div>"
      ],
      "text/plain": [
       "                                             comment_text  original_len  \\\n",
       "0       yo bitch rule succesful ever whats hating sad ...           367   \n",
       "1                                      rfc title fine imo            50   \n",
       "2                              source zawe ashton lapland            54   \n",
       "3       look back source information updated correct f...           205   \n",
       "4                                anonymously edit article            41   \n",
       "...                                                   ...           ...   \n",
       "153159              totally agree stuff nothing long crap            60   \n",
       "153160  throw field home plate get faster throwing cut...           198   \n",
       "153161  okinotorishima category see change agree corre...           423   \n",
       "153162  one founding nation eu germany law return quit...           502   \n",
       "153163  stop already bullshit welcome fool think kind ...           141   \n",
       "\n",
       "        clean_len  label  \n",
       "0             221      1  \n",
       "1              18      0  \n",
       "2              26      0  \n",
       "3             109      0  \n",
       "4              24      0  \n",
       "...           ...    ...  \n",
       "153159         37      1  \n",
       "153160        107      0  \n",
       "153161        238      0  \n",
       "153162        319      0  \n",
       "153163         74      1  \n",
       "\n",
       "[153164 rows x 4 columns]"
      ]
     },
     "execution_count": 73,
     "metadata": {},
     "output_type": "execute_result"
    }
   ],
   "source": [
    "df_test"
   ]
  },
  {
   "cell_type": "markdown",
   "id": "32f72795",
   "metadata": {},
   "source": [
    "# saving testing data"
   ]
  },
  {
   "cell_type": "code",
   "execution_count": 74,
   "id": "c14dc0c1",
   "metadata": {},
   "outputs": [],
   "source": [
    "df_test.to_csv(\"test.csv\")"
   ]
  }
 ],
 "metadata": {
  "kernelspec": {
   "display_name": "Python 3",
   "language": "python",
   "name": "python3"
  },
  "language_info": {
   "codemirror_mode": {
    "name": "ipython",
    "version": 3
   },
   "file_extension": ".py",
   "mimetype": "text/x-python",
   "name": "python",
   "nbconvert_exporter": "python",
   "pygments_lexer": "ipython3",
   "version": "3.8.8"
  }
 },
 "nbformat": 4,
 "nbformat_minor": 5
}
