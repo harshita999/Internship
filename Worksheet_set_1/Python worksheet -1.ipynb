{
 "cells": [
  {
   "cell_type": "code",
   "execution_count": 12,
   "id": "214a5213",
   "metadata": {},
   "outputs": [],
   "source": [
    "#Write a python program to find the factorial of a number."
   ]
  },
  {
   "cell_type": "code",
   "execution_count": 13,
   "id": "2547b93f",
   "metadata": {},
   "outputs": [],
   "source": [
    "fact = 1"
   ]
  },
  {
   "cell_type": "code",
   "execution_count": 14,
   "id": "954ae223",
   "metadata": {},
   "outputs": [
    {
     "name": "stdout",
     "output_type": "stream",
     "text": [
      "\n",
      "Enter number5\n",
      "Display fact 120\n"
     ]
    }
   ],
   "source": [
    "num= int(input('\\nEnter number'))\n",
    "while (num>0):\n",
    "    fact*=num     #fact= fact*num\n",
    "    num-=1        #num=num-1\n",
    "\n",
    "print('Display fact',fact)"
   ]
  },
  {
   "cell_type": "code",
   "execution_count": 15,
   "id": "a6e9e157",
   "metadata": {},
   "outputs": [],
   "source": [
    "#Write a python program to find whether a number is prime or composite"
   ]
  },
  {
   "cell_type": "code",
   "execution_count": 19,
   "id": "ecee2800",
   "metadata": {},
   "outputs": [
    {
     "name": "stdout",
     "output_type": "stream",
     "text": [
      "\n",
      "Enter number7\n",
      "7 It is a prime number\n"
     ]
    }
   ],
   "source": [
    "a= int(input('\\nEnter number'))\n",
    "if(a==0 or a==1):\n",
    "    print(a,'It is not prime nor composite')\n",
    "elif a>1:\n",
    "    for i in range(2,a):\n",
    "        if(a%i==0):\n",
    "            print(a,'It is a composite number')\n",
    "    else:\n",
    "        print(a,'It is a prime number')"
   ]
  },
  {
   "cell_type": "code",
   "execution_count": 24,
   "id": "1d979ec6",
   "metadata": {},
   "outputs": [
    {
     "name": "stdout",
     "output_type": "stream",
     "text": [
      "\n",
      "Enter number0\n",
      "0 It is not a prime nor composite\n"
     ]
    }
   ],
   "source": [
    "b= int(input('\\nEnter number'))\n",
    "if(b==0 or b==1):\n",
    "    print(b,'It is not a prime nor composite')\n",
    "elif b>1:\n",
    "    for i in range(2,b):\n",
    "        if(b%i==0):\n",
    "            print(b,'It is a composite number')\n",
    "    else:\n",
    "        print(b,'It is a prime number')"
   ]
  },
  {
   "cell_type": "code",
   "execution_count": 27,
   "id": "56bc32da",
   "metadata": {},
   "outputs": [
    {
     "name": "stdout",
     "output_type": "stream",
     "text": [
      "\n",
      "Enter number10\n",
      "10 It is a composite number\n",
      "10 It is a composite number\n",
      "10 It is a prime number\n"
     ]
    }
   ],
   "source": [
    "b= int(input('\\nEnter number'))\n",
    "if(b==0 or b==1):\n",
    "    print(b,'It is not a prime nor composite')\n",
    "elif b>1:\n",
    "    for i in range(2,b):\n",
    "        if(b%i==0):\n",
    "            print(b,'It is a composite number')\n",
    "    else:\n",
    "        print(b,'It is a prime number')"
   ]
  },
  {
   "cell_type": "code",
   "execution_count": 28,
   "id": "3894e446",
   "metadata": {},
   "outputs": [],
   "source": [
    "#Write a python program to check whether a given string is palindrome or not."
   ]
  },
  {
   "cell_type": "code",
   "execution_count": 30,
   "id": "7e412278",
   "metadata": {},
   "outputs": [
    {
     "name": "stdout",
     "output_type": "stream",
     "text": [
      "Yes, given string is palindrome\n"
     ]
    }
   ],
   "source": [
    "x= 'level'\n",
    "y=''\n",
    "for i in x:\n",
    "    y= i + y\n",
    "if (x==y):\n",
    "    print('Yes, given string is palindrome')\n",
    "else:\n",
    "    print('No, given string is not palindrome')"
   ]
  },
  {
   "cell_type": "code",
   "execution_count": 31,
   "id": "9dcc60a8",
   "metadata": {},
   "outputs": [
    {
     "name": "stdout",
     "output_type": "stream",
     "text": [
      "No, given strong is not palindrome\n"
     ]
    }
   ],
   "source": [
    "x= 'python'\n",
    "y= ''\n",
    "for i in x:\n",
    "    y= i + y\n",
    "if (x==y):\n",
    "    print('Yes, given string is palindrome')\n",
    "else:\n",
    "    print('No, given strong is not palindrome')"
   ]
  },
  {
   "cell_type": "code",
   "execution_count": 32,
   "id": "bf702074",
   "metadata": {},
   "outputs": [],
   "source": [
    "#Write a Python program to get the third side of right-angled triangle from two given sides"
   ]
  },
  {
   "cell_type": "code",
   "execution_count": 33,
   "id": "e31bfaee",
   "metadata": {},
   "outputs": [],
   "source": [
    "import math"
   ]
  },
  {
   "cell_type": "code",
   "execution_count": 34,
   "id": "00665689",
   "metadata": {},
   "outputs": [
    {
     "name": "stdout",
     "output_type": "stream",
     "text": [
      "Enter base8\n",
      "Enter height9\n",
      "Enter angle5\n",
      "Hypotenuse = 5.0\n"
     ]
    }
   ],
   "source": [
    "x= float(input('Enter base'))\n",
    "y= float(input('Enter height'))\n",
    "z= float(input('Enter angle'))\n",
    "\n",
    "a= math.sqrt(x**2 + y**2)\n",
    "print('Hypotenuse =', z)"
   ]
  },
  {
   "cell_type": "code",
   "execution_count": 35,
   "id": "98f58df1",
   "metadata": {},
   "outputs": [],
   "source": [
    "#Write a python program to print the frequency of each of the characters present in a given string"
   ]
  },
  {
   "cell_type": "code",
   "execution_count": 45,
   "id": "8008568f",
   "metadata": {},
   "outputs": [
    {
     "name": "stdout",
     "output_type": "stream",
     "text": [
      "String: counterplot\n",
      "Frequency of each of the character present in the given string is:\n",
      " {'c': 1, 'o': 2, 'u': 1, 'n': 1, 't': 2, 'e': 1, 'r': 1, 'p': 1, 'l': 1}\n"
     ]
    }
   ],
   "source": [
    "string= 'counterplot'\n",
    "print('String:',string)\n",
    "\n",
    "result={}\n",
    "\n",
    "for keys in string:\n",
    "    result[keys]= result.get(keys, 0) + 1\n",
    "    \n",
    "print('Frequency of each of the character present in the given string is:\\n',result)"
   ]
  },
  {
   "cell_type": "code",
   "execution_count": null,
   "id": "1a9288a7",
   "metadata": {},
   "outputs": [],
   "source": []
  }
 ],
 "metadata": {
  "kernelspec": {
   "display_name": "Python 3",
   "language": "python",
   "name": "python3"
  },
  "language_info": {
   "codemirror_mode": {
    "name": "ipython",
    "version": 3
   },
   "file_extension": ".py",
   "mimetype": "text/x-python",
   "name": "python",
   "nbconvert_exporter": "python",
   "pygments_lexer": "ipython3",
   "version": "3.8.8"
  }
 },
 "nbformat": 4,
 "nbformat_minor": 5
}
