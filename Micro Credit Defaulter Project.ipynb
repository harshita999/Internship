{
 "cells": [
  {
   "cell_type": "code",
   "execution_count": 1,
   "id": "9c135f9c",
   "metadata": {},
   "outputs": [],
   "source": [
    "import pandas as pd\n",
    "import numpy as np\n",
    "import seaborn as sns\n",
    "import matplotlib.pyplot as plt\n",
    "\n",
    "import warnings\n",
    "warnings.filterwarnings('ignore')"
   ]
  },
  {
   "cell_type": "code",
   "execution_count": 2,
   "id": "e8d0bd6a",
   "metadata": {},
   "outputs": [
    {
     "data": {
      "text/html": [
       "<div>\n",
       "<style scoped>\n",
       "    .dataframe tbody tr th:only-of-type {\n",
       "        vertical-align: middle;\n",
       "    }\n",
       "\n",
       "    .dataframe tbody tr th {\n",
       "        vertical-align: top;\n",
       "    }\n",
       "\n",
       "    .dataframe thead th {\n",
       "        text-align: right;\n",
       "    }\n",
       "</style>\n",
       "<table border=\"1\" class=\"dataframe\">\n",
       "  <thead>\n",
       "    <tr style=\"text-align: right;\">\n",
       "      <th></th>\n",
       "      <th>Unnamed: 0</th>\n",
       "      <th>label</th>\n",
       "      <th>msisdn</th>\n",
       "      <th>aon</th>\n",
       "      <th>daily_decr30</th>\n",
       "      <th>daily_decr90</th>\n",
       "      <th>rental30</th>\n",
       "      <th>rental90</th>\n",
       "      <th>last_rech_date_ma</th>\n",
       "      <th>last_rech_date_da</th>\n",
       "      <th>...</th>\n",
       "      <th>maxamnt_loans30</th>\n",
       "      <th>medianamnt_loans30</th>\n",
       "      <th>cnt_loans90</th>\n",
       "      <th>amnt_loans90</th>\n",
       "      <th>maxamnt_loans90</th>\n",
       "      <th>medianamnt_loans90</th>\n",
       "      <th>payback30</th>\n",
       "      <th>payback90</th>\n",
       "      <th>pcircle</th>\n",
       "      <th>pdate</th>\n",
       "    </tr>\n",
       "  </thead>\n",
       "  <tbody>\n",
       "    <tr>\n",
       "      <th>0</th>\n",
       "      <td>1</td>\n",
       "      <td>0</td>\n",
       "      <td>21408I70789</td>\n",
       "      <td>272.0</td>\n",
       "      <td>3055.050000</td>\n",
       "      <td>3065.150000</td>\n",
       "      <td>220.13</td>\n",
       "      <td>260.13</td>\n",
       "      <td>2.0</td>\n",
       "      <td>0.0</td>\n",
       "      <td>...</td>\n",
       "      <td>6.0</td>\n",
       "      <td>0.0</td>\n",
       "      <td>2.0</td>\n",
       "      <td>12</td>\n",
       "      <td>6</td>\n",
       "      <td>0.0</td>\n",
       "      <td>29.000000</td>\n",
       "      <td>29.000000</td>\n",
       "      <td>UPW</td>\n",
       "      <td>7/20/2016</td>\n",
       "    </tr>\n",
       "    <tr>\n",
       "      <th>1</th>\n",
       "      <td>2</td>\n",
       "      <td>1</td>\n",
       "      <td>76462I70374</td>\n",
       "      <td>712.0</td>\n",
       "      <td>12122.000000</td>\n",
       "      <td>12124.750000</td>\n",
       "      <td>3691.26</td>\n",
       "      <td>3691.26</td>\n",
       "      <td>20.0</td>\n",
       "      <td>0.0</td>\n",
       "      <td>...</td>\n",
       "      <td>12.0</td>\n",
       "      <td>0.0</td>\n",
       "      <td>1.0</td>\n",
       "      <td>12</td>\n",
       "      <td>12</td>\n",
       "      <td>0.0</td>\n",
       "      <td>0.000000</td>\n",
       "      <td>0.000000</td>\n",
       "      <td>UPW</td>\n",
       "      <td>8/10/2016</td>\n",
       "    </tr>\n",
       "    <tr>\n",
       "      <th>2</th>\n",
       "      <td>3</td>\n",
       "      <td>1</td>\n",
       "      <td>17943I70372</td>\n",
       "      <td>535.0</td>\n",
       "      <td>1398.000000</td>\n",
       "      <td>1398.000000</td>\n",
       "      <td>900.13</td>\n",
       "      <td>900.13</td>\n",
       "      <td>3.0</td>\n",
       "      <td>0.0</td>\n",
       "      <td>...</td>\n",
       "      <td>6.0</td>\n",
       "      <td>0.0</td>\n",
       "      <td>1.0</td>\n",
       "      <td>6</td>\n",
       "      <td>6</td>\n",
       "      <td>0.0</td>\n",
       "      <td>0.000000</td>\n",
       "      <td>0.000000</td>\n",
       "      <td>UPW</td>\n",
       "      <td>8/19/2016</td>\n",
       "    </tr>\n",
       "    <tr>\n",
       "      <th>3</th>\n",
       "      <td>4</td>\n",
       "      <td>1</td>\n",
       "      <td>55773I70781</td>\n",
       "      <td>241.0</td>\n",
       "      <td>21.228000</td>\n",
       "      <td>21.228000</td>\n",
       "      <td>159.42</td>\n",
       "      <td>159.42</td>\n",
       "      <td>41.0</td>\n",
       "      <td>0.0</td>\n",
       "      <td>...</td>\n",
       "      <td>6.0</td>\n",
       "      <td>0.0</td>\n",
       "      <td>2.0</td>\n",
       "      <td>12</td>\n",
       "      <td>6</td>\n",
       "      <td>0.0</td>\n",
       "      <td>0.000000</td>\n",
       "      <td>0.000000</td>\n",
       "      <td>UPW</td>\n",
       "      <td>6/6/2016</td>\n",
       "    </tr>\n",
       "    <tr>\n",
       "      <th>4</th>\n",
       "      <td>5</td>\n",
       "      <td>1</td>\n",
       "      <td>03813I82730</td>\n",
       "      <td>947.0</td>\n",
       "      <td>150.619333</td>\n",
       "      <td>150.619333</td>\n",
       "      <td>1098.90</td>\n",
       "      <td>1098.90</td>\n",
       "      <td>4.0</td>\n",
       "      <td>0.0</td>\n",
       "      <td>...</td>\n",
       "      <td>6.0</td>\n",
       "      <td>0.0</td>\n",
       "      <td>7.0</td>\n",
       "      <td>42</td>\n",
       "      <td>6</td>\n",
       "      <td>0.0</td>\n",
       "      <td>2.333333</td>\n",
       "      <td>2.333333</td>\n",
       "      <td>UPW</td>\n",
       "      <td>6/22/2016</td>\n",
       "    </tr>\n",
       "  </tbody>\n",
       "</table>\n",
       "<p>5 rows × 37 columns</p>\n",
       "</div>"
      ],
      "text/plain": [
       "   Unnamed: 0  label       msisdn    aon  daily_decr30  daily_decr90  \\\n",
       "0           1      0  21408I70789  272.0   3055.050000   3065.150000   \n",
       "1           2      1  76462I70374  712.0  12122.000000  12124.750000   \n",
       "2           3      1  17943I70372  535.0   1398.000000   1398.000000   \n",
       "3           4      1  55773I70781  241.0     21.228000     21.228000   \n",
       "4           5      1  03813I82730  947.0    150.619333    150.619333   \n",
       "\n",
       "   rental30  rental90  last_rech_date_ma  last_rech_date_da  ...  \\\n",
       "0    220.13    260.13                2.0                0.0  ...   \n",
       "1   3691.26   3691.26               20.0                0.0  ...   \n",
       "2    900.13    900.13                3.0                0.0  ...   \n",
       "3    159.42    159.42               41.0                0.0  ...   \n",
       "4   1098.90   1098.90                4.0                0.0  ...   \n",
       "\n",
       "   maxamnt_loans30  medianamnt_loans30  cnt_loans90  amnt_loans90  \\\n",
       "0              6.0                 0.0          2.0            12   \n",
       "1             12.0                 0.0          1.0            12   \n",
       "2              6.0                 0.0          1.0             6   \n",
       "3              6.0                 0.0          2.0            12   \n",
       "4              6.0                 0.0          7.0            42   \n",
       "\n",
       "   maxamnt_loans90  medianamnt_loans90  payback30  payback90  pcircle  \\\n",
       "0                6                 0.0  29.000000  29.000000      UPW   \n",
       "1               12                 0.0   0.000000   0.000000      UPW   \n",
       "2                6                 0.0   0.000000   0.000000      UPW   \n",
       "3                6                 0.0   0.000000   0.000000      UPW   \n",
       "4                6                 0.0   2.333333   2.333333      UPW   \n",
       "\n",
       "       pdate  \n",
       "0  7/20/2016  \n",
       "1  8/10/2016  \n",
       "2  8/19/2016  \n",
       "3   6/6/2016  \n",
       "4  6/22/2016  \n",
       "\n",
       "[5 rows x 37 columns]"
      ]
     },
     "execution_count": 2,
     "metadata": {},
     "output_type": "execute_result"
    }
   ],
   "source": [
    "df= pd.read_csv('data_file.csv')\n",
    "df.head()"
   ]
  },
  {
   "cell_type": "code",
   "execution_count": 3,
   "id": "1d7d955f",
   "metadata": {},
   "outputs": [
    {
     "data": {
      "text/plain": [
       "(209593, 37)"
      ]
     },
     "execution_count": 3,
     "metadata": {},
     "output_type": "execute_result"
    }
   ],
   "source": [
    "df.shape"
   ]
  },
  {
   "cell_type": "code",
   "execution_count": 4,
   "id": "00b097c7",
   "metadata": {},
   "outputs": [
    {
     "data": {
      "text/plain": [
       "Unnamed: 0                int64\n",
       "label                     int64\n",
       "msisdn                   object\n",
       "aon                     float64\n",
       "daily_decr30            float64\n",
       "daily_decr90            float64\n",
       "rental30                float64\n",
       "rental90                float64\n",
       "last_rech_date_ma       float64\n",
       "last_rech_date_da       float64\n",
       "last_rech_amt_ma          int64\n",
       "cnt_ma_rech30             int64\n",
       "fr_ma_rech30            float64\n",
       "sumamnt_ma_rech30       float64\n",
       "medianamnt_ma_rech30    float64\n",
       "medianmarechprebal30    float64\n",
       "cnt_ma_rech90             int64\n",
       "fr_ma_rech90              int64\n",
       "sumamnt_ma_rech90         int64\n",
       "medianamnt_ma_rech90    float64\n",
       "medianmarechprebal90    float64\n",
       "cnt_da_rech30           float64\n",
       "fr_da_rech30            float64\n",
       "cnt_da_rech90             int64\n",
       "fr_da_rech90              int64\n",
       "cnt_loans30               int64\n",
       "amnt_loans30              int64\n",
       "maxamnt_loans30         float64\n",
       "medianamnt_loans30      float64\n",
       "cnt_loans90             float64\n",
       "amnt_loans90              int64\n",
       "maxamnt_loans90           int64\n",
       "medianamnt_loans90      float64\n",
       "payback30               float64\n",
       "payback90               float64\n",
       "pcircle                  object\n",
       "pdate                    object\n",
       "dtype: object"
      ]
     },
     "execution_count": 4,
     "metadata": {},
     "output_type": "execute_result"
    }
   ],
   "source": [
    "df.dtypes"
   ]
  },
  {
   "cell_type": "code",
   "execution_count": 5,
   "id": "b72eba42",
   "metadata": {},
   "outputs": [
    {
     "data": {
      "text/plain": [
       "1    183431\n",
       "0     26162\n",
       "Name: label, dtype: int64"
      ]
     },
     "execution_count": 5,
     "metadata": {},
     "output_type": "execute_result"
    }
   ],
   "source": [
    "df['label'].value_counts()"
   ]
  },
  {
   "cell_type": "code",
   "execution_count": 6,
   "id": "5b41bb56",
   "metadata": {},
   "outputs": [
    {
     "data": {
      "text/plain": [
       "<AxesSubplot:>"
      ]
     },
     "execution_count": 6,
     "metadata": {},
     "output_type": "execute_result"
    },
    {
     "data": {
      "image/png": "[encoded data removed]",
      "text/plain": [
       "<Figure size 864x504 with 2 Axes>"
      ]
     },
     "metadata": {
      "needs_background": "light"
     },
     "output_type": "display_data"
    }
   ],
   "source": [
    "plt.figure(figsize=(12,7))\n",
    "sns.heatmap(df.isnull())"
   ]
  },
  {
   "cell_type": "code",
   "execution_count": 7,
   "id": "cd6cde57",
   "metadata": {},
   "outputs": [
    {
     "data": {
      "text/plain": [
       "1    183431\n",
       "0     26162\n",
       "Name: label, dtype: int64"
      ]
     },
     "execution_count": 7,
     "metadata": {},
     "output_type": "execute_result"
    },
    {
     "data": {
      "image/png": "[encoded data removed]",
      "text/plain": [
       "<Figure size 432x288 with 1 Axes>"
      ]
     },
     "metadata": {
      "needs_background": "light"
     },
     "output_type": "display_data"
    }
   ],
   "source": [
    "sns.countplot(x='label',data=df)\n",
    "df['label'].value_counts()"
   ]
  },
  {
   "cell_type": "markdown",
   "id": "c3e8428e",
   "metadata": {},
   "source": [
    "Here, 1 shows the non-defaulters which are 87.5% and 0 shows the defaulters which are 12.5%"
   ]
  },
  {
   "cell_type": "code",
   "execution_count": 8,
   "id": "cf2ff027",
   "metadata": {},
   "outputs": [],
   "source": [
    "df=df.drop(df.columns[0], axis=1)\n",
    "df=df.drop(df.columns[34], axis=1)\n",
    "df[\"pdate\"] = pd.to_datetime(df[\"pdate\"])"
   ]
  },
  {
   "cell_type": "code",
   "execution_count": 9,
   "id": "2e1aa2d8",
   "metadata": {},
   "outputs": [
    {
     "data": {
      "text/html": [
       "<div>\n",
       "<style scoped>\n",
       "    .dataframe tbody tr th:only-of-type {\n",
       "        vertical-align: middle;\n",
       "    }\n",
       "\n",
       "    .dataframe tbody tr th {\n",
       "        vertical-align: top;\n",
       "    }\n",
       "\n",
       "    .dataframe thead th {\n",
       "        text-align: right;\n",
       "    }\n",
       "</style>\n",
       "<table border=\"1\" class=\"dataframe\">\n",
       "  <thead>\n",
       "    <tr style=\"text-align: right;\">\n",
       "      <th></th>\n",
       "      <th>label</th>\n",
       "      <th>msisdn</th>\n",
       "      <th>aon</th>\n",
       "      <th>daily_decr30</th>\n",
       "      <th>daily_decr90</th>\n",
       "      <th>rental30</th>\n",
       "      <th>rental90</th>\n",
       "      <th>last_rech_date_ma</th>\n",
       "      <th>last_rech_date_da</th>\n",
       "      <th>last_rech_amt_ma</th>\n",
       "      <th>...</th>\n",
       "      <th>amnt_loans30</th>\n",
       "      <th>maxamnt_loans30</th>\n",
       "      <th>medianamnt_loans30</th>\n",
       "      <th>cnt_loans90</th>\n",
       "      <th>amnt_loans90</th>\n",
       "      <th>maxamnt_loans90</th>\n",
       "      <th>medianamnt_loans90</th>\n",
       "      <th>payback30</th>\n",
       "      <th>payback90</th>\n",
       "      <th>pdate</th>\n",
       "    </tr>\n",
       "  </thead>\n",
       "  <tbody>\n",
       "    <tr>\n",
       "      <th>0</th>\n",
       "      <td>0</td>\n",
       "      <td>21408I70789</td>\n",
       "      <td>272.0</td>\n",
       "      <td>3055.050000</td>\n",
       "      <td>3065.150000</td>\n",
       "      <td>220.13</td>\n",
       "      <td>260.13</td>\n",
       "      <td>2.0</td>\n",
       "      <td>0.0</td>\n",
       "      <td>1539</td>\n",
       "      <td>...</td>\n",
       "      <td>12</td>\n",
       "      <td>6.0</td>\n",
       "      <td>0.0</td>\n",
       "      <td>2.0</td>\n",
       "      <td>12</td>\n",
       "      <td>6</td>\n",
       "      <td>0.0</td>\n",
       "      <td>29.000000</td>\n",
       "      <td>29.000000</td>\n",
       "      <td>2016-07-20</td>\n",
       "    </tr>\n",
       "    <tr>\n",
       "      <th>1</th>\n",
       "      <td>1</td>\n",
       "      <td>76462I70374</td>\n",
       "      <td>712.0</td>\n",
       "      <td>12122.000000</td>\n",
       "      <td>12124.750000</td>\n",
       "      <td>3691.26</td>\n",
       "      <td>3691.26</td>\n",
       "      <td>20.0</td>\n",
       "      <td>0.0</td>\n",
       "      <td>5787</td>\n",
       "      <td>...</td>\n",
       "      <td>12</td>\n",
       "      <td>12.0</td>\n",
       "      <td>0.0</td>\n",
       "      <td>1.0</td>\n",
       "      <td>12</td>\n",
       "      <td>12</td>\n",
       "      <td>0.0</td>\n",
       "      <td>0.000000</td>\n",
       "      <td>0.000000</td>\n",
       "      <td>2016-08-10</td>\n",
       "    </tr>\n",
       "    <tr>\n",
       "      <th>2</th>\n",
       "      <td>1</td>\n",
       "      <td>17943I70372</td>\n",
       "      <td>535.0</td>\n",
       "      <td>1398.000000</td>\n",
       "      <td>1398.000000</td>\n",
       "      <td>900.13</td>\n",
       "      <td>900.13</td>\n",
       "      <td>3.0</td>\n",
       "      <td>0.0</td>\n",
       "      <td>1539</td>\n",
       "      <td>...</td>\n",
       "      <td>6</td>\n",
       "      <td>6.0</td>\n",
       "      <td>0.0</td>\n",
       "      <td>1.0</td>\n",
       "      <td>6</td>\n",
       "      <td>6</td>\n",
       "      <td>0.0</td>\n",
       "      <td>0.000000</td>\n",
       "      <td>0.000000</td>\n",
       "      <td>2016-08-19</td>\n",
       "    </tr>\n",
       "    <tr>\n",
       "      <th>3</th>\n",
       "      <td>1</td>\n",
       "      <td>55773I70781</td>\n",
       "      <td>241.0</td>\n",
       "      <td>21.228000</td>\n",
       "      <td>21.228000</td>\n",
       "      <td>159.42</td>\n",
       "      <td>159.42</td>\n",
       "      <td>41.0</td>\n",
       "      <td>0.0</td>\n",
       "      <td>947</td>\n",
       "      <td>...</td>\n",
       "      <td>12</td>\n",
       "      <td>6.0</td>\n",
       "      <td>0.0</td>\n",
       "      <td>2.0</td>\n",
       "      <td>12</td>\n",
       "      <td>6</td>\n",
       "      <td>0.0</td>\n",
       "      <td>0.000000</td>\n",
       "      <td>0.000000</td>\n",
       "      <td>2016-06-06</td>\n",
       "    </tr>\n",
       "    <tr>\n",
       "      <th>4</th>\n",
       "      <td>1</td>\n",
       "      <td>03813I82730</td>\n",
       "      <td>947.0</td>\n",
       "      <td>150.619333</td>\n",
       "      <td>150.619333</td>\n",
       "      <td>1098.90</td>\n",
       "      <td>1098.90</td>\n",
       "      <td>4.0</td>\n",
       "      <td>0.0</td>\n",
       "      <td>2309</td>\n",
       "      <td>...</td>\n",
       "      <td>42</td>\n",
       "      <td>6.0</td>\n",
       "      <td>0.0</td>\n",
       "      <td>7.0</td>\n",
       "      <td>42</td>\n",
       "      <td>6</td>\n",
       "      <td>0.0</td>\n",
       "      <td>2.333333</td>\n",
       "      <td>2.333333</td>\n",
       "      <td>2016-06-22</td>\n",
       "    </tr>\n",
       "  </tbody>\n",
       "</table>\n",
       "<p>5 rows × 35 columns</p>\n",
       "</div>"
      ],
      "text/plain": [
       "   label       msisdn    aon  daily_decr30  daily_decr90  rental30  rental90  \\\n",
       "0      0  21408I70789  272.0   3055.050000   3065.150000    220.13    260.13   \n",
       "1      1  76462I70374  712.0  12122.000000  12124.750000   3691.26   3691.26   \n",
       "2      1  17943I70372  535.0   1398.000000   1398.000000    900.13    900.13   \n",
       "3      1  55773I70781  241.0     21.228000     21.228000    159.42    159.42   \n",
       "4      1  03813I82730  947.0    150.619333    150.619333   1098.90   1098.90   \n",
       "\n",
       "   last_rech_date_ma  last_rech_date_da  last_rech_amt_ma  ...  amnt_loans30  \\\n",
       "0                2.0                0.0              1539  ...            12   \n",
       "1               20.0                0.0              5787  ...            12   \n",
       "2                3.0                0.0              1539  ...             6   \n",
       "3               41.0                0.0               947  ...            12   \n",
       "4                4.0                0.0              2309  ...            42   \n",
       "\n",
       "   maxamnt_loans30  medianamnt_loans30  cnt_loans90  amnt_loans90  \\\n",
       "0              6.0                 0.0          2.0            12   \n",
       "1             12.0                 0.0          1.0            12   \n",
       "2              6.0                 0.0          1.0             6   \n",
       "3              6.0                 0.0          2.0            12   \n",
       "4              6.0                 0.0          7.0            42   \n",
       "\n",
       "   maxamnt_loans90  medianamnt_loans90  payback30  payback90      pdate  \n",
       "0                6                 0.0  29.000000  29.000000 2016-07-20  \n",
       "1               12                 0.0   0.000000   0.000000 2016-08-10  \n",
       "2                6                 0.0   0.000000   0.000000 2016-08-19  \n",
       "3                6                 0.0   0.000000   0.000000 2016-06-06  \n",
       "4                6                 0.0   2.333333   2.333333 2016-06-22  \n",
       "\n",
       "[5 rows x 35 columns]"
      ]
     },
     "execution_count": 9,
     "metadata": {},
     "output_type": "execute_result"
    }
   ],
   "source": [
    "df.head()"
   ]
  },
  {
   "cell_type": "code",
   "execution_count": 10,
   "id": "dcfba744",
   "metadata": {},
   "outputs": [
    {
     "name": "stdout",
     "output_type": "stream",
     "text": [
      "<class 'pandas.core.frame.DataFrame'>\n",
      "RangeIndex: 209593 entries, 0 to 209592\n",
      "Data columns (total 35 columns):\n",
      " #   Column                Non-Null Count   Dtype         \n",
      "---  ------                --------------   -----         \n",
      " 0   label                 209593 non-null  int64         \n",
      " 1   msisdn                209593 non-null  object        \n",
      " 2   aon                   209593 non-null  float64       \n",
      " 3   daily_decr30          209593 non-null  float64       \n",
      " 4   daily_decr90          209593 non-null  float64       \n",
      " 5   rental30              209593 non-null  float64       \n",
      " 6   rental90              209593 non-null  float64       \n",
      " 7   last_rech_date_ma     209593 non-null  float64       \n",
      " 8   last_rech_date_da     209593 non-null  float64       \n",
      " 9   last_rech_amt_ma      209593 non-null  int64         \n",
      " 10  cnt_ma_rech30         209593 non-null  int64         \n",
      " 11  fr_ma_rech30          209593 non-null  float64       \n",
      " 12  sumamnt_ma_rech30     209593 non-null  float64       \n",
      " 13  medianamnt_ma_rech30  209593 non-null  float64       \n",
      " 14  medianmarechprebal30  209593 non-null  float64       \n",
      " 15  cnt_ma_rech90         209593 non-null  int64         \n",
      " 16  fr_ma_rech90          209593 non-null  int64         \n",
      " 17  sumamnt_ma_rech90     209593 non-null  int64         \n",
      " 18  medianamnt_ma_rech90  209593 non-null  float64       \n",
      " 19  medianmarechprebal90  209593 non-null  float64       \n",
      " 20  cnt_da_rech30         209593 non-null  float64       \n",
      " 21  fr_da_rech30          209593 non-null  float64       \n",
      " 22  cnt_da_rech90         209593 non-null  int64         \n",
      " 23  fr_da_rech90          209593 non-null  int64         \n",
      " 24  cnt_loans30           209593 non-null  int64         \n",
      " 25  amnt_loans30          209593 non-null  int64         \n",
      " 26  maxamnt_loans30       209593 non-null  float64       \n",
      " 27  medianamnt_loans30    209593 non-null  float64       \n",
      " 28  cnt_loans90           209593 non-null  float64       \n",
      " 29  amnt_loans90          209593 non-null  int64         \n",
      " 30  maxamnt_loans90       209593 non-null  int64         \n",
      " 31  medianamnt_loans90    209593 non-null  float64       \n",
      " 32  payback30             209593 non-null  float64       \n",
      " 33  payback90             209593 non-null  float64       \n",
      " 34  pdate                 209593 non-null  datetime64[ns]\n",
      "dtypes: datetime64[ns](1), float64(21), int64(12), object(1)\n",
      "memory usage: 56.0+ MB\n"
     ]
    }
   ],
   "source": [
    "df.info()"
   ]
  },
  {
   "cell_type": "markdown",
   "id": "aefd4778",
   "metadata": {},
   "source": [
    "We can see that there are object values in msisdn, pcircle, pdate"
   ]
  },
  {
   "cell_type": "code",
   "execution_count": 11,
   "id": "ca7c9543",
   "metadata": {},
   "outputs": [
    {
     "data": {
      "text/plain": [
       "label                   0\n",
       "msisdn                  0\n",
       "aon                     0\n",
       "daily_decr30            0\n",
       "daily_decr90            0\n",
       "rental30                0\n",
       "rental90                0\n",
       "last_rech_date_ma       0\n",
       "last_rech_date_da       0\n",
       "last_rech_amt_ma        0\n",
       "cnt_ma_rech30           0\n",
       "fr_ma_rech30            0\n",
       "sumamnt_ma_rech30       0\n",
       "medianamnt_ma_rech30    0\n",
       "medianmarechprebal30    0\n",
       "cnt_ma_rech90           0\n",
       "fr_ma_rech90            0\n",
       "sumamnt_ma_rech90       0\n",
       "medianamnt_ma_rech90    0\n",
       "medianmarechprebal90    0\n",
       "cnt_da_rech30           0\n",
       "fr_da_rech30            0\n",
       "cnt_da_rech90           0\n",
       "fr_da_rech90            0\n",
       "cnt_loans30             0\n",
       "amnt_loans30            0\n",
       "maxamnt_loans30         0\n",
       "medianamnt_loans30      0\n",
       "cnt_loans90             0\n",
       "amnt_loans90            0\n",
       "maxamnt_loans90         0\n",
       "medianamnt_loans90      0\n",
       "payback30               0\n",
       "payback90               0\n",
       "pdate                   0\n",
       "dtype: int64"
      ]
     },
     "execution_count": 11,
     "metadata": {},
     "output_type": "execute_result"
    }
   ],
   "source": [
    "df.isnull().sum()"
   ]
  },
  {
   "cell_type": "markdown",
   "id": "415bee61",
   "metadata": {},
   "source": [
    "There are no null values present in the data"
   ]
  },
  {
   "cell_type": "code",
   "execution_count": 12,
   "id": "a50317c3",
   "metadata": {},
   "outputs": [
    {
     "data": {
      "text/plain": [
       "186243"
      ]
     },
     "execution_count": 12,
     "metadata": {},
     "output_type": "execute_result"
    }
   ],
   "source": [
    "len(pd.unique(df['msisdn']))"
   ]
  },
  {
   "cell_type": "code",
   "execution_count": 13,
   "id": "25c0edfa",
   "metadata": {},
   "outputs": [
    {
     "data": {
      "text/html": [
       "<div>\n",
       "<style scoped>\n",
       "    .dataframe tbody tr th:only-of-type {\n",
       "        vertical-align: middle;\n",
       "    }\n",
       "\n",
       "    .dataframe tbody tr th {\n",
       "        vertical-align: top;\n",
       "    }\n",
       "\n",
       "    .dataframe thead th {\n",
       "        text-align: right;\n",
       "    }\n",
       "</style>\n",
       "<table border=\"1\" class=\"dataframe\">\n",
       "  <thead>\n",
       "    <tr style=\"text-align: right;\">\n",
       "      <th></th>\n",
       "      <th>label</th>\n",
       "      <th>aon</th>\n",
       "      <th>daily_decr30</th>\n",
       "      <th>daily_decr90</th>\n",
       "      <th>rental30</th>\n",
       "      <th>rental90</th>\n",
       "      <th>last_rech_date_ma</th>\n",
       "      <th>last_rech_date_da</th>\n",
       "      <th>last_rech_amt_ma</th>\n",
       "      <th>cnt_ma_rech30</th>\n",
       "      <th>...</th>\n",
       "      <th>cnt_loans30</th>\n",
       "      <th>amnt_loans30</th>\n",
       "      <th>maxamnt_loans30</th>\n",
       "      <th>medianamnt_loans30</th>\n",
       "      <th>cnt_loans90</th>\n",
       "      <th>amnt_loans90</th>\n",
       "      <th>maxamnt_loans90</th>\n",
       "      <th>medianamnt_loans90</th>\n",
       "      <th>payback30</th>\n",
       "      <th>payback90</th>\n",
       "    </tr>\n",
       "  </thead>\n",
       "  <tbody>\n",
       "    <tr>\n",
       "      <th>count</th>\n",
       "      <td>209593.000000</td>\n",
       "      <td>209593.000000</td>\n",
       "      <td>209593.000000</td>\n",
       "      <td>209593.000000</td>\n",
       "      <td>209593.000000</td>\n",
       "      <td>209593.000000</td>\n",
       "      <td>209593.00000</td>\n",
       "      <td>209593.000000</td>\n",
       "      <td>209593.000000</td>\n",
       "      <td>209593.000000</td>\n",
       "      <td>...</td>\n",
       "      <td>209593.000000</td>\n",
       "      <td>209593.000000</td>\n",
       "      <td>209593.000000</td>\n",
       "      <td>209593.000000</td>\n",
       "      <td>209593.000000</td>\n",
       "      <td>209593.000000</td>\n",
       "      <td>209593.000000</td>\n",
       "      <td>209593.000000</td>\n",
       "      <td>209593.000000</td>\n",
       "      <td>209593.000000</td>\n",
       "    </tr>\n",
       "    <tr>\n",
       "      <th>mean</th>\n",
       "      <td>0.875177</td>\n",
       "      <td>8112.343445</td>\n",
       "      <td>5381.402289</td>\n",
       "      <td>6082.515068</td>\n",
       "      <td>2692.581910</td>\n",
       "      <td>3483.406534</td>\n",
       "      <td>3755.84780</td>\n",
       "      <td>3712.202921</td>\n",
       "      <td>2064.452797</td>\n",
       "      <td>3.978057</td>\n",
       "      <td>...</td>\n",
       "      <td>2.758981</td>\n",
       "      <td>17.952021</td>\n",
       "      <td>274.658747</td>\n",
       "      <td>0.054029</td>\n",
       "      <td>18.520919</td>\n",
       "      <td>23.645398</td>\n",
       "      <td>6.703134</td>\n",
       "      <td>0.046077</td>\n",
       "      <td>3.398826</td>\n",
       "      <td>4.321485</td>\n",
       "    </tr>\n",
       "    <tr>\n",
       "      <th>std</th>\n",
       "      <td>0.330519</td>\n",
       "      <td>75696.082531</td>\n",
       "      <td>9220.623400</td>\n",
       "      <td>10918.812767</td>\n",
       "      <td>4308.586781</td>\n",
       "      <td>5770.461279</td>\n",
       "      <td>53905.89223</td>\n",
       "      <td>53374.833430</td>\n",
       "      <td>2370.786034</td>\n",
       "      <td>4.256090</td>\n",
       "      <td>...</td>\n",
       "      <td>2.554502</td>\n",
       "      <td>17.379741</td>\n",
       "      <td>4245.264648</td>\n",
       "      <td>0.218039</td>\n",
       "      <td>224.797423</td>\n",
       "      <td>26.469861</td>\n",
       "      <td>2.103864</td>\n",
       "      <td>0.200692</td>\n",
       "      <td>8.813729</td>\n",
       "      <td>10.308108</td>\n",
       "    </tr>\n",
       "    <tr>\n",
       "      <th>min</th>\n",
       "      <td>0.000000</td>\n",
       "      <td>-48.000000</td>\n",
       "      <td>-93.012667</td>\n",
       "      <td>-93.012667</td>\n",
       "      <td>-23737.140000</td>\n",
       "      <td>-24720.580000</td>\n",
       "      <td>-29.00000</td>\n",
       "      <td>-29.000000</td>\n",
       "      <td>0.000000</td>\n",
       "      <td>0.000000</td>\n",
       "      <td>...</td>\n",
       "      <td>0.000000</td>\n",
       "      <td>0.000000</td>\n",
       "      <td>0.000000</td>\n",
       "      <td>0.000000</td>\n",
       "      <td>0.000000</td>\n",
       "      <td>0.000000</td>\n",
       "      <td>0.000000</td>\n",
       "      <td>0.000000</td>\n",
       "      <td>0.000000</td>\n",
       "      <td>0.000000</td>\n",
       "    </tr>\n",
       "    <tr>\n",
       "      <th>25%</th>\n",
       "      <td>1.000000</td>\n",
       "      <td>246.000000</td>\n",
       "      <td>42.440000</td>\n",
       "      <td>42.692000</td>\n",
       "      <td>280.420000</td>\n",
       "      <td>300.260000</td>\n",
       "      <td>1.00000</td>\n",
       "      <td>0.000000</td>\n",
       "      <td>770.000000</td>\n",
       "      <td>1.000000</td>\n",
       "      <td>...</td>\n",
       "      <td>1.000000</td>\n",
       "      <td>6.000000</td>\n",
       "      <td>6.000000</td>\n",
       "      <td>0.000000</td>\n",
       "      <td>1.000000</td>\n",
       "      <td>6.000000</td>\n",
       "      <td>6.000000</td>\n",
       "      <td>0.000000</td>\n",
       "      <td>0.000000</td>\n",
       "      <td>0.000000</td>\n",
       "    </tr>\n",
       "    <tr>\n",
       "      <th>50%</th>\n",
       "      <td>1.000000</td>\n",
       "      <td>527.000000</td>\n",
       "      <td>1469.175667</td>\n",
       "      <td>1500.000000</td>\n",
       "      <td>1083.570000</td>\n",
       "      <td>1334.000000</td>\n",
       "      <td>3.00000</td>\n",
       "      <td>0.000000</td>\n",
       "      <td>1539.000000</td>\n",
       "      <td>3.000000</td>\n",
       "      <td>...</td>\n",
       "      <td>2.000000</td>\n",
       "      <td>12.000000</td>\n",
       "      <td>6.000000</td>\n",
       "      <td>0.000000</td>\n",
       "      <td>2.000000</td>\n",
       "      <td>12.000000</td>\n",
       "      <td>6.000000</td>\n",
       "      <td>0.000000</td>\n",
       "      <td>0.000000</td>\n",
       "      <td>1.666667</td>\n",
       "    </tr>\n",
       "    <tr>\n",
       "      <th>75%</th>\n",
       "      <td>1.000000</td>\n",
       "      <td>982.000000</td>\n",
       "      <td>7244.000000</td>\n",
       "      <td>7802.790000</td>\n",
       "      <td>3356.940000</td>\n",
       "      <td>4201.790000</td>\n",
       "      <td>7.00000</td>\n",
       "      <td>0.000000</td>\n",
       "      <td>2309.000000</td>\n",
       "      <td>5.000000</td>\n",
       "      <td>...</td>\n",
       "      <td>4.000000</td>\n",
       "      <td>24.000000</td>\n",
       "      <td>6.000000</td>\n",
       "      <td>0.000000</td>\n",
       "      <td>5.000000</td>\n",
       "      <td>30.000000</td>\n",
       "      <td>6.000000</td>\n",
       "      <td>0.000000</td>\n",
       "      <td>3.750000</td>\n",
       "      <td>4.500000</td>\n",
       "    </tr>\n",
       "    <tr>\n",
       "      <th>max</th>\n",
       "      <td>1.000000</td>\n",
       "      <td>999860.755200</td>\n",
       "      <td>265926.000000</td>\n",
       "      <td>320630.000000</td>\n",
       "      <td>198926.110000</td>\n",
       "      <td>200148.110000</td>\n",
       "      <td>998650.37770</td>\n",
       "      <td>999171.809400</td>\n",
       "      <td>55000.000000</td>\n",
       "      <td>203.000000</td>\n",
       "      <td>...</td>\n",
       "      <td>50.000000</td>\n",
       "      <td>306.000000</td>\n",
       "      <td>99864.560860</td>\n",
       "      <td>3.000000</td>\n",
       "      <td>4997.517944</td>\n",
       "      <td>438.000000</td>\n",
       "      <td>12.000000</td>\n",
       "      <td>3.000000</td>\n",
       "      <td>171.500000</td>\n",
       "      <td>171.500000</td>\n",
       "    </tr>\n",
       "  </tbody>\n",
       "</table>\n",
       "<p>8 rows × 33 columns</p>\n",
       "</div>"
      ],
      "text/plain": [
       "               label            aon   daily_decr30   daily_decr90  \\\n",
       "count  209593.000000  209593.000000  209593.000000  209593.000000   \n",
       "mean        0.875177    8112.343445    5381.402289    6082.515068   \n",
       "std         0.330519   75696.082531    9220.623400   10918.812767   \n",
       "min         0.000000     -48.000000     -93.012667     -93.012667   \n",
       "25%         1.000000     246.000000      42.440000      42.692000   \n",
       "50%         1.000000     527.000000    1469.175667    1500.000000   \n",
       "75%         1.000000     982.000000    7244.000000    7802.790000   \n",
       "max         1.000000  999860.755200  265926.000000  320630.000000   \n",
       "\n",
       "            rental30       rental90  last_rech_date_ma  last_rech_date_da  \\\n",
       "count  209593.000000  209593.000000       209593.00000      209593.000000   \n",
       "mean     2692.581910    3483.406534         3755.84780        3712.202921   \n",
       "std      4308.586781    5770.461279        53905.89223       53374.833430   \n",
       "min    -23737.140000  -24720.580000          -29.00000         -29.000000   \n",
       "25%       280.420000     300.260000            1.00000           0.000000   \n",
       "50%      1083.570000    1334.000000            3.00000           0.000000   \n",
       "75%      3356.940000    4201.790000            7.00000           0.000000   \n",
       "max    198926.110000  200148.110000       998650.37770      999171.809400   \n",
       "\n",
       "       last_rech_amt_ma  cnt_ma_rech30  ...    cnt_loans30   amnt_loans30  \\\n",
       "count     209593.000000  209593.000000  ...  209593.000000  209593.000000   \n",
       "mean        2064.452797       3.978057  ...       2.758981      17.952021   \n",
       "std         2370.786034       4.256090  ...       2.554502      17.379741   \n",
       "min            0.000000       0.000000  ...       0.000000       0.000000   \n",
       "25%          770.000000       1.000000  ...       1.000000       6.000000   \n",
       "50%         1539.000000       3.000000  ...       2.000000      12.000000   \n",
       "75%         2309.000000       5.000000  ...       4.000000      24.000000   \n",
       "max        55000.000000     203.000000  ...      50.000000     306.000000   \n",
       "\n",
       "       maxamnt_loans30  medianamnt_loans30    cnt_loans90   amnt_loans90  \\\n",
       "count    209593.000000       209593.000000  209593.000000  209593.000000   \n",
       "mean        274.658747            0.054029      18.520919      23.645398   \n",
       "std        4245.264648            0.218039     224.797423      26.469861   \n",
       "min           0.000000            0.000000       0.000000       0.000000   \n",
       "25%           6.000000            0.000000       1.000000       6.000000   \n",
       "50%           6.000000            0.000000       2.000000      12.000000   \n",
       "75%           6.000000            0.000000       5.000000      30.000000   \n",
       "max       99864.560860            3.000000    4997.517944     438.000000   \n",
       "\n",
       "       maxamnt_loans90  medianamnt_loans90      payback30      payback90  \n",
       "count    209593.000000       209593.000000  209593.000000  209593.000000  \n",
       "mean          6.703134            0.046077       3.398826       4.321485  \n",
       "std           2.103864            0.200692       8.813729      10.308108  \n",
       "min           0.000000            0.000000       0.000000       0.000000  \n",
       "25%           6.000000            0.000000       0.000000       0.000000  \n",
       "50%           6.000000            0.000000       0.000000       1.666667  \n",
       "75%           6.000000            0.000000       3.750000       4.500000  \n",
       "max          12.000000            3.000000     171.500000     171.500000  \n",
       "\n",
       "[8 rows x 33 columns]"
      ]
     },
     "execution_count": 13,
     "metadata": {},
     "output_type": "execute_result"
    }
   ],
   "source": [
    "df.describe()"
   ]
  },
  {
   "cell_type": "markdown",
   "id": "3d4dfb55",
   "metadata": {},
   "source": [
    "Here, we can see that there's a huge difference between the 75% and the max \n",
    "Also, the mean is greater than the median\n",
    "This indicates that there are many outliers present in our data"
   ]
  },
  {
   "cell_type": "code",
   "execution_count": 14,
   "id": "063056c7",
   "metadata": {},
   "outputs": [
    {
     "data": {
      "text/plain": [
       "Index(['label', 'msisdn', 'aon', 'daily_decr30', 'daily_decr90', 'rental30',\n",
       "       'rental90', 'last_rech_date_ma', 'last_rech_date_da',\n",
       "       'last_rech_amt_ma', 'cnt_ma_rech30', 'fr_ma_rech30',\n",
       "       'sumamnt_ma_rech30', 'medianamnt_ma_rech30', 'medianmarechprebal30',\n",
       "       'cnt_ma_rech90', 'fr_ma_rech90', 'sumamnt_ma_rech90',\n",
       "       'medianamnt_ma_rech90', 'medianmarechprebal90', 'cnt_da_rech30',\n",
       "       'fr_da_rech30', 'cnt_da_rech90', 'fr_da_rech90', 'cnt_loans30',\n",
       "       'amnt_loans30', 'maxamnt_loans30', 'medianamnt_loans30', 'cnt_loans90',\n",
       "       'amnt_loans90', 'maxamnt_loans90', 'medianamnt_loans90', 'payback30',\n",
       "       'payback90', 'pdate'],\n",
       "      dtype='object')"
      ]
     },
     "execution_count": 14,
     "metadata": {},
     "output_type": "execute_result"
    }
   ],
   "source": [
    "col_names=df.columns\n",
    "col_names"
   ]
  },
  {
   "cell_type": "code",
   "execution_count": 15,
   "id": "781ba336",
   "metadata": {},
   "outputs": [
    {
     "data": {
      "text/plain": [
       "<function matplotlib.pyplot.show(close=None, block=None)>"
      ]
     },
     "execution_count": 15,
     "metadata": {},
     "output_type": "execute_result"
    },
    {
     "data": {
      "image/png": "[encoded data removed]",
      "text/plain": [
       "<Figure size 648x432 with 1 Axes>"
      ]
     },
     "metadata": {
      "needs_background": "light"
     },
     "output_type": "display_data"
    }
   ],
   "source": [
    "df.iloc[:,0:10].boxplot(figsize=(9,6))\n",
    "plt.xticks(rotation=90)\n",
    "plt.show"
   ]
  },
  {
   "cell_type": "code",
   "execution_count": 16,
   "id": "23d80940",
   "metadata": {},
   "outputs": [
    {
     "data": {
      "image/png": "[encoded data removed]",
      "text/plain": [
       "<Figure size 648x432 with 1 Axes>"
      ]
     },
     "metadata": {
      "needs_background": "light"
     },
     "output_type": "display_data"
    }
   ],
   "source": [
    "df.iloc[:,10:20].boxplot(figsize=(9,6))\n",
    "plt.xticks(rotation=90)\n",
    "plt.show()"
   ]
  },
  {
   "cell_type": "code",
   "execution_count": 17,
   "id": "da8a95eb",
   "metadata": {},
   "outputs": [
    {
     "data": {
      "image/png": "[encoded data removed]",
      "text/plain": [
       "<Figure size 864x576 with 1 Axes>"
      ]
     },
     "metadata": {
      "needs_background": "light"
     },
     "output_type": "display_data"
    }
   ],
   "source": [
    "df.iloc[:,20:36].boxplot(figsize=(12,8))\n",
    "plt.xticks(rotation=90)\n",
    "plt.show()"
   ]
  },
  {
   "cell_type": "code",
   "execution_count": 18,
   "id": "005cc4a7",
   "metadata": {},
   "outputs": [
    {
     "data": {
      "text/plain": [
       "0"
      ]
     },
     "execution_count": 18,
     "metadata": {},
     "output_type": "execute_result"
    }
   ],
   "source": [
    "df[\"fr_da_rech90\"].min()"
   ]
  },
  {
   "cell_type": "code",
   "execution_count": 19,
   "id": "b2228871",
   "metadata": {},
   "outputs": [],
   "source": [
    "xsel=df.iloc[:,2:34]\n",
    "ysel=df.iloc[:,0]"
   ]
  },
  {
   "cell_type": "code",
   "execution_count": 20,
   "id": "ba51cb8c",
   "metadata": {},
   "outputs": [],
   "source": [
    "from sklearn.feature_selection import chi2, SelectKBest\n",
    "\n",
    "bestfeatures=SelectKBest(score_func=chi2,k=20)"
   ]
  },
  {
   "cell_type": "code",
   "execution_count": 21,
   "id": "ddde845f",
   "metadata": {},
   "outputs": [
    {
     "data": {
      "text/plain": [
       "21"
      ]
     },
     "execution_count": 21,
     "metadata": {},
     "output_type": "execute_result"
    }
   ],
   "source": [
    "colnames=[\"label\",\"sumamnt_ma_rech90\",\"daily_decr90\",\"sumamnt_ma_rech30\",\"daily_decr30\",\"rental90\",\"medianamnt_ma_rech30\",\"last_rech_amt_ma\",\"medianamnt_ma_rech90\",\"rental30\",\"medianmarechprebal30\",\"aon\",\"medianmarechprebal90\",\"amnt_loans90\",\"cnt_da_rech30\",\"amnt_loans30\",\"cnt_ma_rech90\",\"cnt_ma_rech30\",\"last_rech_date_ma\",\"fr_ma_rech30\",\"fr_ma_rech90\"]\n",
    "len(colnames)"
   ]
  },
  {
   "cell_type": "code",
   "execution_count": 22,
   "id": "15689dab",
   "metadata": {},
   "outputs": [
    {
     "data": {
      "image/png": "[encoded data removed]",
      "text/plain": [
       "<Figure size 864x576 with 9 Axes>"
      ]
     },
     "metadata": {
      "needs_background": "light"
     },
     "output_type": "display_data"
    }
   ],
   "source": [
    "df.iloc[:,0:10].hist(figsize=(12,8))\n",
    "plt.xticks(rotation=90)\n",
    "plt.show()"
   ]
  },
  {
   "cell_type": "code",
   "execution_count": 23,
   "id": "2bd0f08c",
   "metadata": {},
   "outputs": [
    {
     "data": {
      "image/png": "[encoded data removed]",
      "text/plain": [
       "<Figure size 1008x720 with 12 Axes>"
      ]
     },
     "metadata": {
      "needs_background": "light"
     },
     "output_type": "display_data"
    }
   ],
   "source": [
    "df.iloc[:,10:20].hist(figsize=(14,10))\n",
    "plt.xticks(rotation=90)\n",
    "plt.show()"
   ]
  },
  {
   "cell_type": "code",
   "execution_count": 24,
   "id": "4cbfbfbd",
   "metadata": {},
   "outputs": [
    {
     "data": {
      "image/png": "[encoded data removed]",
      "text/plain": [
       "<Figure size 1152x864 with 16 Axes>"
      ]
     },
     "metadata": {
      "needs_background": "light"
     },
     "output_type": "display_data"
    }
   ],
   "source": [
    "df.iloc[:,20:35].hist(figsize=(16,12))\n",
    "plt.xticks(rotation=90)\n",
    "plt.show()"
   ]
  },
  {
   "cell_type": "code",
   "execution_count": 25,
   "id": "0714032d",
   "metadata": {},
   "outputs": [
    {
     "data": {
      "text/html": [
       "<div>\n",
       "<style scoped>\n",
       "    .dataframe tbody tr th:only-of-type {\n",
       "        vertical-align: middle;\n",
       "    }\n",
       "\n",
       "    .dataframe tbody tr th {\n",
       "        vertical-align: top;\n",
       "    }\n",
       "\n",
       "    .dataframe thead th {\n",
       "        text-align: right;\n",
       "    }\n",
       "</style>\n",
       "<table border=\"1\" class=\"dataframe\">\n",
       "  <thead>\n",
       "    <tr style=\"text-align: right;\">\n",
       "      <th></th>\n",
       "      <th>sumamnt_ma_rech90</th>\n",
       "      <th>daily_decr90</th>\n",
       "      <th>sumamnt_ma_rech30</th>\n",
       "      <th>daily_decr30</th>\n",
       "      <th>rental90</th>\n",
       "      <th>medianamnt_ma_rech30</th>\n",
       "      <th>last_rech_amt_ma</th>\n",
       "      <th>medianamnt_ma_rech90</th>\n",
       "      <th>rental30</th>\n",
       "      <th>medianmarechprebal30</th>\n",
       "      <th>aon</th>\n",
       "      <th>medianmarechprebal90</th>\n",
       "      <th>amnt_loans90</th>\n",
       "      <th>cnt_da_rech30</th>\n",
       "      <th>amnt_loans30</th>\n",
       "      <th>cnt_ma_rech90</th>\n",
       "      <th>cnt_ma_rech30</th>\n",
       "      <th>last_rech_date_ma</th>\n",
       "      <th>fr_ma_rech30</th>\n",
       "      <th>fr_ma_rech90</th>\n",
       "    </tr>\n",
       "  </thead>\n",
       "  <tbody>\n",
       "    <tr>\n",
       "      <th>0</th>\n",
       "      <td>3078</td>\n",
       "      <td>3065.150000</td>\n",
       "      <td>3078.0</td>\n",
       "      <td>3055.050000</td>\n",
       "      <td>260.13</td>\n",
       "      <td>1539.0</td>\n",
       "      <td>1539</td>\n",
       "      <td>1539.0</td>\n",
       "      <td>220.13</td>\n",
       "      <td>7.50</td>\n",
       "      <td>272.0</td>\n",
       "      <td>7.50</td>\n",
       "      <td>12</td>\n",
       "      <td>0.0</td>\n",
       "      <td>12</td>\n",
       "      <td>2</td>\n",
       "      <td>2</td>\n",
       "      <td>2.0</td>\n",
       "      <td>21.0</td>\n",
       "      <td>21</td>\n",
       "    </tr>\n",
       "    <tr>\n",
       "      <th>1</th>\n",
       "      <td>5787</td>\n",
       "      <td>12124.750000</td>\n",
       "      <td>5787.0</td>\n",
       "      <td>12122.000000</td>\n",
       "      <td>3691.26</td>\n",
       "      <td>5787.0</td>\n",
       "      <td>5787</td>\n",
       "      <td>5787.0</td>\n",
       "      <td>3691.26</td>\n",
       "      <td>61.04</td>\n",
       "      <td>712.0</td>\n",
       "      <td>61.04</td>\n",
       "      <td>12</td>\n",
       "      <td>0.0</td>\n",
       "      <td>12</td>\n",
       "      <td>1</td>\n",
       "      <td>1</td>\n",
       "      <td>20.0</td>\n",
       "      <td>0.0</td>\n",
       "      <td>0</td>\n",
       "    </tr>\n",
       "    <tr>\n",
       "      <th>2</th>\n",
       "      <td>1539</td>\n",
       "      <td>1398.000000</td>\n",
       "      <td>1539.0</td>\n",
       "      <td>1398.000000</td>\n",
       "      <td>900.13</td>\n",
       "      <td>1539.0</td>\n",
       "      <td>1539</td>\n",
       "      <td>1539.0</td>\n",
       "      <td>900.13</td>\n",
       "      <td>66.32</td>\n",
       "      <td>535.0</td>\n",
       "      <td>66.32</td>\n",
       "      <td>6</td>\n",
       "      <td>0.0</td>\n",
       "      <td>6</td>\n",
       "      <td>1</td>\n",
       "      <td>1</td>\n",
       "      <td>3.0</td>\n",
       "      <td>0.0</td>\n",
       "      <td>0</td>\n",
       "    </tr>\n",
       "    <tr>\n",
       "      <th>3</th>\n",
       "      <td>947</td>\n",
       "      <td>21.228000</td>\n",
       "      <td>0.0</td>\n",
       "      <td>21.228000</td>\n",
       "      <td>159.42</td>\n",
       "      <td>0.0</td>\n",
       "      <td>947</td>\n",
       "      <td>947.0</td>\n",
       "      <td>159.42</td>\n",
       "      <td>0.00</td>\n",
       "      <td>241.0</td>\n",
       "      <td>2.50</td>\n",
       "      <td>12</td>\n",
       "      <td>0.0</td>\n",
       "      <td>12</td>\n",
       "      <td>1</td>\n",
       "      <td>0</td>\n",
       "      <td>41.0</td>\n",
       "      <td>0.0</td>\n",
       "      <td>0</td>\n",
       "    </tr>\n",
       "    <tr>\n",
       "      <th>4</th>\n",
       "      <td>23496</td>\n",
       "      <td>150.619333</td>\n",
       "      <td>20029.0</td>\n",
       "      <td>150.619333</td>\n",
       "      <td>1098.90</td>\n",
       "      <td>2309.0</td>\n",
       "      <td>2309</td>\n",
       "      <td>2888.0</td>\n",
       "      <td>1098.90</td>\n",
       "      <td>29.00</td>\n",
       "      <td>947.0</td>\n",
       "      <td>35.00</td>\n",
       "      <td>42</td>\n",
       "      <td>0.0</td>\n",
       "      <td>42</td>\n",
       "      <td>8</td>\n",
       "      <td>7</td>\n",
       "      <td>4.0</td>\n",
       "      <td>2.0</td>\n",
       "      <td>2</td>\n",
       "    </tr>\n",
       "  </tbody>\n",
       "</table>\n",
       "</div>"
      ],
      "text/plain": [
       "   sumamnt_ma_rech90  daily_decr90  sumamnt_ma_rech30  daily_decr30  rental90  \\\n",
       "0               3078   3065.150000             3078.0   3055.050000    260.13   \n",
       "1               5787  12124.750000             5787.0  12122.000000   3691.26   \n",
       "2               1539   1398.000000             1539.0   1398.000000    900.13   \n",
       "3                947     21.228000                0.0     21.228000    159.42   \n",
       "4              23496    150.619333            20029.0    150.619333   1098.90   \n",
       "\n",
       "   medianamnt_ma_rech30  last_rech_amt_ma  medianamnt_ma_rech90  rental30  \\\n",
       "0                1539.0              1539                1539.0    220.13   \n",
       "1                5787.0              5787                5787.0   3691.26   \n",
       "2                1539.0              1539                1539.0    900.13   \n",
       "3                   0.0               947                 947.0    159.42   \n",
       "4                2309.0              2309                2888.0   1098.90   \n",
       "\n",
       "   medianmarechprebal30    aon  medianmarechprebal90  amnt_loans90  \\\n",
       "0                  7.50  272.0                  7.50            12   \n",
       "1                 61.04  712.0                 61.04            12   \n",
       "2                 66.32  535.0                 66.32             6   \n",
       "3                  0.00  241.0                  2.50            12   \n",
       "4                 29.00  947.0                 35.00            42   \n",
       "\n",
       "   cnt_da_rech30  amnt_loans30  cnt_ma_rech90  cnt_ma_rech30  \\\n",
       "0            0.0            12              2              2   \n",
       "1            0.0            12              1              1   \n",
       "2            0.0             6              1              1   \n",
       "3            0.0            12              1              0   \n",
       "4            0.0            42              8              7   \n",
       "\n",
       "   last_rech_date_ma  fr_ma_rech30  fr_ma_rech90  \n",
       "0                2.0          21.0            21  \n",
       "1               20.0           0.0             0  \n",
       "2                3.0           0.0             0  \n",
       "3               41.0           0.0             0  \n",
       "4                4.0           2.0             2  "
      ]
     },
     "execution_count": 25,
     "metadata": {},
     "output_type": "execute_result"
    }
   ],
   "source": [
    "#filter dataframe to only import important values\n",
    "data=df[colnames]  #includes target variable, label\n",
    "df1=data.iloc[:,1:]     #does not include target variable, label\n",
    "df1.head()"
   ]
  },
  {
   "cell_type": "code",
   "execution_count": 26,
   "id": "76142119",
   "metadata": {},
   "outputs": [],
   "source": [
    "from sklearn.preprocessing import MinMaxScaler\n",
    "scaler= MinMaxScaler()\n",
    "scaled_values= scaler.fit_transform(df1)\n",
    "df1.loc[:,:]= scaled_values"
   ]
  },
  {
   "cell_type": "code",
   "execution_count": 27,
   "id": "64abef4d",
   "metadata": {},
   "outputs": [],
   "source": [
    "from sklearn.model_selection import train_test_split\n",
    "from sklearn.linear_model import LogisticRegression\n",
    "from sklearn.metrics import accuracy_score, confusion_matrix, classification_report"
   ]
  },
  {
   "cell_type": "code",
   "execution_count": 28,
   "id": "6122043c",
   "metadata": {},
   "outputs": [],
   "source": [
    "x=df.iloc[:,2:34]\n",
    "y=df.iloc[:,0]\n",
    "x_train, x_test, y_train, y_test = train_test_split(x, y, test_size = 0.3, random_state = 0)"
   ]
  },
  {
   "cell_type": "code",
   "execution_count": 29,
   "id": "ce3c9c23",
   "metadata": {},
   "outputs": [
    {
     "name": "stdout",
     "output_type": "stream",
     "text": [
      "0.8676166544737428\n",
      "[[ 1533  6369]\n",
      " [ 1955 53021]]\n",
      "              precision    recall  f1-score   support\n",
      "\n",
      "           0       0.44      0.19      0.27      7902\n",
      "           1       0.89      0.96      0.93     54976\n",
      "\n",
      "    accuracy                           0.87     62878\n",
      "   macro avg       0.67      0.58      0.60     62878\n",
      "weighted avg       0.84      0.87      0.84     62878\n",
      "\n"
     ]
    }
   ],
   "source": [
    "lr= LogisticRegression()\n",
    "lr.fit(x_train, y_train)\n",
    "predlr= lr.predict(x_test)\n",
    "print(accuracy_score(y_test, predlr))\n",
    "print(confusion_matrix(y_test, predlr))\n",
    "print(classification_report(y_test, predlr))"
   ]
  },
  {
   "cell_type": "code",
   "execution_count": 30,
   "id": "163334aa",
   "metadata": {},
   "outputs": [
    {
     "name": "stdout",
     "output_type": "stream",
     "text": [
      "Before OverSampling, counts of label '1': 128455\n",
      "Before OverSampling, counts of label '0': 18260 \n",
      "\n",
      "After OverSampling, the shape of train_X: (256910, 32)\n",
      "After OverSampling, the shape of train_y: (256910,) \n",
      "\n",
      "After OverSampling, counts of label '1': 128455\n",
      "After OverSampling, counts of label '0': 128455\n"
     ]
    }
   ],
   "source": [
    "print(\"Before OverSampling, counts of label '1': {}\".format(sum(y_train == 1))) \n",
    "print(\"Before OverSampling, counts of label '0': {} \\n\".format(sum(y_train == 0))) \n",
    "  \n",
    "# import SMOTE module from imblearn library \n",
    "\n",
    "from imblearn.over_sampling import SMOTE \n",
    "sm = SMOTE(random_state = 2) \n",
    "x_train, y_train = sm.fit_resample(x_train, y_train.ravel()) \n",
    "  \n",
    "print('After OverSampling, the shape of train_X: {}'.format(x_train.shape)) \n",
    "print('After OverSampling, the shape of train_y: {} \\n'.format(y_train.shape)) \n",
    "  \n",
    "print(\"After OverSampling, counts of label '1': {}\".format(sum(y_train == 1))) \n",
    "print(\"After OverSampling, counts of label '0': {}\".format(sum(y_train == 0))) "
   ]
  },
  {
   "cell_type": "code",
   "execution_count": 31,
   "id": "c7f37f20",
   "metadata": {},
   "outputs": [
    {
     "name": "stdout",
     "output_type": "stream",
     "text": [
      "0.7635261935812208\n",
      "[[ 5168  2734]\n",
      " [12135 42841]]\n",
      "              precision    recall  f1-score   support\n",
      "\n",
      "           0       0.30      0.65      0.41      7902\n",
      "           1       0.94      0.78      0.85     54976\n",
      "\n",
      "    accuracy                           0.76     62878\n",
      "   macro avg       0.62      0.72      0.63     62878\n",
      "weighted avg       0.86      0.76      0.80     62878\n",
      "\n"
     ]
    }
   ],
   "source": [
    "from sklearn.neighbors import KNeighborsClassifier\n",
    "knc=KNeighborsClassifier()\n",
    "knc.fit(x_train, y_train)\n",
    "predknc= knc.predict(x_test)\n",
    "print(accuracy_score(y_test, predknc))\n",
    "print(confusion_matrix(y_test, predknc))\n",
    "print(classification_report(y_test, predknc))"
   ]
  },
  {
   "cell_type": "code",
   "execution_count": 32,
   "id": "4f707e6e",
   "metadata": {},
   "outputs": [
    {
     "name": "stdout",
     "output_type": "stream",
     "text": [
      "0.9019847959540698\n",
      "[[ 4387  3515]\n",
      " [ 2648 52328]]\n",
      "              precision    recall  f1-score   support\n",
      "\n",
      "           0       0.62      0.56      0.59      7902\n",
      "           1       0.94      0.95      0.94     54976\n",
      "\n",
      "    accuracy                           0.90     62878\n",
      "   macro avg       0.78      0.75      0.77     62878\n",
      "weighted avg       0.90      0.90      0.90     62878\n",
      "\n"
     ]
    }
   ],
   "source": [
    "from sklearn.ensemble import RandomForestClassifier\n",
    "rf= RandomForestClassifier()\n",
    "rf.fit(x_train, y_train)\n",
    "predrf= rf.predict(x_test)\n",
    "print(accuracy_score(y_test, predrf))\n",
    "print(confusion_matrix(y_test, predrf))\n",
    "print(classification_report(y_test, predrf))"
   ]
  },
  {
   "cell_type": "code",
   "execution_count": 33,
   "id": "4cd0f6d8",
   "metadata": {},
   "outputs": [
    {
     "name": "stdout",
     "output_type": "stream",
     "text": [
      "0.8534145488088043\n",
      "[[ 4487  3415]\n",
      " [ 5802 49174]]\n",
      "              precision    recall  f1-score   support\n",
      "\n",
      "           0       0.44      0.57      0.49      7902\n",
      "           1       0.94      0.89      0.91     54976\n",
      "\n",
      "    accuracy                           0.85     62878\n",
      "   macro avg       0.69      0.73      0.70     62878\n",
      "weighted avg       0.87      0.85      0.86     62878\n",
      "\n"
     ]
    }
   ],
   "source": [
    "from sklearn.tree import DecisionTreeClassifier\n",
    "dtc= DecisionTreeClassifier()\n",
    "dtc.fit(x_train, y_train)\n",
    "preddtc= dtc.predict(x_test)\n",
    "print(accuracy_score(y_test, preddtc))\n",
    "print(confusion_matrix(y_test, preddtc))\n",
    "print(classification_report(y_test, preddtc))"
   ]
  },
  {
   "cell_type": "code",
   "execution_count": 37,
   "id": "b531a1ec",
   "metadata": {},
   "outputs": [],
   "source": [
    "from sklearn.metrics import roc_curve\n",
    "from sklearn.metrics import roc_auc_score"
   ]
  },
  {
   "cell_type": "code",
   "execution_count": 38,
   "id": "3a3b966d",
   "metadata": {},
   "outputs": [
    {
     "data": {
      "text/plain": [
       "array([0.96, 0.95, 0.19, ..., 0.98, 0.89, 1.  ])"
      ]
     },
     "execution_count": 38,
     "metadata": {},
     "output_type": "execute_result"
    }
   ],
   "source": [
    "y=rf.predict_proba(x_test)[:,1]\n",
    "y"
   ]
  },
  {
   "cell_type": "code",
   "execution_count": 49,
   "id": "f76a196e",
   "metadata": {},
   "outputs": [],
   "source": [
    "fpr, tpr, threshold= roc_curve(y_test,y)"
   ]
  },
  {
   "cell_type": "code",
   "execution_count": 40,
   "id": "833c75e8",
   "metadata": {},
   "outputs": [
    {
     "data": {
      "text/plain": [
       "array([0.        , 0.00354341, 0.00873197, 0.01670463, 0.02505695,\n",
       "       0.0251835 , 0.03454822, 0.04505189, 0.05277145, 0.06314857,\n",
       "       0.07517084, 0.08630726, 0.09681093, 0.1060491 , 0.11667932,\n",
       "       0.12730954, 0.13692736, 0.14831688, 0.15932675, 0.16894457,\n",
       "       0.16894457, 0.1815996 , 0.19387497, 0.19387497, 0.20323969,\n",
       "       0.21349026, 0.21349026, 0.22450013, 0.22462668, 0.2365224 ,\n",
       "       0.2365224 , 0.24576057, 0.25461908, 0.26449   , 0.26449   ,\n",
       "       0.27372817, 0.27372817, 0.28208049, 0.28220704, 0.29321691,\n",
       "       0.30232852, 0.30232852, 0.31004809, 0.31017464, 0.3178942 ,\n",
       "       0.32700582, 0.32713237, 0.33573779, 0.33586434, 0.34472285,\n",
       "       0.35307517, 0.36066819, 0.3692736 , 0.36940015, 0.37674007,\n",
       "       0.37674007, 0.38395343, 0.38420653, 0.39129334, 0.39129334,\n",
       "       0.39141989, 0.39951911, 0.40597317, 0.41242723, 0.41242723,\n",
       "       0.41255378, 0.4196406 , 0.42609466, 0.43153632, 0.43824348,\n",
       "       0.43837003, 0.4448241 , 0.45216401, 0.45216401, 0.45773222,\n",
       "       0.45785877, 0.46330043, 0.46355353, 0.46975449, 0.46975449,\n",
       "       0.47544925, 0.4755758 , 0.48000506, 0.48025816, 0.48038471,\n",
       "       0.48696533, 0.48709188, 0.49367249, 0.49379904, 0.49379904,\n",
       "       0.49392559, 0.4989876 , 0.49911415, 0.50531511, 0.51025057,\n",
       "       0.51037712, 0.51050367, 0.51759048, 0.51784358, 0.51784358,\n",
       "       0.5251835 , 0.53037206, 0.53720577, 0.54112883, 0.54783599,\n",
       "       0.55568211, 0.56378132, 0.57023538, 0.57529739, 0.58099215,\n",
       "       0.58099215, 0.58694002, 0.59352063, 0.59415338, 0.60035434,\n",
       "       0.6068084 , 0.61300936, 0.62047583, 0.62743609, 0.63553531,\n",
       "       0.63566186, 0.64376107, 0.65034169, 0.65046824, 0.65730195,\n",
       "       0.65730195, 0.66540116, 0.67362693, 0.6818527 , 0.68223235,\n",
       "       0.69109086, 0.69956973, 0.70842825, 0.70842825, 0.71829916,\n",
       "       0.72677803, 0.7377879 , 0.74791192, 0.74829157, 0.76082005,\n",
       "       0.77296887, 0.77309542, 0.78511769, 0.78524424, 0.79916477,\n",
       "       0.8143508 , 0.81447735, 0.83421919, 0.83447229, 0.83459884,\n",
       "       0.83485194, 0.83497849, 0.8659833 , 0.8667426 , 1.        ])"
      ]
     },
     "execution_count": 40,
     "metadata": {},
     "output_type": "execute_result"
    }
   ],
   "source": [
    "fpr"
   ]
  },
  {
   "cell_type": "code",
   "execution_count": 41,
   "id": "bcf93acf",
   "metadata": {},
   "outputs": [
    {
     "data": {
      "text/plain": [
       "array([0.        , 0.12372672, 0.22386132, 0.30411452, 0.37130748,\n",
       "       0.37130748, 0.42634968, 0.47695358, 0.51999054, 0.55711583,\n",
       "       0.59076688, 0.62087093, 0.64786452, 0.67227517, 0.693539  ,\n",
       "       0.71411161, 0.73235594, 0.75012733, 0.76517026, 0.77908542,\n",
       "       0.77910361, 0.79196377, 0.80420547, 0.80422366, 0.81522846,\n",
       "       0.82523283, 0.8252874 , 0.83532814, 0.83532814, 0.84371362,\n",
       "       0.84375   , 0.85242651, 0.8602663 , 0.86757858, 0.86761496,\n",
       "       0.87419965, 0.87421784, 0.88111176, 0.88111176, 0.88642317,\n",
       "       0.89177095, 0.89178914, 0.89657305, 0.89657305, 0.90142971,\n",
       "       0.90537689, 0.90537689, 0.90977881, 0.90977881, 0.91356228,\n",
       "       0.9172548 , 0.9204562 , 0.92402139, 0.92402139, 0.92696813,\n",
       "       0.92700451, 0.92987849, 0.92987849, 0.93271609, 0.93273428,\n",
       "       0.93273428, 0.93544456, 0.93795474, 0.94053769, 0.94055588,\n",
       "       0.94055588, 0.94302969, 0.94521246, 0.94764988, 0.94986903,\n",
       "       0.94988722, 0.95183353, 0.95354336, 0.95356155, 0.95514406,\n",
       "       0.95514406, 0.9564901 , 0.9564901 , 0.95807261, 0.9580908 ,\n",
       "       0.9593459 , 0.9593459 , 0.96085565, 0.96085565, 0.96085565,\n",
       "       0.96245634, 0.96245634, 0.96358411, 0.9636023 , 0.96362049,\n",
       "       0.96362049, 0.96498472, 0.96500291, 0.96622162, 0.96724025,\n",
       "       0.96724025, 0.96725844, 0.96842258, 0.96842258, 0.96844077,\n",
       "       0.96962311, 0.97093277, 0.9717695 , 0.97275175, 0.97377037,\n",
       "       0.97520736, 0.97613504, 0.97715367, 0.97795402, 0.97879075,\n",
       "       0.97880893, 0.97988213, 0.98079162, 0.98079162, 0.98155559,\n",
       "       0.98231956, 0.98315629, 0.98382931, 0.98448414, 0.98524811,\n",
       "       0.98524811, 0.98603027, 0.98697614, 0.98697614, 0.98764916,\n",
       "       0.98766735, 0.98835856, 0.98879511, 0.9895227 , 0.9895227 ,\n",
       "       0.99015934, 0.99090512, 0.99148719, 0.99150538, 0.99196013,\n",
       "       0.99241487, 0.9930697 , 0.99381548, 0.99381548, 0.99461583,\n",
       "       0.99523428, 0.99523428, 0.99570722, 0.99570722, 0.99636205,\n",
       "       0.99676222, 0.99676222, 0.9973443 , 0.9973443 , 0.9973443 ,\n",
       "       0.9973443 , 0.9973443 , 0.99810827, 0.99810827, 1.        ])"
      ]
     },
     "execution_count": 41,
     "metadata": {},
     "output_type": "execute_result"
    }
   ],
   "source": [
    "tpr"
   ]
  },
  {
   "cell_type": "code",
   "execution_count": 42,
   "id": "bfea8678",
   "metadata": {},
   "outputs": [
    {
     "data": {
      "text/plain": [
       "array([2.00000000e+00, 1.00000000e+00, 9.90000000e-01, 9.80000000e-01,\n",
       "       9.70000000e-01, 9.63333333e-01, 9.60000000e-01, 9.50000000e-01,\n",
       "       9.40000000e-01, 9.30000000e-01, 9.20000000e-01, 9.10000000e-01,\n",
       "       9.00000000e-01, 8.90000000e-01, 8.80000000e-01, 8.70000000e-01,\n",
       "       8.60000000e-01, 8.50000000e-01, 8.40000000e-01, 8.30000000e-01,\n",
       "       8.25000000e-01, 8.20000000e-01, 8.10000000e-01, 8.07500000e-01,\n",
       "       8.00000000e-01, 7.90000000e-01, 7.84444444e-01, 7.80000000e-01,\n",
       "       7.78333333e-01, 7.70000000e-01, 7.63333333e-01, 7.60000000e-01,\n",
       "       7.50000000e-01, 7.40000000e-01, 7.32000000e-01, 7.30000000e-01,\n",
       "       7.27500000e-01, 7.20000000e-01, 7.18333333e-01, 7.10000000e-01,\n",
       "       7.00000000e-01, 6.93111111e-01, 6.90000000e-01, 6.82500000e-01,\n",
       "       6.80000000e-01, 6.70000000e-01, 6.64444444e-01, 6.60000000e-01,\n",
       "       6.55000000e-01, 6.50000000e-01, 6.40000000e-01, 6.30000000e-01,\n",
       "       6.20000000e-01, 6.15000000e-01, 6.10000000e-01, 6.07500000e-01,\n",
       "       6.00000000e-01, 5.92500000e-01, 5.90000000e-01, 5.85000000e-01,\n",
       "       5.84166667e-01, 5.80000000e-01, 5.70000000e-01, 5.60000000e-01,\n",
       "       5.59166667e-01, 5.56666667e-01, 5.50000000e-01, 5.40000000e-01,\n",
       "       5.30000000e-01, 5.20000000e-01, 5.15000000e-01, 5.10000000e-01,\n",
       "       5.00000000e-01, 4.99000000e-01, 4.90000000e-01, 4.80666667e-01,\n",
       "       4.80000000e-01, 4.71214286e-01, 4.70000000e-01, 4.66666667e-01,\n",
       "       4.60000000e-01, 4.56666667e-01, 4.50000000e-01, 4.50000000e-01,\n",
       "       4.40833333e-01, 4.40000000e-01, 4.38166667e-01, 4.30000000e-01,\n",
       "       4.27500000e-01, 4.25000000e-01, 4.21666667e-01, 4.20000000e-01,\n",
       "       4.13666667e-01, 4.10000000e-01, 4.00000000e-01, 3.95000000e-01,\n",
       "       3.91666667e-01, 3.90000000e-01, 3.85500000e-01, 3.85000000e-01,\n",
       "       3.80000000e-01, 3.70000000e-01, 3.60000000e-01, 3.50000000e-01,\n",
       "       3.40000000e-01, 3.30000000e-01, 3.20000000e-01, 3.10000000e-01,\n",
       "       3.00000000e-01, 2.90000000e-01, 2.85000000e-01, 2.80000000e-01,\n",
       "       2.70000000e-01, 2.61685037e-01, 2.60000000e-01, 2.50000000e-01,\n",
       "       2.40000000e-01, 2.30000000e-01, 2.20000000e-01, 2.10000000e-01,\n",
       "       2.04614469e-01, 2.00000000e-01, 1.90000000e-01, 1.89174603e-01,\n",
       "       1.80000000e-01, 1.75000000e-01, 1.70000000e-01, 1.60000000e-01,\n",
       "       1.50000000e-01, 1.47457071e-01, 1.40000000e-01, 1.30000000e-01,\n",
       "       1.20000000e-01, 1.16830118e-01, 1.10000000e-01, 1.00000000e-01,\n",
       "       9.00000000e-02, 8.00000000e-02, 7.66666667e-02, 7.00000000e-02,\n",
       "       6.00000000e-02, 5.20941583e-02, 5.00000000e-02, 4.16745750e-02,\n",
       "       4.00000000e-02, 3.00000000e-02, 2.50000000e-02, 2.00000000e-02,\n",
       "       1.66666667e-02, 1.50000000e-02, 1.33333333e-02, 1.23333333e-02,\n",
       "       1.00000000e-02, 5.88235294e-04, 0.00000000e+00])"
      ]
     },
     "execution_count": 42,
     "metadata": {},
     "output_type": "execute_result"
    }
   ],
   "source": [
    "threshold"
   ]
  },
  {
   "cell_type": "code",
   "execution_count": 45,
   "id": "acf30071",
   "metadata": {},
   "outputs": [
    {
     "data": {
      "image/png": "[encoded data removed]",
      "text/plain": [
       "<Figure size 432x288 with 1 Axes>"
      ]
     },
     "metadata": {
      "needs_background": "light"
     },
     "output_type": "display_data"
    }
   ],
   "source": [
    "plt.plot(fpr,tpr,label='Random Forest Classifier')\n",
    "plt.xlabel('False Positive Rate')\n",
    "plt.ylabel('True Positive Rate')\n",
    "plt.title('Random Forest Classifier')\n",
    "plt.show()"
   ]
  },
  {
   "cell_type": "code",
   "execution_count": 48,
   "id": "f2cda593",
   "metadata": {},
   "outputs": [
    {
     "name": "stdout",
     "output_type": "stream",
     "text": [
      "0.7535047160958057\n"
     ]
    }
   ],
   "source": [
    "score= roc_auc_score(y_test, rf.predict(x_test))\n",
    "print(score)"
   ]
  },
  {
   "cell_type": "code",
   "execution_count": 50,
   "id": "43a84e94",
   "metadata": {},
   "outputs": [
    {
     "data": {
      "text/plain": [
       "array([0.98538973, 0.98888984, 0.59433486, ..., 0.84500968, 0.79828123,\n",
       "       0.6735637 ])"
      ]
     },
     "execution_count": 50,
     "metadata": {},
     "output_type": "execute_result"
    }
   ],
   "source": [
    "y=lr.predict_proba(x_test)[:,1]\n",
    "fpr, tpr, threshold= roc_curve(y_test,y)\n",
    "y"
   ]
  },
  {
   "cell_type": "code",
   "execution_count": 52,
   "id": "4929137c",
   "metadata": {},
   "outputs": [
    {
     "data": {
      "image/png": "[encoded data removed]",
      "text/plain": [
       "<Figure size 432x288 with 1 Axes>"
      ]
     },
     "metadata": {
      "needs_background": "light"
     },
     "output_type": "display_data"
    }
   ],
   "source": [
    "plt.plot(fpr,tpr,label='Logistic Regression')\n",
    "plt.xlabel('False Positive Rate')\n",
    "plt.ylabel('True Positive Rate')\n",
    "plt.title('Logistic Regression')\n",
    "plt.show()"
   ]
  },
  {
   "cell_type": "code",
   "execution_count": 53,
   "id": "279d6486",
   "metadata": {},
   "outputs": [
    {
     "name": "stdout",
     "output_type": "stream",
     "text": [
      "0.5792202732711749\n"
     ]
    }
   ],
   "source": [
    "score= roc_auc_score(y_test, lr.predict(x_test))\n",
    "print(score)"
   ]
  },
  {
   "cell_type": "code",
   "execution_count": 56,
   "id": "3ecd8d97",
   "metadata": {},
   "outputs": [
    {
     "data": {
      "text/plain": [
       "array([1., 1., 0., ..., 1., 1., 1.])"
      ]
     },
     "execution_count": 56,
     "metadata": {},
     "output_type": "execute_result"
    }
   ],
   "source": [
    "y=dtc.predict_proba(x_test)[:,1]\n",
    "fpr, tpr, threshold= roc_curve(y_test,y)\n",
    "y"
   ]
  },
  {
   "cell_type": "code",
   "execution_count": 57,
   "id": "8d2ca381",
   "metadata": {},
   "outputs": [
    {
     "data": {
      "image/png": "[encoded data removed]",
      "text/plain": [
       "<Figure size 432x288 with 1 Axes>"
      ]
     },
     "metadata": {
      "needs_background": "light"
     },
     "output_type": "display_data"
    }
   ],
   "source": [
    "plt.plot(fpr,tpr,label='Decision Tree Classifier')\n",
    "plt.xlabel('False Positive Rate')\n",
    "plt.ylabel('True Positive Rate')\n",
    "plt.title('Decision Tree Classifier')\n",
    "plt.show()"
   ]
  },
  {
   "cell_type": "code",
   "execution_count": 58,
   "id": "bc6084e6",
   "metadata": {},
   "outputs": [
    {
     "name": "stdout",
     "output_type": "stream",
     "text": [
      "0.7311469836477642\n"
     ]
    }
   ],
   "source": [
    "score= roc_auc_score(y_test, dtc.predict(x_test))\n",
    "print(score)"
   ]
  },
  {
   "cell_type": "markdown",
   "id": "e9b7f79a",
   "metadata": {},
   "source": [
    "Hence, we got the best accuracy with Random Forest Classifier."
   ]
  },
  {
   "cell_type": "code",
   "execution_count": null,
   "id": "fd6bc911",
   "metadata": {},
   "outputs": [],
   "source": []
  }
 ],
 "metadata": {
  "kernelspec": {
   "display_name": "Python 3",
   "language": "python",
   "name": "python3"
  },
  "language_info": {
   "codemirror_mode": {
    "name": "ipython",
    "version": 3
   },
   "file_extension": ".py",
   "mimetype": "text/x-python",
   "name": "python",
   "nbconvert_exporter": "python",
   "pygments_lexer": "ipython3",
   "version": "3.8.8"
  }
 },
 "nbformat": 4,
 "nbformat_minor": 5
}
